{
 "cells": [
  {
   "cell_type": "markdown",
   "id": "8d9c68d0-86bf-4c96-9300-7bd205389c75",
   "metadata": {},
   "source": [
    "# Olfactory Projection Fibers (OP_2)"
   ]
  },
  {
   "cell_type": "code",
   "execution_count": 1,
   "id": "06e6eb59-cfa1-48b1-84fc-78801236fc67",
   "metadata": {
    "editable": true,
    "execution": {
     "iopub.execute_input": "2024-11-07T19:59:34.884394Z",
     "iopub.status.busy": "2024-11-07T19:59:34.882913Z",
     "iopub.status.idle": "2024-11-07T19:59:35.789313Z",
     "shell.execute_reply": "2024-11-07T19:59:35.787266Z",
     "shell.execute_reply.started": "2024-11-07T19:59:34.884311Z"
    },
    "slideshow": {
     "slide_type": ""
    },
    "tags": []
   },
   "outputs": [],
   "source": [
    "from ip.ios import *\n",
    "from ip.enhancement import *\n",
    "from ip.binary import *\n",
    "from ip.graph_nx import *\n",
    "from ip.swc import *\n",
    "from ip.utils import *\n",
    "from skimage.morphology import skeletonize\n",
    "from skimage.util import img_as_ubyte, img_as_float\n",
    "from scipy import ndimage"
   ]
  },
  {
   "cell_type": "markdown",
   "id": "6d3f26e4-d52c-44a1-a965-3c5e8a5d0a6f",
   "metadata": {},
   "source": [
    "## Read Data"
   ]
  },
  {
   "cell_type": "code",
   "execution_count": 2,
   "id": "cf0d64c0-1994-4053-a26f-a92f38ff4e0d",
   "metadata": {
    "execution": {
     "iopub.execute_input": "2024-11-07T19:59:35.793839Z",
     "iopub.status.busy": "2024-11-07T19:59:35.792244Z",
     "iopub.status.idle": "2024-11-07T19:59:35.800587Z",
     "shell.execute_reply": "2024-11-07T19:59:35.798525Z",
     "shell.execute_reply.started": "2024-11-07T19:59:35.793108Z"
    }
   },
   "outputs": [],
   "source": [
    "folder_path = \"./OlfactoryProjectionFibers/ImageStacks/OP_2\""
   ]
  },
  {
   "cell_type": "code",
   "execution_count": 3,
   "id": "638fb640-1704-4f9f-ac4c-6bbb5a00849d",
   "metadata": {
    "execution": {
     "iopub.execute_input": "2024-11-07T19:59:35.808955Z",
     "iopub.status.busy": "2024-11-07T19:59:35.808095Z",
     "iopub.status.idle": "2024-11-07T19:59:35.868248Z",
     "shell.execute_reply": "2024-11-07T19:59:35.866076Z",
     "shell.execute_reply.started": "2024-11-07T19:59:35.808874Z"
    }
   },
   "outputs": [],
   "source": [
    "images = load_tif_stack(folder_path)"
   ]
  },
  {
   "cell_type": "code",
   "execution_count": 4,
   "id": "acaf9ec7-e010-4201-8921-e82486bd4a19",
   "metadata": {
    "execution": {
     "iopub.execute_input": "2024-11-07T19:59:35.874683Z",
     "iopub.status.busy": "2024-11-07T19:59:35.873830Z",
     "iopub.status.idle": "2024-11-07T19:59:35.975358Z",
     "shell.execute_reply": "2024-11-07T19:59:35.953506Z",
     "shell.execute_reply.started": "2024-11-07T19:59:35.874544Z"
    }
   },
   "outputs": [],
   "source": [
    "imgFloat = img_as_float(images)"
   ]
  },
  {
   "cell_type": "markdown",
   "id": "f9f90343-f1a4-4201-af28-54988b120c78",
   "metadata": {},
   "source": [
    "## Code Process and Execution"
   ]
  },
  {
   "cell_type": "code",
   "execution_count": 5,
   "id": "d61b8e70-6757-4507-9980-61da24e20db2",
   "metadata": {
    "execution": {
     "iopub.execute_input": "2024-11-07T19:59:35.985172Z",
     "iopub.status.busy": "2024-11-07T19:59:35.984402Z",
     "iopub.status.idle": "2024-11-07T19:59:40.561973Z",
     "shell.execute_reply": "2024-11-07T19:59:40.555065Z",
     "shell.execute_reply.started": "2024-11-07T19:59:35.985076Z"
    }
   },
   "outputs": [],
   "source": [
    "filtered = ndimage.median_filter(imgFloat, size=5)\n",
    "filtered = img_as_ubyte(filtered)"
   ]
  },
  {
   "cell_type": "code",
   "execution_count": 6,
   "id": "330aabd8-1989-43c0-b145-67dc471c84b3",
   "metadata": {
    "execution": {
     "iopub.execute_input": "2024-11-07T19:59:40.566965Z",
     "iopub.status.busy": "2024-11-07T19:59:40.566270Z",
     "iopub.status.idle": "2024-11-07T19:59:40.576225Z",
     "shell.execute_reply": "2024-11-07T19:59:40.573216Z",
     "shell.execute_reply.started": "2024-11-07T19:59:40.566884Z"
    }
   },
   "outputs": [],
   "source": [
    "#simple_imshow([blended(filtered), blended(filteredGAU),blended(filteredMIN)])"
   ]
  },
  {
   "cell_type": "code",
   "execution_count": 7,
   "id": "6594269d-99a6-464b-82b8-c76913da94d3",
   "metadata": {
    "execution": {
     "iopub.execute_input": "2024-11-07T19:59:40.580591Z",
     "iopub.status.busy": "2024-11-07T19:59:40.579397Z",
     "iopub.status.idle": "2024-11-07T19:59:40.587869Z",
     "shell.execute_reply": "2024-11-07T19:59:40.585533Z",
     "shell.execute_reply.started": "2024-11-07T19:59:40.580501Z"
    }
   },
   "outputs": [],
   "source": [
    "#slide_imshow(filteredGAU)"
   ]
  },
  {
   "cell_type": "code",
   "execution_count": 8,
   "id": "a206fb2c-871f-4145-827b-2fe6c0a72791",
   "metadata": {
    "execution": {
     "iopub.execute_input": "2024-11-07T19:59:40.591523Z",
     "iopub.status.busy": "2024-11-07T19:59:40.590696Z",
     "iopub.status.idle": "2024-11-07T19:59:40.631620Z",
     "shell.execute_reply": "2024-11-07T19:59:40.629709Z",
     "shell.execute_reply.started": "2024-11-07T19:59:40.591431Z"
    }
   },
   "outputs": [],
   "source": [
    "threshold2 = mean_threshold(filtered)\n",
    "binary2 = simple_binary(filtered, threshold2)\n",
    "# seg2 = segment(filtered, binary2)\n",
    "# threshold2 = mean_threshold(seg2)\n",
    "# binary2 = simple_binary(seg2, threshold2)"
   ]
  },
  {
   "cell_type": "code",
   "execution_count": 9,
   "id": "1fc85234-9525-45ff-a0e3-0356a0a837dc",
   "metadata": {
    "execution": {
     "iopub.execute_input": "2024-11-07T19:59:40.639246Z",
     "iopub.status.busy": "2024-11-07T19:59:40.638209Z",
     "iopub.status.idle": "2024-11-07T19:59:41.561558Z",
     "shell.execute_reply": "2024-11-07T19:59:41.559634Z",
     "shell.execute_reply.started": "2024-11-07T19:59:40.638849Z"
    }
   },
   "outputs": [],
   "source": [
    "er = img_as_ubyte(ndimage.binary_erosion(binary2))\n",
    "skel2 = img_as_ubyte(skeletonize(er))"
   ]
  },
  {
   "cell_type": "code",
   "execution_count": 10,
   "id": "6c775292-4963-403f-9ff7-3f10142c563f",
   "metadata": {
    "execution": {
     "iopub.execute_input": "2024-11-07T19:59:41.565903Z",
     "iopub.status.busy": "2024-11-07T19:59:41.564508Z",
     "iopub.status.idle": "2024-11-07T19:59:41.572584Z",
     "shell.execute_reply": "2024-11-07T19:59:41.570557Z",
     "shell.execute_reply.started": "2024-11-07T19:59:41.565806Z"
    }
   },
   "outputs": [],
   "source": [
    "#slide_imshow(skel1)"
   ]
  },
  {
   "cell_type": "markdown",
   "id": "214507ef-85f9-462d-b0ac-dd8288619046",
   "metadata": {},
   "source": [
    "### Graph generation"
   ]
  },
  {
   "cell_type": "code",
   "execution_count": 11,
   "id": "a2190795-23f8-48db-8297-349cd90fa9a0",
   "metadata": {
    "execution": {
     "iopub.execute_input": "2024-11-07T19:59:41.576766Z",
     "iopub.status.busy": "2024-11-07T19:59:41.575682Z",
     "iopub.status.idle": "2024-11-07T19:59:42.388839Z",
     "shell.execute_reply": "2024-11-07T19:59:42.386597Z",
     "shell.execute_reply.started": "2024-11-07T19:59:41.576518Z"
    }
   },
   "outputs": [
    {
     "name": "stdout",
     "output_type": "stream",
     "text": [
      ">> Graph created\n",
      "OP_1 GOLD STANDARD ROOT: (0.72501, 391.08, 25)\n",
      "TEST ROOT: (1, 391, 26)\n"
     ]
    }
   ],
   "source": [
    "graph = Graph(skel2)\n",
    "graph.set_root((26, 391, 1))\n",
    "graph.create_graph()\n",
    "root = list(graph.get_root())[::-1]\n",
    "g_root = (0.72501,391.08,25)\n",
    "print(f\"OP_1 GOLD STANDARD ROOT: {g_root}\\nTEST ROOT: {tuple(root)}\")"
   ]
  },
  {
   "cell_type": "code",
   "execution_count": 12,
   "id": "8717b56d-4e3f-4dfb-8e85-9d5af2bfd6ce",
   "metadata": {
    "execution": {
     "iopub.execute_input": "2024-11-07T19:59:42.396636Z",
     "iopub.status.busy": "2024-11-07T19:59:42.395051Z",
     "iopub.status.idle": "2024-11-07T19:59:42.598138Z",
     "shell.execute_reply": "2024-11-07T19:59:42.595825Z",
     "shell.execute_reply.started": "2024-11-07T19:59:42.395852Z"
    }
   },
   "outputs": [
    {
     "name": "stdout",
     "output_type": "stream",
     "text": [
      ">> Minimum Spanning Tree Generated\n",
      ">> Minimum Spanning Tree length: 2783\n",
      ">> Depth-First search and labeling complete\n"
     ]
    }
   ],
   "source": [
    "mst = graph.apply_dfs_and_label_nodes()"
   ]
  },
  {
   "cell_type": "code",
   "execution_count": 13,
   "id": "3f8ec471-c980-4503-a33d-9ff22382acfb",
   "metadata": {
    "execution": {
     "iopub.execute_input": "2024-11-07T19:59:42.602133Z",
     "iopub.status.busy": "2024-11-07T19:59:42.601254Z",
     "iopub.status.idle": "2024-11-07T19:59:42.632624Z",
     "shell.execute_reply": "2024-11-07T19:59:42.630332Z",
     "shell.execute_reply.started": "2024-11-07T19:59:42.602021Z"
    }
   },
   "outputs": [
    {
     "name": "stdout",
     "output_type": "stream",
     "text": [
      ">> SWC saved at: ./Test/OP_2test.swc\n"
     ]
    },
    {
     "data": {
      "text/plain": [
       "True"
      ]
     },
     "execution_count": 13,
     "metadata": {},
     "output_type": "execute_result"
    }
   ],
   "source": [
    "graph.save_to_swc(mst,\"./Test/OP_2test.swc\")"
   ]
  },
  {
   "cell_type": "code",
   "execution_count": null,
   "id": "0ffb99bd-062c-43ab-b8d7-dd03a091d1a7",
   "metadata": {},
   "outputs": [],
   "source": []
  },
  {
   "cell_type": "code",
   "execution_count": null,
   "id": "bd9fe095-e280-4be4-a348-21fa652df9d0",
   "metadata": {},
   "outputs": [],
   "source": []
  },
  {
   "cell_type": "code",
   "execution_count": null,
   "id": "0e3ff1de-837a-438f-ab8f-401a4870d19b",
   "metadata": {},
   "outputs": [],
   "source": []
  }
 ],
 "metadata": {
  "kernelspec": {
   "display_name": "Python 3 (ipykernel)",
   "language": "python",
   "name": "python3"
  },
  "language_info": {
   "codemirror_mode": {
    "name": "ipython",
    "version": 3
   },
   "file_extension": ".py",
   "mimetype": "text/x-python",
   "name": "python",
   "nbconvert_exporter": "python",
   "pygments_lexer": "ipython3",
   "version": "3.9.18"
  },
  "toc-autonumbering": false,
  "toc-showcode": false
 },
 "nbformat": 4,
 "nbformat_minor": 5
}
