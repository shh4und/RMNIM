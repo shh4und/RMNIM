{
 "cells": [
  {
   "cell_type": "markdown",
   "id": "325e93d0-9320-4a98-9080-f1f3b7ff7e4d",
   "metadata": {},
   "source": [
    "# Olfactory Projection Fibers (OP_1)"
   ]
  },
  {
   "cell_type": "code",
   "execution_count": 1,
   "id": "06e6eb59-cfa1-48b1-84fc-78801236fc67",
   "metadata": {
    "editable": true,
    "execution": {
     "iopub.execute_input": "2024-06-04T00:32:55.248877Z",
     "iopub.status.busy": "2024-06-04T00:32:55.247596Z",
     "iopub.status.idle": "2024-06-04T00:32:55.953923Z",
     "shell.execute_reply": "2024-06-04T00:32:55.951634Z",
     "shell.execute_reply.started": "2024-06-04T00:32:55.248802Z"
    },
    "slideshow": {
     "slide_type": ""
    },
    "tags": []
   },
   "outputs": [],
   "source": [
    "from ip.ios import *\n",
    "from ip.enhancement import *\n",
    "from ip.binary import *\n",
    "from ip.graph_nx import *\n",
    "from ip.swc import *\n",
    "from ip.split import *\n",
    "from skimage.morphology import skeletonize"
   ]
  },
  {
   "cell_type": "markdown",
   "id": "6d3f26e4-d52c-44a1-a965-3c5e8a5d0a6f",
   "metadata": {},
   "source": [
    "## Read Data"
   ]
  },
  {
   "cell_type": "code",
   "execution_count": 2,
   "id": "cf0d64c0-1994-4053-a26f-a92f38ff4e0d",
   "metadata": {
    "execution": {
     "iopub.execute_input": "2024-06-04T00:32:55.957191Z",
     "iopub.status.busy": "2024-06-04T00:32:55.956310Z",
     "iopub.status.idle": "2024-06-04T00:32:55.963971Z",
     "shell.execute_reply": "2024-06-04T00:32:55.961962Z",
     "shell.execute_reply.started": "2024-06-04T00:32:55.957110Z"
    }
   },
   "outputs": [],
   "source": [
    "folder_path = \"./OlfactoryProjectionFibers/ImageStacks/OP_1\""
   ]
  },
  {
   "cell_type": "code",
   "execution_count": 3,
   "id": "638fb640-1704-4f9f-ac4c-6bbb5a00849d",
   "metadata": {
    "execution": {
     "iopub.execute_input": "2024-06-04T00:32:55.971806Z",
     "iopub.status.busy": "2024-06-04T00:32:55.971002Z",
     "iopub.status.idle": "2024-06-04T00:32:56.012572Z",
     "shell.execute_reply": "2024-06-04T00:32:56.010144Z",
     "shell.execute_reply.started": "2024-06-04T00:32:55.971717Z"
    }
   },
   "outputs": [],
   "source": [
    "images = load_image_stack(folder_path)"
   ]
  },
  {
   "cell_type": "markdown",
   "id": "f9f90343-f1a4-4201-af28-54988b120c78",
   "metadata": {},
   "source": [
    "## Code Process and Execution"
   ]
  },
  {
   "cell_type": "code",
   "execution_count": 4,
   "id": "86f9b64d-8370-4121-ac16-9415ee195b9f",
   "metadata": {
    "execution": {
     "iopub.execute_input": "2024-06-04T00:32:56.019756Z",
     "iopub.status.busy": "2024-06-04T00:32:56.018547Z",
     "iopub.status.idle": "2024-06-04T00:32:56.030751Z",
     "shell.execute_reply": "2024-06-04T00:32:56.028345Z",
     "shell.execute_reply.started": "2024-06-04T00:32:56.019612Z"
    }
   },
   "outputs": [],
   "source": [
    "#split = split_and_process_stack(images, 15, 3)"
   ]
  },
  {
   "cell_type": "code",
   "execution_count": 5,
   "id": "3c3a7210-5ea7-4ac3-a5d2-a43a8ab97746",
   "metadata": {
    "execution": {
     "iopub.execute_input": "2024-06-04T00:32:56.042410Z",
     "iopub.status.busy": "2024-06-04T00:32:56.037943Z",
     "iopub.status.idle": "2024-06-04T00:32:56.288600Z",
     "shell.execute_reply": "2024-06-04T00:32:56.277086Z",
     "shell.execute_reply.started": "2024-06-04T00:32:56.041771Z"
    }
   },
   "outputs": [],
   "source": [
    "threshold1 = mean_threshold(images, 15)\n",
    "binary1 = simple_binary(images, threshold1)\n",
    "seg = segment(images, binary1)\n",
    "denoising = median_blur(seg, 5)\n",
    "threshold2 = mean_threshold(denoising, 15)\n",
    "binary2 = simple_binary(denoising, threshold2)"
   ]
  },
  {
   "cell_type": "code",
   "execution_count": 6,
   "id": "c782d507-4558-42e9-a6d7-14c97ea1dcbc",
   "metadata": {
    "execution": {
     "iopub.execute_input": "2024-06-04T00:32:56.295482Z",
     "iopub.status.busy": "2024-06-04T00:32:56.294537Z",
     "iopub.status.idle": "2024-06-04T00:32:56.584808Z",
     "shell.execute_reply": "2024-06-04T00:32:56.582178Z",
     "shell.execute_reply.started": "2024-06-04T00:32:56.295203Z"
    }
   },
   "outputs": [],
   "source": [
    "skel = skeletonize(binary2)"
   ]
  },
  {
   "cell_type": "code",
   "execution_count": 7,
   "id": "431b4459-fdc1-46c0-bfac-f340a58e691f",
   "metadata": {
    "execution": {
     "iopub.execute_input": "2024-06-04T00:32:56.588396Z",
     "iopub.status.busy": "2024-06-04T00:32:56.587748Z",
     "iopub.status.idle": "2024-06-04T00:32:57.961955Z",
     "shell.execute_reply": "2024-06-04T00:32:57.959425Z",
     "shell.execute_reply.started": "2024-06-04T00:32:56.588314Z"
    }
   },
   "outputs": [
    {
     "name": "stderr",
     "output_type": "stream",
     "text": [
      "qt.qpa.plugin: Could not find the Qt platform plugin \"wayland\" in \"\"\n"
     ]
    },
    {
     "data": {
      "text/plain": [
       "True"
      ]
     },
     "execution_count": 7,
     "metadata": {},
     "output_type": "execute_result"
    }
   ],
   "source": [
    "cv2_imshow(skel[:5])"
   ]
  },
  {
   "cell_type": "code",
   "execution_count": 8,
   "id": "52a5b9c0-ed73-4c74-9d70-01731b028efd",
   "metadata": {
    "execution": {
     "iopub.execute_input": "2024-06-04T00:32:57.965436Z",
     "iopub.status.busy": "2024-06-04T00:32:57.964620Z",
     "iopub.status.idle": "2024-06-04T00:32:57.979232Z",
     "shell.execute_reply": "2024-06-04T00:32:57.976655Z",
     "shell.execute_reply.started": "2024-06-04T00:32:57.965298Z"
    }
   },
   "outputs": [
    {
     "data": {
      "text/plain": [
       "(60, 512, 512)"
      ]
     },
     "execution_count": 8,
     "metadata": {},
     "output_type": "execute_result"
    }
   ],
   "source": [
    "skel.shape"
   ]
  },
  {
   "cell_type": "markdown",
   "id": "6aca20fc-bb84-4c2f-af79-2d3cb56af7de",
   "metadata": {},
   "source": [
    "### For visualization purposes only"
   ]
  },
  {
   "cell_type": "code",
   "execution_count": 9,
   "id": "e7970848-8297-431d-be49-060cc959428f",
   "metadata": {
    "execution": {
     "iopub.execute_input": "2024-06-04T00:32:57.984355Z",
     "iopub.status.busy": "2024-06-04T00:32:57.982850Z",
     "iopub.status.idle": "2024-06-04T00:32:57.992821Z",
     "shell.execute_reply": "2024-06-04T00:32:57.990481Z",
     "shell.execute_reply.started": "2024-06-04T00:32:57.984236Z"
    }
   },
   "outputs": [],
   "source": [
    "# blend = blended(skel)\n",
    "# single_download(blend,\"./SWCs/OP_1.png\")\n",
    "# blend_og = blended(images)\n",
    "# single_download(blend_og,\"./SWCs/OPOG_1.png\")"
   ]
  },
  {
   "cell_type": "markdown",
   "id": "d09f1ca3-750d-4179-9a2f-281ab0c20d4e",
   "metadata": {},
   "source": [
    "### Graph generation"
   ]
  },
  {
   "cell_type": "code",
   "execution_count": 10,
   "id": "2cc66763-3823-4733-a2c0-d171347ac9ce",
   "metadata": {
    "execution": {
     "iopub.execute_input": "2024-06-04T00:32:57.998104Z",
     "iopub.status.busy": "2024-06-04T00:32:57.996557Z",
     "iopub.status.idle": "2024-06-04T00:33:46.852777Z",
     "shell.execute_reply": "2024-06-04T00:33:46.848534Z",
     "shell.execute_reply.started": "2024-06-04T00:32:57.997980Z"
    }
   },
   "outputs": [
    {
     "name": "stdout",
     "output_type": "stream",
     "text": [
      "skipped image0\n",
      "skipped image1\n"
     ]
    },
    {
     "ename": "KeyboardInterrupt",
     "evalue": "",
     "output_type": "error",
     "traceback": [
      "\u001b[0;31m---------------------------------------------------------------------------\u001b[0m",
      "\u001b[0;31mKeyboardInterrupt\u001b[0m                         Traceback (most recent call last)",
      "Cell \u001b[0;32mIn[10], line 3\u001b[0m\n\u001b[1;32m      1\u001b[0m graph \u001b[38;5;241m=\u001b[39m Graph(skel)\n\u001b[1;32m      2\u001b[0m graph\u001b[38;5;241m.\u001b[39mset_root((\u001b[38;5;241m2\u001b[39m, \u001b[38;5;241m429\u001b[39m, \u001b[38;5;241m34\u001b[39m))\n\u001b[0;32m----> 3\u001b[0m \u001b[43mgraph\u001b[49m\u001b[38;5;241;43m.\u001b[39;49m\u001b[43mcreate_graph\u001b[49m\u001b[43m(\u001b[49m\u001b[43m)\u001b[49m\n",
      "File \u001b[0;32m~/pibic/RMNIM/ip/graph_nx.py:30\u001b[0m, in \u001b[0;36mGraph.create_graph\u001b[0;34m(self)\u001b[0m\n\u001b[1;32m     28\u001b[0m \u001b[38;5;28;01mfor\u001b[39;00m y \u001b[38;5;129;01min\u001b[39;00m \u001b[38;5;28mrange\u001b[39m(\u001b[38;5;28mself\u001b[39m\u001b[38;5;241m.\u001b[39mshape[\u001b[38;5;241m1\u001b[39m]):\n\u001b[1;32m     29\u001b[0m     \u001b[38;5;28;01mfor\u001b[39;00m x \u001b[38;5;129;01min\u001b[39;00m \u001b[38;5;28mrange\u001b[39m(\u001b[38;5;28mself\u001b[39m\u001b[38;5;241m.\u001b[39mshape[\u001b[38;5;241m2\u001b[39m]):\n\u001b[0;32m---> 30\u001b[0m         \u001b[38;5;28;01mif\u001b[39;00m \u001b[38;5;28;43mself\u001b[39;49m\u001b[38;5;241;43m.\u001b[39;49m\u001b[43mimage\u001b[49m\u001b[43m[\u001b[49m\u001b[43mz\u001b[49m\u001b[43m,\u001b[49m\u001b[43m \u001b[49m\u001b[43my\u001b[49m\u001b[43m,\u001b[49m\u001b[43m \u001b[49m\u001b[43mx\u001b[49m\u001b[43m]\u001b[49m\u001b[43m \u001b[49m\u001b[38;5;241;43m==\u001b[39;49m\u001b[43m \u001b[49m\u001b[38;5;241;43m0\u001b[39;49m:\n\u001b[1;32m     31\u001b[0m             \u001b[38;5;28;01mcontinue\u001b[39;00m\n\u001b[1;32m     32\u001b[0m         voxel \u001b[38;5;241m=\u001b[39m (z, y, x)\n",
      "File \u001b[0;32m<builtin>/?:5\u001b[0m, in \u001b[0;36manonymous\u001b[0;34m(ovar)\u001b[0m\n",
      "File \u001b[0;32m~/miniforge-pypy3/lib/pypy3.9/_contextvars.py:125\u001b[0m, in \u001b[0;36mContextVar.get\u001b[0;34m(self, default)\u001b[0m\n\u001b[1;32m    123\u001b[0m \u001b[38;5;28;01mif\u001b[39;00m context \u001b[38;5;129;01mis\u001b[39;00m \u001b[38;5;129;01mnot\u001b[39;00m \u001b[38;5;28;01mNone\u001b[39;00m:\n\u001b[1;32m    124\u001b[0m     \u001b[38;5;28;01mtry\u001b[39;00m:\n\u001b[0;32m--> 125\u001b[0m         \u001b[38;5;28;01mreturn\u001b[39;00m \u001b[43mcontext\u001b[49m\u001b[43m[\u001b[49m\u001b[38;5;28;43mself\u001b[39;49m\u001b[43m]\u001b[49m\n\u001b[1;32m    126\u001b[0m     \u001b[38;5;28;01mexcept\u001b[39;00m \u001b[38;5;167;01mKeyError\u001b[39;00m:\n\u001b[1;32m    127\u001b[0m         \u001b[38;5;28;01mpass\u001b[39;00m\n",
      "File \u001b[0;32m~/miniforge-pypy3/lib/pypy3.9/_contextvars.py:63\u001b[0m, in \u001b[0;36mContext.__getitem__\u001b[0;34m(self, var)\u001b[0m\n\u001b[1;32m     61\u001b[0m \u001b[38;5;28;01mif\u001b[39;00m \u001b[38;5;129;01mnot\u001b[39;00m \u001b[38;5;28misinstance\u001b[39m(var, ContextVar):\n\u001b[1;32m     62\u001b[0m     \u001b[38;5;28;01mraise\u001b[39;00m \u001b[38;5;167;01mTypeError\u001b[39;00m(\u001b[38;5;124m\"\u001b[39m\u001b[38;5;124mContextVar key was expected\u001b[39m\u001b[38;5;124m\"\u001b[39m)\n\u001b[0;32m---> 63\u001b[0m \u001b[38;5;28;01mreturn\u001b[39;00m \u001b[38;5;28;43mself\u001b[39;49m\u001b[38;5;241;43m.\u001b[39;49m\u001b[43m_data\u001b[49m\u001b[43m[\u001b[49m\u001b[43mvar\u001b[49m\u001b[43m]\u001b[49m\n",
      "File \u001b[0;32m~/miniforge-pypy3/lib/pypy3.9/_immutables_map.py:568\u001b[0m, in \u001b[0;36mMap.__getitem__\u001b[0;34m(self, key)\u001b[0m\n\u001b[1;32m    567\u001b[0m \u001b[38;5;28;01mdef\u001b[39;00m \u001b[38;5;21m__getitem__\u001b[39m(\u001b[38;5;28mself\u001b[39m, key):\n\u001b[0;32m--> 568\u001b[0m     \u001b[38;5;28;01mreturn\u001b[39;00m \u001b[38;5;28;43mself\u001b[39;49m\u001b[38;5;241;43m.\u001b[39;49m\u001b[43m__root\u001b[49m\u001b[38;5;241;43m.\u001b[39;49m\u001b[43mfind\u001b[49m\u001b[43m(\u001b[49m\u001b[38;5;241;43m0\u001b[39;49m\u001b[43m,\u001b[49m\u001b[43m \u001b[49m\u001b[43mmap_hash\u001b[49m\u001b[43m(\u001b[49m\u001b[43mkey\u001b[49m\u001b[43m)\u001b[49m\u001b[43m,\u001b[49m\u001b[43m \u001b[49m\u001b[43mkey\u001b[49m\u001b[43m)\u001b[49m\n",
      "File \u001b[0;32m~/miniforge-pypy3/lib/pypy3.9/_immutables_map.py:147\u001b[0m, in \u001b[0;36mBitmapNode.find\u001b[0;34m(self, shift, hash, key)\u001b[0m\n\u001b[1;32m    144\u001b[0m bit \u001b[38;5;241m=\u001b[39m map_bitpos(\u001b[38;5;28mhash\u001b[39m, shift)\n\u001b[1;32m    146\u001b[0m \u001b[38;5;28;01mif\u001b[39;00m \u001b[38;5;129;01mnot\u001b[39;00m (\u001b[38;5;28mself\u001b[39m\u001b[38;5;241m.\u001b[39mbitmap \u001b[38;5;241m&\u001b[39m bit):\n\u001b[0;32m--> 147\u001b[0m     \u001b[38;5;28;01mraise\u001b[39;00m \u001b[38;5;167;01mKeyError\u001b[39;00m\n\u001b[1;32m    149\u001b[0m idx \u001b[38;5;241m=\u001b[39m map_bitindex(\u001b[38;5;28mself\u001b[39m\u001b[38;5;241m.\u001b[39mbitmap, bit)\n\u001b[1;32m    150\u001b[0m key_idx \u001b[38;5;241m=\u001b[39m idx \u001b[38;5;241m*\u001b[39m \u001b[38;5;241m2\u001b[39m\n",
      "\u001b[0;31mKeyboardInterrupt\u001b[0m: "
     ]
    }
   ],
   "source": [
    "graph = Graph(skel)\n",
    "graph.set_root((2, 429, 34))\n",
    "graph.create_graph()\n",
    "#OP_1 (X,Y,Z): (30.979,429.04,0)"
   ]
  },
  {
   "cell_type": "code",
   "execution_count": null,
   "id": "6b324488-d9db-420f-b442-28582223ff1e",
   "metadata": {
    "execution": {
     "iopub.status.busy": "2024-06-04T00:33:46.855422Z",
     "iopub.status.idle": "2024-06-04T00:33:46.857235Z",
     "shell.execute_reply": "2024-06-04T00:33:46.856150Z",
     "shell.execute_reply.started": "2024-06-04T00:33:46.856082Z"
    }
   },
   "outputs": [],
   "source": [
    "root = graph.get_root()\n",
    "print(root)"
   ]
  },
  {
   "cell_type": "code",
   "execution_count": null,
   "id": "b10bf5e5-79ae-4efb-8545-9352dbb22c8f",
   "metadata": {
    "execution": {
     "iopub.status.busy": "2024-06-04T00:33:46.860108Z",
     "iopub.status.idle": "2024-06-04T00:33:46.862040Z",
     "shell.execute_reply": "2024-06-04T00:33:46.860723Z",
     "shell.execute_reply.started": "2024-06-04T00:33:46.860658Z"
    }
   },
   "outputs": [],
   "source": [
    "distances, paths = graph.apply_dijkstra()"
   ]
  },
  {
   "cell_type": "code",
   "execution_count": null,
   "id": "09f7b595-e44a-4251-9abb-96f903322bf0",
   "metadata": {
    "execution": {
     "iopub.status.busy": "2024-06-04T00:33:46.864570Z",
     "iopub.status.idle": "2024-06-04T00:33:46.866209Z",
     "shell.execute_reply": "2024-06-04T00:33:46.865315Z",
     "shell.execute_reply.started": "2024-06-04T00:33:46.865247Z"
    }
   },
   "outputs": [],
   "source": [
    "print(len(distances), len(paths))"
   ]
  },
  {
   "cell_type": "code",
   "execution_count": null,
   "id": "687fc6ad-2a7a-4892-8788-fa5d6fa97173",
   "metadata": {
    "execution": {
     "iopub.status.busy": "2024-06-04T00:33:46.869170Z",
     "iopub.status.idle": "2024-06-04T00:33:46.871059Z",
     "shell.execute_reply": "2024-06-04T00:33:46.869822Z",
     "shell.execute_reply.started": "2024-06-04T00:33:46.869755Z"
    }
   },
   "outputs": [],
   "source": [
    "distances"
   ]
  },
  {
   "cell_type": "code",
   "execution_count": null,
   "id": "8750b047-a854-4da2-a6c2-d2cde3fb0878",
   "metadata": {
    "execution": {
     "iopub.status.busy": "2024-06-04T00:33:46.873769Z",
     "iopub.status.idle": "2024-06-04T00:33:46.876030Z",
     "shell.execute_reply": "2024-06-04T00:33:46.874589Z",
     "shell.execute_reply.started": "2024-06-04T00:33:46.874511Z"
    }
   },
   "outputs": [],
   "source": [
    "paths"
   ]
  },
  {
   "cell_type": "code",
   "execution_count": null,
   "id": "7a36d186-03a7-41eb-a152-3631fab6db6e",
   "metadata": {
    "execution": {
     "iopub.status.busy": "2024-06-04T00:33:46.879418Z",
     "iopub.status.idle": "2024-06-04T00:33:46.881577Z",
     "shell.execute_reply": "2024-06-04T00:33:46.880124Z",
     "shell.execute_reply.started": "2024-06-04T00:33:46.880047Z"
    }
   },
   "outputs": [],
   "source": [
    "# swc = SWCFile(\"./SWCs/OP_1.swc\")"
   ]
  },
  {
   "cell_type": "code",
   "execution_count": null,
   "id": "162d3ca6-e449-4b27-9967-d9ded48dbbfe",
   "metadata": {
    "execution": {
     "iopub.status.busy": "2024-06-04T00:33:46.884627Z",
     "iopub.status.idle": "2024-06-04T00:33:46.886726Z",
     "shell.execute_reply": "2024-06-04T00:33:46.885327Z",
     "shell.execute_reply.started": "2024-06-04T00:33:46.885223Z"
    }
   },
   "outputs": [],
   "source": [
    "# for key, item in parents.items():\n",
    "#     z,y,x = key\n",
    "#     z,y,x = float(z),float(y),float(x)\n",
    "#     if item == -1:\n",
    "#         if key == root:\n",
    "#             swc.add_point(labels[key],2,x,y,z,2.0,item)\n",
    "#             continue\n",
    "#         else:\n",
    "#             continue\n",
    "#     swc.add_point(labels[key],2,x,y,z,2.0,labels[item])"
   ]
  },
  {
   "cell_type": "code",
   "execution_count": null,
   "id": "cb403b0e-9aac-483c-83f6-413c4cd1efcc",
   "metadata": {
    "execution": {
     "iopub.status.busy": "2024-06-04T00:33:46.890705Z",
     "iopub.status.idle": "2024-06-04T00:33:46.892734Z",
     "shell.execute_reply": "2024-06-04T00:33:46.891545Z",
     "shell.execute_reply.started": "2024-06-04T00:33:46.891471Z"
    }
   },
   "outputs": [],
   "source": [
    "#swc.write_file()"
   ]
  },
  {
   "cell_type": "code",
   "execution_count": null,
   "id": "3c6716ef-bed5-4cef-862a-072301cfe391",
   "metadata": {
    "execution": {
     "iopub.status.busy": "2024-06-04T00:33:46.895907Z",
     "iopub.status.idle": "2024-06-04T00:33:46.898325Z",
     "shell.execute_reply": "2024-06-04T00:33:46.896635Z",
     "shell.execute_reply.started": "2024-06-04T00:33:46.896560Z"
    }
   },
   "outputs": [],
   "source": [
    "#len(swc.data)"
   ]
  }
 ],
 "metadata": {
  "kernelspec": {
   "display_name": "Python 3 (ipykernel)",
   "language": "python",
   "name": "python3"
  },
  "language_info": {
   "codemirror_mode": {
    "name": "ipython",
    "version": 3
   },
   "file_extension": ".py",
   "mimetype": "text/x-python",
   "name": "python",
   "nbconvert_exporter": "python",
   "pygments_lexer": "ipython3",
   "version": "3.9.18"
  },
  "toc-autonumbering": false,
  "toc-showcode": false
 },
 "nbformat": 4,
 "nbformat_minor": 5
}
