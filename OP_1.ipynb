{
 "cells": [
  {
   "cell_type": "markdown",
   "id": "325e93d0-9320-4a98-9080-f1f3b7ff7e4d",
   "metadata": {},
   "source": [
    "# Olfactory Projection Fibers (OP_1)"
   ]
  },
  {
   "cell_type": "code",
   "execution_count": 1,
   "id": "06e6eb59-cfa1-48b1-84fc-78801236fc67",
   "metadata": {
    "editable": true,
    "execution": {
     "iopub.execute_input": "2024-06-04T01:30:07.243563Z",
     "iopub.status.busy": "2024-06-04T01:30:07.242480Z",
     "iopub.status.idle": "2024-06-04T01:30:07.946350Z",
     "shell.execute_reply": "2024-06-04T01:30:07.944258Z",
     "shell.execute_reply.started": "2024-06-04T01:30:07.243486Z"
    },
    "slideshow": {
     "slide_type": ""
    },
    "tags": []
   },
   "outputs": [],
   "source": [
    "from ip.ios import *\n",
    "from ip.enhancement import *\n",
    "from ip.binary import *\n",
    "from ip.graph_nx import *\n",
    "from ip.swc import *\n",
    "from ip.split import *\n",
    "from skimage.morphology import skeletonize"
   ]
  },
  {
   "cell_type": "markdown",
   "id": "6d3f26e4-d52c-44a1-a965-3c5e8a5d0a6f",
   "metadata": {},
   "source": [
    "## Read Data"
   ]
  },
  {
   "cell_type": "code",
   "execution_count": 2,
   "id": "cf0d64c0-1994-4053-a26f-a92f38ff4e0d",
   "metadata": {
    "execution": {
     "iopub.execute_input": "2024-06-04T01:30:07.949965Z",
     "iopub.status.busy": "2024-06-04T01:30:07.948956Z",
     "iopub.status.idle": "2024-06-04T01:30:07.957601Z",
     "shell.execute_reply": "2024-06-04T01:30:07.954901Z",
     "shell.execute_reply.started": "2024-06-04T01:30:07.949876Z"
    }
   },
   "outputs": [],
   "source": [
    "folder_path = \"./OlfactoryProjectionFibers/ImageStacks/OP_1\""
   ]
  },
  {
   "cell_type": "code",
   "execution_count": 3,
   "id": "638fb640-1704-4f9f-ac4c-6bbb5a00849d",
   "metadata": {
    "execution": {
     "iopub.execute_input": "2024-06-04T01:30:07.964664Z",
     "iopub.status.busy": "2024-06-04T01:30:07.963805Z",
     "iopub.status.idle": "2024-06-04T01:30:08.005008Z",
     "shell.execute_reply": "2024-06-04T01:30:08.003111Z",
     "shell.execute_reply.started": "2024-06-04T01:30:07.964450Z"
    }
   },
   "outputs": [],
   "source": [
    "images = load_image_stack(folder_path)"
   ]
  },
  {
   "cell_type": "markdown",
   "id": "f9f90343-f1a4-4201-af28-54988b120c78",
   "metadata": {},
   "source": [
    "## Code Process and Execution"
   ]
  },
  {
   "cell_type": "code",
   "execution_count": 4,
   "id": "86f9b64d-8370-4121-ac16-9415ee195b9f",
   "metadata": {
    "execution": {
     "iopub.execute_input": "2024-06-04T01:30:08.012071Z",
     "iopub.status.busy": "2024-06-04T01:30:08.010790Z",
     "iopub.status.idle": "2024-06-04T01:30:08.025528Z",
     "shell.execute_reply": "2024-06-04T01:30:08.023155Z",
     "shell.execute_reply.started": "2024-06-04T01:30:08.011460Z"
    }
   },
   "outputs": [],
   "source": [
    "#split = split_and_process_stack(images, 15, 3)"
   ]
  },
  {
   "cell_type": "code",
   "execution_count": 5,
   "id": "3c3a7210-5ea7-4ac3-a5d2-a43a8ab97746",
   "metadata": {
    "execution": {
     "iopub.execute_input": "2024-06-04T01:30:08.034460Z",
     "iopub.status.busy": "2024-06-04T01:30:08.030764Z",
     "iopub.status.idle": "2024-06-04T01:30:08.273068Z",
     "shell.execute_reply": "2024-06-04T01:30:08.255026Z",
     "shell.execute_reply.started": "2024-06-04T01:30:08.031381Z"
    }
   },
   "outputs": [],
   "source": [
    "threshold1 = mean_threshold(images, 15)\n",
    "binary1 = simple_binary(images, threshold1)\n",
    "seg = segment(images, binary1)\n",
    "denoising = median_blur(seg, 5)\n",
    "threshold2 = mean_threshold(denoising, 15)\n",
    "binary2 = simple_binary(denoising, threshold2)"
   ]
  },
  {
   "cell_type": "code",
   "execution_count": 6,
   "id": "c782d507-4558-42e9-a6d7-14c97ea1dcbc",
   "metadata": {
    "execution": {
     "iopub.execute_input": "2024-06-04T01:30:08.281816Z",
     "iopub.status.busy": "2024-06-04T01:30:08.281033Z",
     "iopub.status.idle": "2024-06-04T01:30:08.561399Z",
     "shell.execute_reply": "2024-06-04T01:30:08.559342Z",
     "shell.execute_reply.started": "2024-06-04T01:30:08.281731Z"
    }
   },
   "outputs": [],
   "source": [
    "skel = skeletonize(binary2)"
   ]
  },
  {
   "cell_type": "code",
   "execution_count": 7,
   "id": "431b4459-fdc1-46c0-bfac-f340a58e691f",
   "metadata": {
    "execution": {
     "iopub.execute_input": "2024-06-04T01:30:08.565832Z",
     "iopub.status.busy": "2024-06-04T01:30:08.564638Z",
     "iopub.status.idle": "2024-06-04T01:30:08.572608Z",
     "shell.execute_reply": "2024-06-04T01:30:08.570578Z",
     "shell.execute_reply.started": "2024-06-04T01:30:08.565742Z"
    }
   },
   "outputs": [],
   "source": [
    "#cv2_imshow(skel[:5])"
   ]
  },
  {
   "cell_type": "code",
   "execution_count": 8,
   "id": "52a5b9c0-ed73-4c74-9d70-01731b028efd",
   "metadata": {
    "execution": {
     "iopub.execute_input": "2024-06-04T01:30:08.576101Z",
     "iopub.status.busy": "2024-06-04T01:30:08.575381Z",
     "iopub.status.idle": "2024-06-04T01:30:08.591088Z",
     "shell.execute_reply": "2024-06-04T01:30:08.589049Z",
     "shell.execute_reply.started": "2024-06-04T01:30:08.576017Z"
    }
   },
   "outputs": [
    {
     "data": {
      "text/plain": [
       "(60, 512, 512)"
      ]
     },
     "execution_count": 8,
     "metadata": {},
     "output_type": "execute_result"
    }
   ],
   "source": [
    "skel.shape"
   ]
  },
  {
   "cell_type": "markdown",
   "id": "6aca20fc-bb84-4c2f-af79-2d3cb56af7de",
   "metadata": {},
   "source": [
    "### For visualization purposes only"
   ]
  },
  {
   "cell_type": "code",
   "execution_count": 9,
   "id": "e7970848-8297-431d-be49-060cc959428f",
   "metadata": {
    "execution": {
     "iopub.execute_input": "2024-06-04T01:30:08.594601Z",
     "iopub.status.busy": "2024-06-04T01:30:08.593765Z",
     "iopub.status.idle": "2024-06-04T01:30:08.602192Z",
     "shell.execute_reply": "2024-06-04T01:30:08.599360Z",
     "shell.execute_reply.started": "2024-06-04T01:30:08.594399Z"
    }
   },
   "outputs": [],
   "source": [
    "# blend = blended(skel)\n",
    "# single_download(blend,\"./SWCs/OP_1.png\")\n",
    "# blend_og = blended(images)\n",
    "# single_download(blend_og,\"./SWCs/OPOG_1.png\")"
   ]
  },
  {
   "cell_type": "markdown",
   "id": "d09f1ca3-750d-4179-9a2f-281ab0c20d4e",
   "metadata": {},
   "source": [
    "### Graph generation"
   ]
  },
  {
   "cell_type": "code",
   "execution_count": 10,
   "id": "2cc66763-3823-4733-a2c0-d171347ac9ce",
   "metadata": {
    "execution": {
     "iopub.execute_input": "2024-06-04T01:30:08.606951Z",
     "iopub.status.busy": "2024-06-04T01:30:08.605026Z",
     "iopub.status.idle": "2024-06-04T01:30:12.098769Z",
     "shell.execute_reply": "2024-06-04T01:30:12.096855Z",
     "shell.execute_reply.started": "2024-06-04T01:30:08.606009Z"
    }
   },
   "outputs": [
    {
     "name": "stdout",
     "output_type": "stream",
     "text": [
      "skipped image0\n",
      "skipped image1\n",
      "skipped image55\n",
      "skipped image56\n",
      "skipped image57\n",
      "skipped image58\n",
      "skipped image59\n"
     ]
    }
   ],
   "source": [
    "graph = Graph(skel)\n",
    "graph.set_root((2, 429, 34))\n",
    "graph.create_graph()\n",
    "#OP_1 (X,Y,Z): (30.979,429.04,0)"
   ]
  },
  {
   "cell_type": "code",
   "execution_count": 11,
   "id": "6b324488-d9db-420f-b442-28582223ff1e",
   "metadata": {
    "execution": {
     "iopub.execute_input": "2024-06-04T01:30:12.103100Z",
     "iopub.status.busy": "2024-06-04T01:30:12.102267Z",
     "iopub.status.idle": "2024-06-04T01:30:12.112684Z",
     "shell.execute_reply": "2024-06-04T01:30:12.110440Z",
     "shell.execute_reply.started": "2024-06-04T01:30:12.102974Z"
    }
   },
   "outputs": [
    {
     "name": "stdout",
     "output_type": "stream",
     "text": [
      "(2, 429, 34)\n"
     ]
    }
   ],
   "source": [
    "root = graph.get_root()\n",
    "print(root)"
   ]
  },
  {
   "cell_type": "code",
   "execution_count": 12,
   "id": "b10bf5e5-79ae-4efb-8545-9352dbb22c8f",
   "metadata": {
    "execution": {
     "iopub.execute_input": "2024-06-04T01:30:12.121260Z",
     "iopub.status.busy": "2024-06-04T01:30:12.119873Z",
     "iopub.status.idle": "2024-06-04T01:30:12.415111Z",
     "shell.execute_reply": "2024-06-04T01:30:12.413046Z",
     "shell.execute_reply.started": "2024-06-04T01:30:12.120958Z"
    }
   },
   "outputs": [],
   "source": [
    "distances, paths = graph.apply_dijkstra_and_label_nodes()"
   ]
  },
  {
   "cell_type": "code",
   "execution_count": 13,
   "id": "09f7b595-e44a-4251-9abb-96f903322bf0",
   "metadata": {
    "execution": {
     "iopub.execute_input": "2024-06-04T01:30:12.418689Z",
     "iopub.status.busy": "2024-06-04T01:30:12.417828Z",
     "iopub.status.idle": "2024-06-04T01:30:12.427325Z",
     "shell.execute_reply": "2024-06-04T01:30:12.425042Z",
     "shell.execute_reply.started": "2024-06-04T01:30:12.418474Z"
    }
   },
   "outputs": [
    {
     "name": "stdout",
     "output_type": "stream",
     "text": [
      "1369 1369\n"
     ]
    }
   ],
   "source": [
    "print(len(distances), len(paths))"
   ]
  },
  {
   "cell_type": "code",
   "execution_count": 14,
   "id": "59b77209-2bdf-483f-8711-c7afe36a7c1d",
   "metadata": {
    "execution": {
     "iopub.execute_input": "2024-06-04T01:30:12.431448Z",
     "iopub.status.busy": "2024-06-04T01:30:12.430251Z",
     "iopub.status.idle": "2024-06-04T01:30:12.452089Z",
     "shell.execute_reply": "2024-06-04T01:30:12.449906Z",
     "shell.execute_reply.started": "2024-06-04T01:30:12.430960Z"
    }
   },
   "outputs": [],
   "source": [
    "graph.save_to_swc(\"./Test/OP_1.swc\")"
   ]
  },
  {
   "cell_type": "code",
   "execution_count": 16,
   "id": "7a36d186-03a7-41eb-a152-3631fab6db6e",
   "metadata": {
    "execution": {
     "iopub.execute_input": "2024-06-04T01:30:12.470573Z",
     "iopub.status.busy": "2024-06-04T01:30:12.469625Z",
     "iopub.status.idle": "2024-06-04T01:30:12.477607Z",
     "shell.execute_reply": "2024-06-04T01:30:12.475317Z",
     "shell.execute_reply.started": "2024-06-04T01:30:12.470452Z"
    }
   },
   "outputs": [],
   "source": [
    "# swc = SWCFile(\"./SWCs/OP_1.swc\")"
   ]
  },
  {
   "cell_type": "code",
   "execution_count": 17,
   "id": "162d3ca6-e449-4b27-9967-d9ded48dbbfe",
   "metadata": {
    "execution": {
     "iopub.execute_input": "2024-06-04T01:30:12.481288Z",
     "iopub.status.busy": "2024-06-04T01:30:12.480417Z",
     "iopub.status.idle": "2024-06-04T01:30:12.488827Z",
     "shell.execute_reply": "2024-06-04T01:30:12.486287Z",
     "shell.execute_reply.started": "2024-06-04T01:30:12.481186Z"
    }
   },
   "outputs": [],
   "source": [
    "# for key, item in parents.items():\n",
    "#     z,y,x = key\n",
    "#     z,y,x = float(z),float(y),float(x)\n",
    "#     if item == -1:\n",
    "#         if key == root:\n",
    "#             swc.add_point(labels[key],2,x,y,z,2.0,item)\n",
    "#             continue\n",
    "#         else:\n",
    "#             continue\n",
    "#     swc.add_point(labels[key],2,x,y,z,2.0,labels[item])"
   ]
  },
  {
   "cell_type": "code",
   "execution_count": 18,
   "id": "cb403b0e-9aac-483c-83f6-413c4cd1efcc",
   "metadata": {
    "execution": {
     "iopub.execute_input": "2024-06-04T01:30:12.493876Z",
     "iopub.status.busy": "2024-06-04T01:30:12.492476Z",
     "iopub.status.idle": "2024-06-04T01:30:12.500142Z",
     "shell.execute_reply": "2024-06-04T01:30:12.498016Z",
     "shell.execute_reply.started": "2024-06-04T01:30:12.493753Z"
    }
   },
   "outputs": [],
   "source": [
    "#swc.write_file()"
   ]
  },
  {
   "cell_type": "code",
   "execution_count": 19,
   "id": "3c6716ef-bed5-4cef-862a-072301cfe391",
   "metadata": {
    "execution": {
     "iopub.execute_input": "2024-06-04T01:30:12.504036Z",
     "iopub.status.busy": "2024-06-04T01:30:12.503068Z",
     "iopub.status.idle": "2024-06-04T01:30:12.511175Z",
     "shell.execute_reply": "2024-06-04T01:30:12.509033Z",
     "shell.execute_reply.started": "2024-06-04T01:30:12.503885Z"
    }
   },
   "outputs": [],
   "source": [
    "#len(swc.data)"
   ]
  }
 ],
 "metadata": {
  "kernelspec": {
   "display_name": "Python 3 (ipykernel)",
   "language": "python",
   "name": "python3"
  },
  "language_info": {
   "codemirror_mode": {
    "name": "ipython",
    "version": 3
   },
   "file_extension": ".py",
   "mimetype": "text/x-python",
   "name": "python",
   "nbconvert_exporter": "python",
   "pygments_lexer": "ipython3",
   "version": "3.9.18"
  },
  "toc-autonumbering": false,
  "toc-showcode": false
 },
 "nbformat": 4,
 "nbformat_minor": 5
}
