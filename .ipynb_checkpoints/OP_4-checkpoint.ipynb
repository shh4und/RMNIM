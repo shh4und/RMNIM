{
 "cells": [
  {
   "cell_type": "markdown",
   "id": "325e93d0-9320-4a98-9080-f1f3b7ff7e4d",
   "metadata": {},
   "source": [
    "# Olfactory Projection Fibers (OP_4)"
   ]
  },
  {
   "cell_type": "code",
   "execution_count": 1,
   "id": "06e6eb59-cfa1-48b1-84fc-78801236fc67",
   "metadata": {
    "editable": true,
    "execution": {
     "iopub.execute_input": "2024-08-02T01:39:55.375615Z",
     "iopub.status.busy": "2024-08-02T01:39:55.373379Z",
     "iopub.status.idle": "2024-08-02T01:39:56.254866Z",
     "shell.execute_reply": "2024-08-02T01:39:56.252694Z",
     "shell.execute_reply.started": "2024-08-02T01:39:55.375488Z"
    },
    "slideshow": {
     "slide_type": ""
    },
    "tags": []
   },
   "outputs": [],
   "source": [
    "from ip.ios import *\n",
    "from ip.enhancement import *\n",
    "from ip.binary import *\n",
    "from ip.graph_nx import *\n",
    "from ip.swc import *\n",
    "from ip.split import *\n",
    "from skimage.util import img_as_ubyte\n",
    "from skimage.morphology import skeletonize\n",
    "from scipy import ndimage"
   ]
  },
  {
   "cell_type": "markdown",
   "id": "6d3f26e4-d52c-44a1-a965-3c5e8a5d0a6f",
   "metadata": {},
   "source": [
    "## Read Data"
   ]
  },
  {
   "cell_type": "code",
   "execution_count": 2,
   "id": "cf0d64c0-1994-4053-a26f-a92f38ff4e0d",
   "metadata": {
    "execution": {
     "iopub.execute_input": "2024-08-02T01:39:56.258829Z",
     "iopub.status.busy": "2024-08-02T01:39:56.257342Z",
     "iopub.status.idle": "2024-08-02T01:39:56.265806Z",
     "shell.execute_reply": "2024-08-02T01:39:56.263487Z",
     "shell.execute_reply.started": "2024-08-02T01:39:56.258734Z"
    }
   },
   "outputs": [],
   "source": [
    "folder_path = \"./OlfactoryProjectionFibers/ImageStacks/OP_4\""
   ]
  },
  {
   "cell_type": "code",
   "execution_count": 3,
   "id": "638fb640-1704-4f9f-ac4c-6bbb5a00849d",
   "metadata": {
    "execution": {
     "iopub.execute_input": "2024-08-02T01:39:56.273215Z",
     "iopub.status.busy": "2024-08-02T01:39:56.272167Z",
     "iopub.status.idle": "2024-08-02T01:39:56.319585Z",
     "shell.execute_reply": "2024-08-02T01:39:56.317607Z",
     "shell.execute_reply.started": "2024-08-02T01:39:56.273085Z"
    }
   },
   "outputs": [],
   "source": [
    "images = load_tif_stack(folder_path)"
   ]
  },
  {
   "cell_type": "markdown",
   "id": "f9f90343-f1a4-4201-af28-54988b120c78",
   "metadata": {},
   "source": [
    "## Code Process and Execution"
   ]
  },
  {
   "cell_type": "code",
   "execution_count": 4,
   "id": "2b5dc688-a57a-4804-85f2-c91d70874c3b",
   "metadata": {
    "execution": {
     "iopub.execute_input": "2024-08-02T01:39:56.326321Z",
     "iopub.status.busy": "2024-08-02T01:39:56.325274Z",
     "iopub.status.idle": "2024-08-02T01:39:56.351434Z",
     "shell.execute_reply": "2024-08-02T01:39:56.344696Z",
     "shell.execute_reply.started": "2024-08-02T01:39:56.326195Z"
    },
    "jupyter": {
     "source_hidden": true
    }
   },
   "outputs": [],
   "source": [
    "# bilateral = bilateral_blur(images, 9, 175, 175)\n",
    "# threshold1 = mean_threshold(bilateral)\n",
    "# binary1 = simple_binary(bilateral, threshold1)\n",
    "# seg1 = segment(bilateral, binary1)\n",
    "\n",
    "# threshold2 = mean_threshold(seg1)\n",
    "# binary2 = simple_binary(seg1, threshold2)\n",
    "# eroded3d = img_as_ubyte(ndimage.binary_erosion(binary2))\n",
    "# skel = img_as_ubyte(skeletonize(eroded3d))\n",
    "# graph = Graph(skel)\n",
    "# graph.set_root((3, 504, 128))\n",
    "# graph.create_graph()\n",
    "# root = graph.get_root()\n",
    "# g_root = (128.2,504.37,0.3)\n",
    "# print(f\"OP_1 GOLD STANDARD ROOT: {g_root}\\nTEST ROOT: {root}\")"
   ]
  },
  {
   "cell_type": "code",
   "execution_count": 5,
   "id": "3c3a7210-5ea7-4ac3-a5d2-a43a8ab97746",
   "metadata": {
    "execution": {
     "iopub.execute_input": "2024-08-02T01:39:56.361527Z",
     "iopub.status.busy": "2024-08-02T01:39:56.354259Z",
     "iopub.status.idle": "2024-08-02T01:39:56.601363Z",
     "shell.execute_reply": "2024-08-02T01:39:56.599654Z",
     "shell.execute_reply.started": "2024-08-02T01:39:56.361272Z"
    }
   },
   "outputs": [],
   "source": [
    "bi_7_100_50 = bilateral_blur(images, 7, 100, 50)\n",
    "bi_7_50_100 = bilateral_blur(images, 7, 50, 100)\n",
    "\n",
    "# gau_10 = ndimage.gaussian_filter(images, 1.0)\n",
    "# gau_15 = ndimage.gaussian_filter(images, 1.5)\n",
    "# gau_20 = ndimage.gaussian_filter(images, 2.0)"
   ]
  },
  {
   "cell_type": "code",
   "execution_count": 6,
   "id": "a75ed744-5ad2-4000-b97c-d72ebd70ea13",
   "metadata": {
    "execution": {
     "iopub.execute_input": "2024-08-02T01:39:56.607673Z",
     "iopub.status.busy": "2024-08-02T01:39:56.606756Z",
     "iopub.status.idle": "2024-08-02T01:39:56.615484Z",
     "shell.execute_reply": "2024-08-02T01:39:56.613108Z",
     "shell.execute_reply.started": "2024-08-02T01:39:56.607551Z"
    }
   },
   "outputs": [],
   "source": [
    "# cv2_imshow([blended(images),\n",
    "#             blended(bi_7_100_50), blended(bi_7_50_100),])"
   ]
  },
  {
   "cell_type": "code",
   "execution_count": 7,
   "id": "2adea28b-91ee-4475-8403-744ea66ae51c",
   "metadata": {
    "execution": {
     "iopub.execute_input": "2024-08-02T01:39:56.619677Z",
     "iopub.status.busy": "2024-08-02T01:39:56.618749Z",
     "iopub.status.idle": "2024-08-02T01:39:56.627426Z",
     "shell.execute_reply": "2024-08-02T01:39:56.625017Z",
     "shell.execute_reply.started": "2024-08-02T01:39:56.619421Z"
    }
   },
   "outputs": [],
   "source": [
    "#cv2_imshow(bi_7_50_100[15:21])"
   ]
  },
  {
   "cell_type": "code",
   "execution_count": 8,
   "id": "b58a86f0-5bf8-438d-b0b1-ec4e5b90a21c",
   "metadata": {
    "execution": {
     "iopub.execute_input": "2024-08-02T01:39:56.631313Z",
     "iopub.status.busy": "2024-08-02T01:39:56.630270Z",
     "iopub.status.idle": "2024-08-02T01:39:57.378553Z",
     "shell.execute_reply": "2024-08-02T01:39:57.375360Z",
     "shell.execute_reply.started": "2024-08-02T01:39:56.630873Z"
    }
   },
   "outputs": [],
   "source": [
    "threshold1 = mean_threshold(bi_7_100_50)\n",
    "binary1 = simple_binary(bi_7_100_50, threshold1)\n",
    "seg1 = segment(bi_7_100_50, binary1)\n",
    "\n",
    "threshold2 = mean_threshold(seg1)\n",
    "binary2 = simple_binary(seg1, threshold2)\n",
    "\n",
    "eroded3d1 = img_as_ubyte(ndimage.binary_erosion(binary2))\n",
    "skel1 = img_as_ubyte(skeletonize(eroded3d1))"
   ]
  },
  {
   "cell_type": "code",
   "execution_count": 9,
   "id": "43156c7e-4d72-4bc3-9fab-9c2ff42dc96a",
   "metadata": {
    "execution": {
     "iopub.execute_input": "2024-08-02T01:39:57.383119Z",
     "iopub.status.busy": "2024-08-02T01:39:57.381596Z",
     "iopub.status.idle": "2024-08-02T01:39:58.050667Z",
     "shell.execute_reply": "2024-08-02T01:39:58.048514Z",
     "shell.execute_reply.started": "2024-08-02T01:39:57.382464Z"
    }
   },
   "outputs": [],
   "source": [
    "thresholdA = mean_threshold(bi_7_50_100)\n",
    "binaryA = simple_binary(bi_7_50_100, thresholdA)\n",
    "segA = segment(bi_7_50_100, binaryA)\n",
    "\n",
    "thresholdB = mean_threshold(segA)\n",
    "binaryB = simple_binary(segA, thresholdB)\n",
    "\n",
    "eroded3dA = img_as_ubyte(ndimage.binary_erosion(binaryB))\n",
    "skelA = img_as_ubyte(skeletonize(eroded3dA))"
   ]
  },
  {
   "cell_type": "code",
   "execution_count": 10,
   "id": "431b4459-fdc1-46c0-bfac-f340a58e691f",
   "metadata": {
    "execution": {
     "iopub.execute_input": "2024-08-02T01:39:58.054842Z",
     "iopub.status.busy": "2024-08-02T01:39:58.053867Z",
     "iopub.status.idle": "2024-08-02T01:40:00.960423Z",
     "shell.execute_reply": "2024-08-02T01:40:00.957359Z",
     "shell.execute_reply.started": "2024-08-02T01:39:58.054579Z"
    }
   },
   "outputs": [
    {
     "name": "stdout",
     "output_type": "stream",
     "text": [
      "False\n"
     ]
    },
    {
     "name": "stderr",
     "output_type": "stream",
     "text": [
      "qt.qpa.plugin: Could not find the Qt platform plugin \"wayland\" in \"\"\n"
     ]
    },
    {
     "data": {
      "text/plain": [
       "True"
      ]
     },
     "execution_count": 10,
     "metadata": {},
     "output_type": "execute_result"
    }
   ],
   "source": [
    "print(isinstance(binary2.shape, np.ndarray))\n",
    "cv2_imshow([blended(binary2), blended(eroded3d1), blended(skel1), blended(binaryB), blended(eroded3dA), blended(skelA)])"
   ]
  },
  {
   "cell_type": "code",
   "execution_count": 11,
   "id": "0e06ad11-fba2-4caa-840b-09e504bf5dad",
   "metadata": {
    "execution": {
     "iopub.execute_input": "2024-08-02T01:40:05.423182Z",
     "iopub.status.busy": "2024-08-02T01:40:05.422261Z",
     "iopub.status.idle": "2024-08-02T01:40:16.901132Z",
     "shell.execute_reply": "2024-08-02T01:40:16.898390Z",
     "shell.execute_reply.started": "2024-08-02T01:40:05.423073Z"
    }
   },
   "outputs": [
    {
     "name": "stdout",
     "output_type": "stream",
     "text": [
      "stack3d.shape len: 3\n"
     ]
    },
    {
     "data": {
      "text/plain": [
       "True"
      ]
     },
     "execution_count": 11,
     "metadata": {},
     "output_type": "execute_result"
    }
   ],
   "source": [
    "cv2_imshow(blended(binary2))"
   ]
  },
  {
   "cell_type": "markdown",
   "id": "6aca20fc-bb84-4c2f-af79-2d3cb56af7de",
   "metadata": {},
   "source": [
    "### For visualization purposes only"
   ]
  },
  {
   "cell_type": "markdown",
   "id": "d09f1ca3-750d-4179-9a2f-281ab0c20d4e",
   "metadata": {},
   "source": [
    "### Graph generation"
   ]
  },
  {
   "cell_type": "code",
   "execution_count": 9,
   "id": "2cc66763-3823-4733-a2c0-d171347ac9ce",
   "metadata": {
    "execution": {
     "iopub.execute_input": "2024-08-02T00:49:59.973912Z",
     "iopub.status.busy": "2024-08-02T00:49:59.973179Z",
     "iopub.status.idle": "2024-08-02T00:50:00.420872Z",
     "shell.execute_reply": "2024-08-02T00:50:00.418386Z",
     "shell.execute_reply.started": "2024-08-02T00:49:59.973832Z"
    }
   },
   "outputs": [
    {
     "name": "stdout",
     "output_type": "stream",
     "text": [
      ">> Graph created\n",
      "OP_1 GOLD STANDARD ROOT: (128.2, 504.37, 0.3)\n",
      "TEST ROOT: (3, 504, 128)\n"
     ]
    }
   ],
   "source": [
    "\n",
    "graph = Graph(skel)\n",
    "graph.set_root((3, 504, 128))\n",
    "graph.create_graph()\n",
    "root = graph.get_root()\n",
    "g_root = (128.2,504.37,0.3)\n",
    "print(f\"OP_1 GOLD STANDARD ROOT: {g_root}\\nTEST ROOT: {root}\")"
   ]
  },
  {
   "cell_type": "code",
   "execution_count": 10,
   "id": "6b324488-d9db-420f-b442-28582223ff1e",
   "metadata": {
    "execution": {
     "iopub.execute_input": "2024-08-02T00:50:00.425108Z",
     "iopub.status.busy": "2024-08-02T00:50:00.423877Z",
     "iopub.status.idle": "2024-08-02T00:50:00.514339Z",
     "shell.execute_reply": "2024-08-02T00:50:00.512352Z",
     "shell.execute_reply.started": "2024-08-02T00:50:00.424531Z"
    }
   },
   "outputs": [
    {
     "name": "stdout",
     "output_type": "stream",
     "text": [
      ">> Minimum Spanning Tree Generated\n",
      ">> Minimum Spanning Tree length: 1061\n",
      ">> Depth-First search and labeling complete\n"
     ]
    }
   ],
   "source": [
    "mst = graph.apply_dfs_and_label_nodes()"
   ]
  },
  {
   "cell_type": "code",
   "execution_count": 11,
   "id": "b10bf5e5-79ae-4efb-8545-9352dbb22c8f",
   "metadata": {
    "execution": {
     "iopub.execute_input": "2024-08-02T00:50:00.518174Z",
     "iopub.status.busy": "2024-08-02T00:50:00.517460Z",
     "iopub.status.idle": "2024-08-02T00:50:00.559981Z",
     "shell.execute_reply": "2024-08-02T00:50:00.558056Z",
     "shell.execute_reply.started": "2024-08-02T00:50:00.518095Z"
    }
   },
   "outputs": [
    {
     "name": "stdout",
     "output_type": "stream",
     "text": [
      ">> SWC saved at: ./Test/OP_4test.swc\n"
     ]
    },
    {
     "data": {
      "text/plain": [
       "True"
      ]
     },
     "execution_count": 11,
     "metadata": {},
     "output_type": "execute_result"
    }
   ],
   "source": [
    "graph.save_to_swc(mst,\"./Test/OP_4test.swc\",1.2)"
   ]
  },
  {
   "cell_type": "code",
   "execution_count": null,
   "id": "3fcc1f6d-411c-4fd6-a2ba-ad44a8bd3201",
   "metadata": {},
   "outputs": [],
   "source": []
  }
 ],
 "metadata": {
  "kernelspec": {
   "display_name": "Python 3 (ipykernel)",
   "language": "python",
   "name": "python3"
  },
  "language_info": {
   "codemirror_mode": {
    "name": "ipython",
    "version": 3
   },
   "file_extension": ".py",
   "mimetype": "text/x-python",
   "name": "python",
   "nbconvert_exporter": "python",
   "pygments_lexer": "ipython3",
   "version": "3.9.18"
  },
  "toc-autonumbering": false,
  "toc-showcode": false
 },
 "nbformat": 4,
 "nbformat_minor": 5
}
