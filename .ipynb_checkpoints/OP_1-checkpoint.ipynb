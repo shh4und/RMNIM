{
 "cells": [
  {
   "cell_type": "markdown",
   "id": "325e93d0-9320-4a98-9080-f1f3b7ff7e4d",
   "metadata": {},
   "source": [
    "# Olfactory Projection Fibers (OP_1)"
   ]
  },
  {
   "cell_type": "code",
   "execution_count": null,
   "id": "06e6eb59-cfa1-48b1-84fc-78801236fc67",
   "metadata": {
    "editable": true,
    "slideshow": {
     "slide_type": ""
    },
    "tags": []
   },
   "outputs": [],
   "source": [
    "from ip.ios import *\n",
    "from ip.enhancement import *\n",
    "from ip.binary import *\n",
    "from ip.graph_nx import *\n",
    "from ip.swc import *\n",
    "from ip.utils import *\n",
    "from skimage.morphology import skeletonize\n",
    "from skimage.util import img_as_ubyte, img_as_float\n",
    "from skimage.filters import frangi, hessian, meijering\n",
    "from scipy import ndimage"
   ]
  },
  {
   "cell_type": "markdown",
   "id": "6d3f26e4-d52c-44a1-a965-3c5e8a5d0a6f",
   "metadata": {},
   "source": [
    "## Read Data"
   ]
  },
  {
   "cell_type": "code",
   "execution_count": null,
   "id": "cf0d64c0-1994-4053-a26f-a92f38ff4e0d",
   "metadata": {},
   "outputs": [],
   "source": [
    "folder_path = \"./OlfactoryProjectionFibers/ImageStacks/OP_1\""
   ]
  },
  {
   "cell_type": "code",
   "execution_count": null,
   "id": "638fb640-1704-4f9f-ac4c-6bbb5a00849d",
   "metadata": {},
   "outputs": [],
   "source": [
    "images = load_tif_stack(folder_path)"
   ]
  },
  {
   "cell_type": "code",
   "execution_count": null,
   "id": "1c061927-b04a-46de-8d6d-8831b28d0f3f",
   "metadata": {},
   "outputs": [],
   "source": [
    "imgFloat = img_as_float(images)"
   ]
  },
  {
   "cell_type": "markdown",
   "id": "f9f90343-f1a4-4201-af28-54988b120c78",
   "metadata": {},
   "source": [
    "## Code"
   ]
  },
  {
   "cell_type": "code",
   "execution_count": null,
   "id": "9096d142-aeb4-4fa1-810a-d9331ff36f0c",
   "metadata": {},
   "outputs": [],
   "source": [
    "filtered = ndimage.median_filter(imgFloat, size=3)\n",
    "filtered = img_as_ubyte(filtered)"
   ]
  },
  {
   "cell_type": "code",
   "execution_count": null,
   "id": "dec76651-1d03-492e-858b-34a1b68fd23b",
   "metadata": {},
   "outputs": [],
   "source": [
    "threshold2 = mean_threshold(filtered)\n",
    "binary2 = simple_binary(filtered, threshold2)\n",
    "# seg2 = segment(filtered, binary2)\n",
    "# threshold2 = mean_threshold(seg2)\n",
    "# binary2 = simple_binary(seg2, threshold2)"
   ]
  },
  {
   "cell_type": "code",
   "execution_count": null,
   "id": "863e4c97-8559-4d68-a1dd-a1fd1503812e",
   "metadata": {},
   "outputs": [],
   "source": [
    "er = img_as_ubyte(ndimage.binary_erosion(binary2))\n",
    "skel2 = img_as_ubyte(skeletonize(er))"
   ]
  },
  {
   "cell_type": "code",
   "execution_count": null,
   "id": "f7c544b7-baca-4b1e-ad93-3fab2802f23e",
   "metadata": {},
   "outputs": [],
   "source": [
    "# skel1 = img_as_ubyte(skeletonize(binary2))"
   ]
  },
  {
   "cell_type": "code",
   "execution_count": null,
   "id": "87cb28da-af6f-4149-a74c-0ebf6cd8d49b",
   "metadata": {},
   "outputs": [],
   "source": [
    "# skel2 = remove_zero_slices(skel2)"
   ]
  },
  {
   "cell_type": "markdown",
   "id": "6aca20fc-bb84-4c2f-af79-2d3cb56af7de",
   "metadata": {},
   "source": [
    "### For visualization purposes only"
   ]
  },
  {
   "cell_type": "code",
   "execution_count": null,
   "id": "8d975033-634f-4576-ba9d-f46ae2e94340",
   "metadata": {},
   "outputs": [],
   "source": [
    "#simple_imshow([blended(filtered), blended(skel2)])\n",
    "#slide_imshow(skel2)"
   ]
  },
  {
   "cell_type": "markdown",
   "id": "d09f1ca3-750d-4179-9a2f-281ab0c20d4e",
   "metadata": {},
   "source": [
    "### Graph generation"
   ]
  },
  {
   "cell_type": "code",
   "execution_count": null,
   "id": "2cc66763-3823-4733-a2c0-d171347ac9ce",
   "metadata": {},
   "outputs": [],
   "source": [
    "graph = Graph(skel2)\n",
    "non_0s = graph.non_zero_voxels(1)\n",
    "# graph.set_root((3.0, 427.0, 33.0))\n",
    "# graph.create_graph(True, 3)\n",
    "# root = graph.get_root()\n",
    "# g_root = (30.979,429.04,0)\n",
    "# print(f\"OP_1 GOLD STANDARD ROOT: {g_root}\\nTEST ROOT: {root}\")"
   ]
  },
  {
   "cell_type": "code",
   "execution_count": null,
   "id": "e100dfc0-d1fa-4d28-be60-1cebe18e76e2",
   "metadata": {},
   "outputs": [],
   "source": [
    "#non_0s"
   ]
  },
  {
   "cell_type": "code",
   "execution_count": null,
   "id": "b10bf5e5-79ae-4efb-8545-9352dbb22c8f",
   "metadata": {},
   "outputs": [],
   "source": [
    "\n",
    "# dfs = graph.apply_dfs_and_label_nodes()"
   ]
  },
  {
   "cell_type": "code",
   "execution_count": null,
   "id": "59b77209-2bdf-483f-8711-c7afe36a7c1d",
   "metadata": {},
   "outputs": [],
   "source": [
    "# graph.save_to_swc(dfs,\"./Test/OP_1test.swc\",1.0)"
   ]
  },
  {
   "cell_type": "code",
   "execution_count": null,
   "id": "309cb516-bb7e-4c1c-980f-1750fb4ad980",
   "metadata": {},
   "outputs": [],
   "source": []
  }
 ],
 "metadata": {
  "kernelspec": {
   "display_name": "Python 3 (ipykernel)",
   "language": "python",
   "name": "python3"
  },
  "language_info": {
   "codemirror_mode": {
    "name": "ipython",
    "version": 3
   },
   "file_extension": ".py",
   "mimetype": "text/x-python",
   "name": "python",
   "nbconvert_exporter": "python",
   "pygments_lexer": "ipython3",
   "version": "3.9.18"
  },
  "toc-autonumbering": false,
  "toc-showcode": false
 },
 "nbformat": 4,
 "nbformat_minor": 5
}
