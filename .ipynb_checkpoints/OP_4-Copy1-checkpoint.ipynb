{
 "cells": [
  {
   "cell_type": "markdown",
   "id": "325eb697-f748-446e-9103-08e0cc27c35f",
   "metadata": {},
   "source": [
    "# Olfactory Projection Fibers (OP_3)"
   ]
  },
  {
   "cell_type": "code",
   "execution_count": 21,
   "id": "06e6eb59-cfa1-48b1-84fc-78801236fc67",
   "metadata": {
    "editable": true,
    "execution": {
     "iopub.execute_input": "2024-10-18T01:36:24.998552Z",
     "iopub.status.busy": "2024-10-18T01:36:24.997815Z",
     "iopub.status.idle": "2024-10-18T01:36:25.017093Z",
     "shell.execute_reply": "2024-10-18T01:36:25.015032Z",
     "shell.execute_reply.started": "2024-10-18T01:36:24.998464Z"
    },
    "slideshow": {
     "slide_type": ""
    },
    "tags": []
   },
   "outputs": [],
   "source": [
    "from ip.ios import *\n",
    "from ip.enhancement import *\n",
    "from ip.binary import *\n",
    "from ip.graph_nx import *\n",
    "from ip.swc import *\n",
    "from ip.utils import *\n",
    "from skimage.morphology import skeletonize\n",
    "from skimage.util import img_as_ubyte, img_as_float\n",
    "from scipy import ndimage"
   ]
  },
  {
   "cell_type": "markdown",
   "id": "6d3f26e4-d52c-44a1-a965-3c5e8a5d0a6f",
   "metadata": {},
   "source": [
    "## Read Data"
   ]
  },
  {
   "cell_type": "code",
   "execution_count": 22,
   "id": "cf0d64c0-1994-4053-a26f-a92f38ff4e0d",
   "metadata": {
    "execution": {
     "iopub.execute_input": "2024-10-18T01:36:25.029019Z",
     "iopub.status.busy": "2024-10-18T01:36:25.027537Z",
     "iopub.status.idle": "2024-10-18T01:36:25.045122Z",
     "shell.execute_reply": "2024-10-18T01:36:25.039995Z",
     "shell.execute_reply.started": "2024-10-18T01:36:25.028921Z"
    }
   },
   "outputs": [],
   "source": [
    "folder_path = \"./OlfactoryProjectionFibers/ImageStacks/OP_4\""
   ]
  },
  {
   "cell_type": "code",
   "execution_count": 23,
   "id": "638fb640-1704-4f9f-ac4c-6bbb5a00849d",
   "metadata": {
    "execution": {
     "iopub.execute_input": "2024-10-18T01:36:25.060638Z",
     "iopub.status.busy": "2024-10-18T01:36:25.048219Z",
     "iopub.status.idle": "2024-10-18T01:36:25.103573Z",
     "shell.execute_reply": "2024-10-18T01:36:25.101662Z",
     "shell.execute_reply.started": "2024-10-18T01:36:25.059960Z"
    }
   },
   "outputs": [],
   "source": [
    "images = load_tif_stack(folder_path)"
   ]
  },
  {
   "cell_type": "code",
   "execution_count": 24,
   "id": "c81cf359-736e-4701-8132-e1b15a0f471f",
   "metadata": {
    "execution": {
     "iopub.execute_input": "2024-10-18T01:36:25.107324Z",
     "iopub.status.busy": "2024-10-18T01:36:25.106563Z",
     "iopub.status.idle": "2024-10-18T01:36:25.189598Z",
     "shell.execute_reply": "2024-10-18T01:36:25.165665Z",
     "shell.execute_reply.started": "2024-10-18T01:36:25.107249Z"
    }
   },
   "outputs": [],
   "source": [
    "imagesToFloat = img_as_float(images)"
   ]
  },
  {
   "cell_type": "markdown",
   "id": "f9f90343-f1a4-4201-af28-54988b120c78",
   "metadata": {},
   "source": [
    "## Code Process and Execution"
   ]
  },
  {
   "cell_type": "code",
   "execution_count": 25,
   "id": "41415fae-d0a8-4acf-a6af-e86425b7ed89",
   "metadata": {
    "execution": {
     "iopub.execute_input": "2024-10-18T01:36:25.203695Z",
     "iopub.status.busy": "2024-10-18T01:36:25.202585Z",
     "iopub.status.idle": "2024-10-18T01:36:25.972084Z",
     "shell.execute_reply": "2024-10-18T01:36:25.969940Z",
     "shell.execute_reply.started": "2024-10-18T01:36:25.203274Z"
    }
   },
   "outputs": [],
   "source": [
    "filtered = ndimage.median_filter(imagesToFloat, size=3)"
   ]
  },
  {
   "cell_type": "code",
   "execution_count": 26,
   "id": "2c525108-ba15-43c4-b5e6-c91b53077ac2",
   "metadata": {
    "execution": {
     "iopub.execute_input": "2024-10-18T01:36:25.981431Z",
     "iopub.status.busy": "2024-10-18T01:36:25.977234Z",
     "iopub.status.idle": "2024-10-18T01:36:27.510585Z",
     "shell.execute_reply": "2024-10-18T01:36:27.476691Z",
     "shell.execute_reply.started": "2024-10-18T01:36:25.980618Z"
    }
   },
   "outputs": [],
   "source": [
    "LOGMEDIAN      = img_as_ubyte(ndimage.gaussian_laplace(filtered, 1.0))"
   ]
  },
  {
   "cell_type": "code",
   "execution_count": 27,
   "id": "7c496944-3167-4532-8e17-e6bd689beb66",
   "metadata": {
    "execution": {
     "iopub.execute_input": "2024-10-18T01:36:27.519306Z",
     "iopub.status.busy": "2024-10-18T01:36:27.518635Z",
     "iopub.status.idle": "2024-10-18T01:36:27.752514Z",
     "shell.execute_reply": "2024-10-18T01:36:27.750710Z",
     "shell.execute_reply.started": "2024-10-18T01:36:27.519232Z"
    }
   },
   "outputs": [],
   "source": [
    "logMIN = img_as_ubyte(ndimage.minimum_filter(LOGMEDIAN, 2))"
   ]
  },
  {
   "cell_type": "code",
   "execution_count": 28,
   "id": "397e2617-101e-4eee-82a0-66e70e8cc4e1",
   "metadata": {
    "execution": {
     "iopub.execute_input": "2024-10-18T01:36:27.757184Z",
     "iopub.status.busy": "2024-10-18T01:36:27.756497Z",
     "iopub.status.idle": "2024-10-18T01:36:27.764094Z",
     "shell.execute_reply": "2024-10-18T01:36:27.762323Z",
     "shell.execute_reply.started": "2024-10-18T01:36:27.757108Z"
    }
   },
   "outputs": [],
   "source": [
    "#simple_imshow([blended(images, True), blended(logMIN, True), blended(LOGMEDIAN, True)])\n",
    "#slide_imshow(logMIN)"
   ]
  },
  {
   "cell_type": "code",
   "execution_count": 29,
   "id": "e3349dde-1c64-4697-b78f-aee30887e679",
   "metadata": {
    "execution": {
     "iopub.execute_input": "2024-10-18T01:36:27.767871Z",
     "iopub.status.busy": "2024-10-18T01:36:27.767210Z",
     "iopub.status.idle": "2024-10-18T01:36:27.779327Z",
     "shell.execute_reply": "2024-10-18T01:36:27.777830Z",
     "shell.execute_reply.started": "2024-10-18T01:36:27.767785Z"
    }
   },
   "outputs": [],
   "source": [
    "threshold3 = mean_threshold(logMIN,6)"
   ]
  },
  {
   "cell_type": "code",
   "execution_count": 30,
   "id": "5e8c11f7-251a-4c46-a387-bac14551ec00",
   "metadata": {
    "execution": {
     "iopub.execute_input": "2024-10-18T01:36:27.783535Z",
     "iopub.status.busy": "2024-10-18T01:36:27.781950Z",
     "iopub.status.idle": "2024-10-18T01:36:28.115874Z",
     "shell.execute_reply": "2024-10-18T01:36:28.085299Z",
     "shell.execute_reply.started": "2024-10-18T01:36:27.783416Z"
    }
   },
   "outputs": [],
   "source": [
    "struct1 = ndimage.generate_binary_structure(3, 2)\n",
    "binary3 = simple_binary(logMIN, threshold3)\n",
    "eroded_bin3 = img_as_ubyte(ndimage.binary_erosion(~binary3, struct1))"
   ]
  },
  {
   "cell_type": "code",
   "execution_count": 31,
   "id": "818222a4-04d3-415b-8fad-d7e734cc2e01",
   "metadata": {
    "execution": {
     "iopub.execute_input": "2024-10-18T01:36:28.124639Z",
     "iopub.status.busy": "2024-10-18T01:36:28.123812Z",
     "iopub.status.idle": "2024-10-18T01:36:28.131562Z",
     "shell.execute_reply": "2024-10-18T01:36:28.129562Z",
     "shell.execute_reply.started": "2024-10-18T01:36:28.124543Z"
    }
   },
   "outputs": [],
   "source": [
    "#simple_imshow([blended(binary3)])"
   ]
  },
  {
   "cell_type": "code",
   "execution_count": 32,
   "id": "dde0b641-b289-4ef8-b802-fd1eccbb3d13",
   "metadata": {
    "execution": {
     "iopub.execute_input": "2024-10-18T01:36:28.134615Z",
     "iopub.status.busy": "2024-10-18T01:36:28.133939Z",
     "iopub.status.idle": "2024-10-18T01:36:28.140987Z",
     "shell.execute_reply": "2024-10-18T01:36:28.139049Z",
     "shell.execute_reply.started": "2024-10-18T01:36:28.134538Z"
    }
   },
   "outputs": [],
   "source": [
    "#slide_imshow(eroded_bin3)"
   ]
  },
  {
   "cell_type": "code",
   "execution_count": 33,
   "id": "b0a3dd7d-0e38-44bb-bca9-59fcc7c0803d",
   "metadata": {
    "execution": {
     "iopub.execute_input": "2024-10-18T01:36:28.144970Z",
     "iopub.status.busy": "2024-10-18T01:36:28.144045Z",
     "iopub.status.idle": "2024-10-18T01:36:28.293319Z",
     "shell.execute_reply": "2024-10-18T01:36:28.291101Z",
     "shell.execute_reply.started": "2024-10-18T01:36:28.144886Z"
    }
   },
   "outputs": [],
   "source": [
    "segImages = img_as_ubyte(segment(img_as_ubyte(filtered), eroded_bin3))"
   ]
  },
  {
   "cell_type": "code",
   "execution_count": 34,
   "id": "3389cc01-8eeb-4adb-87d5-4ebbabd63a84",
   "metadata": {
    "execution": {
     "iopub.execute_input": "2024-10-18T01:36:28.300092Z",
     "iopub.status.busy": "2024-10-18T01:36:28.299299Z",
     "iopub.status.idle": "2024-10-18T01:36:29.123560Z",
     "shell.execute_reply": "2024-10-18T01:36:29.118351Z",
     "shell.execute_reply.started": "2024-10-18T01:36:28.300016Z"
    }
   },
   "outputs": [],
   "source": [
    "segImages = img_as_ubyte(ndimage.median_filter(segImages, size=3))"
   ]
  },
  {
   "cell_type": "code",
   "execution_count": null,
   "id": "80db646e-8a8b-49ec-beac-bee01ac031f7",
   "metadata": {},
   "outputs": [],
   "source": []
  },
  {
   "cell_type": "code",
   "execution_count": 37,
   "id": "f9bf6f73-831e-4faf-a140-92a557c5289e",
   "metadata": {
    "execution": {
     "iopub.execute_input": "2024-10-18T01:36:59.553247Z",
     "iopub.status.busy": "2024-10-18T01:36:59.552555Z",
     "iopub.status.idle": "2024-10-18T01:37:08.566978Z",
     "shell.execute_reply": "2024-10-18T01:37:08.564423Z",
     "shell.execute_reply.started": "2024-10-18T01:36:59.553170Z"
    }
   },
   "outputs": [
    {
     "data": {
      "text/plain": [
       "True"
      ]
     },
     "execution_count": 37,
     "metadata": {},
     "output_type": "execute_result"
    }
   ],
   "source": [
    "simple_imshow([blended(segImages),blended(img_as_ubyte(images)),blended(img_as_ubyte(logMIN))])"
   ]
  },
  {
   "cell_type": "code",
   "execution_count": 36,
   "id": "7e6590e6-2776-4fdc-b2be-76c325c3e738",
   "metadata": {
    "execution": {
     "iopub.execute_input": "2024-10-18T01:36:47.383469Z",
     "iopub.status.busy": "2024-10-18T01:36:47.382310Z",
     "iopub.status.idle": "2024-10-18T01:36:50.502210Z",
     "shell.execute_reply": "2024-10-18T01:36:50.499700Z",
     "shell.execute_reply.started": "2024-10-18T01:36:47.383348Z"
    }
   },
   "outputs": [],
   "source": [
    "slide_imshow(segImages)"
   ]
  },
  {
   "cell_type": "code",
   "execution_count": 38,
   "id": "5f8dcc02-a8c7-4e9e-8002-16f79ecc2f7b",
   "metadata": {
    "execution": {
     "iopub.execute_input": "2024-10-18T01:37:22.139350Z",
     "iopub.status.busy": "2024-10-18T01:37:22.138551Z",
     "iopub.status.idle": "2024-10-18T01:37:34.102416Z",
     "shell.execute_reply": "2024-10-18T01:37:34.100039Z",
     "shell.execute_reply.started": "2024-10-18T01:37:22.139263Z"
    }
   },
   "outputs": [
    {
     "data": {
      "text/plain": [
       "True"
      ]
     },
     "execution_count": 38,
     "metadata": {},
     "output_type": "execute_result"
    }
   ],
   "source": [
    "binary4 = simple_binary(segImages, mean_threshold(segImages))\n",
    "simple_imshow(blended(binary4, True))"
   ]
  },
  {
   "cell_type": "code",
   "execution_count": 18,
   "id": "5a3f930a-00d2-46b1-ae46-9176ed21deec",
   "metadata": {
    "execution": {
     "iopub.execute_input": "2024-10-18T01:35:26.514698Z",
     "iopub.status.busy": "2024-10-18T01:35:26.513844Z",
     "iopub.status.idle": "2024-10-18T01:35:26.522007Z",
     "shell.execute_reply": "2024-10-18T01:35:26.519704Z",
     "shell.execute_reply.started": "2024-10-18T01:35:26.514500Z"
    }
   },
   "outputs": [],
   "source": [
    "#slide_imshow(binary4)"
   ]
  },
  {
   "cell_type": "code",
   "execution_count": 39,
   "id": "fdd93b4c-3da2-4ca3-9eba-76cb34db5844",
   "metadata": {
    "execution": {
     "iopub.execute_input": "2024-10-18T01:37:40.668965Z",
     "iopub.status.busy": "2024-10-18T01:37:40.665453Z",
     "iopub.status.idle": "2024-10-18T01:37:52.815019Z",
     "shell.execute_reply": "2024-10-18T01:37:52.812596Z",
     "shell.execute_reply.started": "2024-10-18T01:37:40.666089Z"
    }
   },
   "outputs": [
    {
     "data": {
      "text/plain": [
       "True"
      ]
     },
     "execution_count": 39,
     "metadata": {},
     "output_type": "execute_result"
    }
   ],
   "source": [
    "skel = img_as_ubyte(skeletonize(binary4))\n",
    "simple_imshow([blended(skel)])"
   ]
  },
  {
   "cell_type": "code",
   "execution_count": 42,
   "id": "7f7e72b4-f59f-46dd-86a2-8b1d26778e2c",
   "metadata": {
    "execution": {
     "iopub.execute_input": "2024-10-18T01:39:37.826478Z",
     "iopub.status.busy": "2024-10-18T01:39:37.825783Z",
     "iopub.status.idle": "2024-10-18T01:39:49.901208Z",
     "shell.execute_reply": "2024-10-18T01:39:49.898518Z",
     "shell.execute_reply.started": "2024-10-18T01:39:37.826399Z"
    }
   },
   "outputs": [],
   "source": [
    "slide_imshow(skel)"
   ]
  },
  {
   "cell_type": "markdown",
   "id": "96295d98-d829-4e21-a2e0-aa602b9061e2",
   "metadata": {},
   "source": [
    "### Graph generation"
   ]
  },
  {
   "cell_type": "code",
   "execution_count": 43,
   "id": "a2190795-23f8-48db-8297-349cd90fa9a0",
   "metadata": {
    "execution": {
     "iopub.execute_input": "2024-10-18T01:40:02.201238Z",
     "iopub.status.busy": "2024-10-18T01:40:02.200518Z",
     "iopub.status.idle": "2024-10-18T01:40:02.582013Z",
     "shell.execute_reply": "2024-10-18T01:40:02.579991Z",
     "shell.execute_reply.started": "2024-10-18T01:40:02.201162Z"
    }
   },
   "outputs": [
    {
     "name": "stdout",
     "output_type": "stream",
     "text": [
      ">> Graph created\n",
      "OP_3 GOLD STANDARD ROOT: (93.742, 179, 38)\n",
      "TEST ROOT: (2, 503, 129)\n"
     ]
    }
   ],
   "source": [
    "graph = Graph(skel)\n",
    "graph.set_root((2, 503, 129))\n",
    "graph.create_graph(moving_avg=True, window_moving_avg_sz=3)\n",
    "root = graph.get_root()\n",
    "g_root = (93.742,179,38)\n",
    "print(f\"OP_3 GOLD STANDARD ROOT: {g_root}\\nTEST ROOT: {root}\")"
   ]
  },
  {
   "cell_type": "code",
   "execution_count": 44,
   "id": "5e1cb450-910a-4412-b6c3-32baf053f318",
   "metadata": {
    "execution": {
     "iopub.execute_input": "2024-10-18T01:40:03.636452Z",
     "iopub.status.busy": "2024-10-18T01:40:03.635681Z",
     "iopub.status.idle": "2024-10-18T01:40:03.718920Z",
     "shell.execute_reply": "2024-10-18T01:40:03.717215Z",
     "shell.execute_reply.started": "2024-10-18T01:40:03.636362Z"
    }
   },
   "outputs": [
    {
     "name": "stdout",
     "output_type": "stream",
     "text": [
      ">> Minimum Spanning Tree Generated\n",
      ">> Minimum Spanning Tree length: 1062\n",
      ">> Depth-First search and labeling complete\n"
     ]
    }
   ],
   "source": [
    "mst = graph.apply_dfs_and_label_nodes()"
   ]
  },
  {
   "cell_type": "code",
   "execution_count": 45,
   "id": "e74aec80-3899-4a95-b348-e6d40424f16b",
   "metadata": {
    "execution": {
     "iopub.execute_input": "2024-10-18T01:40:04.759057Z",
     "iopub.status.busy": "2024-10-18T01:40:04.758272Z",
     "iopub.status.idle": "2024-10-18T01:40:04.778219Z",
     "shell.execute_reply": "2024-10-18T01:40:04.776278Z",
     "shell.execute_reply.started": "2024-10-18T01:40:04.758979Z"
    }
   },
   "outputs": [
    {
     "name": "stdout",
     "output_type": "stream",
     "text": [
      ">> SWC saved at: ./Test/OP_3test.swc\n"
     ]
    },
    {
     "data": {
      "text/plain": [
       "True"
      ]
     },
     "execution_count": 45,
     "metadata": {},
     "output_type": "execute_result"
    }
   ],
   "source": [
    "graph.save_to_swc(mst,\"./Test/OP_4test.swc\")"
   ]
  },
  {
   "cell_type": "code",
   "execution_count": null,
   "id": "8b6eaaac-90ca-4501-b593-eaadabeab0e8",
   "metadata": {},
   "outputs": [],
   "source": []
  },
  {
   "cell_type": "code",
   "execution_count": null,
   "id": "9e29e552-de4a-44c2-9679-e465ac37ba74",
   "metadata": {},
   "outputs": [],
   "source": []
  }
 ],
 "metadata": {
  "kernelspec": {
   "display_name": "Python 3 (ipykernel)",
   "language": "python",
   "name": "python3"
  },
  "language_info": {
   "codemirror_mode": {
    "name": "ipython",
    "version": 3
   },
   "file_extension": ".py",
   "mimetype": "text/x-python",
   "name": "python",
   "nbconvert_exporter": "python",
   "pygments_lexer": "ipython3",
   "version": "3.9.18"
  },
  "toc-autonumbering": false,
  "toc-showcode": false
 },
 "nbformat": 4,
 "nbformat_minor": 5
}
