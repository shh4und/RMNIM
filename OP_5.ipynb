{
 "cells": [
  {
   "cell_type": "markdown",
   "id": "325e93d0-9320-4a98-9080-f1f3b7ff7e4d",
   "metadata": {},
   "source": [
    "# Olfactory Projection Fibers (OP_5)"
   ]
  },
  {
   "cell_type": "code",
   "execution_count": 14,
   "id": "06e6eb59-cfa1-48b1-84fc-78801236fc67",
   "metadata": {
    "editable": true,
    "execution": {
     "iopub.execute_input": "2024-08-06T22:46:04.147113Z",
     "iopub.status.busy": "2024-08-06T22:46:04.146282Z",
     "iopub.status.idle": "2024-08-06T22:46:04.167415Z",
     "shell.execute_reply": "2024-08-06T22:46:04.165600Z",
     "shell.execute_reply.started": "2024-08-06T22:46:04.147027Z"
    },
    "slideshow": {
     "slide_type": ""
    },
    "tags": []
   },
   "outputs": [],
   "source": [
    "from ip.ios import *\n",
    "from ip.enhancement import *\n",
    "from ip.binary import *\n",
    "from ip.graph_nx import *\n",
    "from ip.swc import *\n",
    "from ip.split import *\n",
    "from skimage.util import img_as_ubyte\n",
    "from skimage.morphology import skeletonize\n",
    "from scipy import ndimage"
   ]
  },
  {
   "cell_type": "markdown",
   "id": "6d3f26e4-d52c-44a1-a965-3c5e8a5d0a6f",
   "metadata": {},
   "source": [
    "## Read Data"
   ]
  },
  {
   "cell_type": "code",
   "execution_count": 15,
   "id": "cf0d64c0-1994-4053-a26f-a92f38ff4e0d",
   "metadata": {
    "execution": {
     "iopub.execute_input": "2024-08-06T22:46:04.173864Z",
     "iopub.status.busy": "2024-08-06T22:46:04.172797Z",
     "iopub.status.idle": "2024-08-06T22:46:04.186950Z",
     "shell.execute_reply": "2024-08-06T22:46:04.184264Z",
     "shell.execute_reply.started": "2024-08-06T22:46:04.173758Z"
    }
   },
   "outputs": [],
   "source": [
    "folder_path = \"./OlfactoryProjectionFibers/ImageStacks/OP_5\""
   ]
  },
  {
   "cell_type": "code",
   "execution_count": 16,
   "id": "638fb640-1704-4f9f-ac4c-6bbb5a00849d",
   "metadata": {
    "execution": {
     "iopub.execute_input": "2024-08-06T22:46:04.196809Z",
     "iopub.status.busy": "2024-08-06T22:46:04.191504Z",
     "iopub.status.idle": "2024-08-06T22:46:04.316299Z",
     "shell.execute_reply": "2024-08-06T22:46:04.313807Z",
     "shell.execute_reply.started": "2024-08-06T22:46:04.196556Z"
    }
   },
   "outputs": [],
   "source": [
    "images = load_tif_stack(folder_path)"
   ]
  },
  {
   "cell_type": "markdown",
   "id": "f9f90343-f1a4-4201-af28-54988b120c78",
   "metadata": {},
   "source": [
    "## Code Process and Execution"
   ]
  },
  {
   "cell_type": "code",
   "execution_count": 17,
   "id": "86f9b64d-8370-4121-ac16-9415ee195b9f",
   "metadata": {
    "execution": {
     "iopub.execute_input": "2024-08-06T22:46:04.319710Z",
     "iopub.status.busy": "2024-08-06T22:46:04.318917Z",
     "iopub.status.idle": "2024-08-06T22:46:04.356890Z",
     "shell.execute_reply": "2024-08-06T22:46:04.354723Z",
     "shell.execute_reply.started": "2024-08-06T22:46:04.319589Z"
    }
   },
   "outputs": [],
   "source": [
    "gaussian_img = gaussian_blur(images, 7)"
   ]
  },
  {
   "cell_type": "code",
   "execution_count": 18,
   "id": "83247865-3592-4a2e-8d49-27197e825ec7",
   "metadata": {
    "execution": {
     "iopub.execute_input": "2024-08-06T22:46:04.366176Z",
     "iopub.status.busy": "2024-08-06T22:46:04.361874Z",
     "iopub.status.idle": "2024-08-06T22:46:05.515348Z",
     "shell.execute_reply": "2024-08-06T22:46:05.512928Z",
     "shell.execute_reply.started": "2024-08-06T22:46:04.362457Z"
    }
   },
   "outputs": [
    {
     "data": {
      "text/plain": [
       "True"
      ]
     },
     "execution_count": 18,
     "metadata": {},
     "output_type": "execute_result"
    }
   ],
   "source": [
    "cv2_imshow([blended(images), blended(gaussian_img)])"
   ]
  },
  {
   "cell_type": "code",
   "execution_count": 19,
   "id": "360462f6-367f-4681-85d9-9d827afd07ef",
   "metadata": {
    "execution": {
     "iopub.execute_input": "2024-08-06T22:46:05.519932Z",
     "iopub.status.busy": "2024-08-06T22:46:05.519100Z",
     "iopub.status.idle": "2024-08-06T22:46:06.240918Z",
     "shell.execute_reply": "2024-08-06T22:46:06.207942Z",
     "shell.execute_reply.started": "2024-08-06T22:46:05.519823Z"
    }
   },
   "outputs": [],
   "source": [
    "threshold1 = mean_threshold(gaussian_img, 10)\n",
    "binary1 = simple_binary(gaussian_img, threshold1)\n",
    "seg = segment(gaussian_img, binary1)\n",
    "denoising = median_blur(seg, 5)\n",
    "threshold2 = mean_threshold(denoising, 10)\n",
    "binary2 = simple_binary(denoising, threshold2)\n",
    "\n",
    "skel = img_as_ubyte(skeletonize(binary2))"
   ]
  },
  {
   "cell_type": "code",
   "execution_count": 20,
   "id": "6ca8a0e8-901f-4e1d-9c8a-83d801afbc4d",
   "metadata": {
    "execution": {
     "iopub.execute_input": "2024-08-06T22:46:06.252866Z",
     "iopub.status.busy": "2024-08-06T22:46:06.250848Z",
     "iopub.status.idle": "2024-08-06T22:46:06.263567Z",
     "shell.execute_reply": "2024-08-06T22:46:06.261005Z",
     "shell.execute_reply.started": "2024-08-06T22:46:06.252752Z"
    }
   },
   "outputs": [
    {
     "name": "stdout",
     "output_type": "stream",
     "text": [
      "6.0 1.0\n"
     ]
    }
   ],
   "source": [
    "print(threshold1,threshold2)"
   ]
  },
  {
   "cell_type": "code",
   "execution_count": 21,
   "id": "bb0cf43b-92a0-4a88-90fb-f7b2ad1634d3",
   "metadata": {
    "execution": {
     "iopub.execute_input": "2024-08-06T22:46:06.268484Z",
     "iopub.status.busy": "2024-08-06T22:46:06.266968Z",
     "iopub.status.idle": "2024-08-06T22:46:24.998090Z",
     "shell.execute_reply": "2024-08-06T22:46:24.988283Z",
     "shell.execute_reply.started": "2024-08-06T22:46:06.268330Z"
    }
   },
   "outputs": [
    {
     "data": {
      "text/plain": [
       "True"
      ]
     },
     "execution_count": 21,
     "metadata": {},
     "output_type": "execute_result"
    }
   ],
   "source": [
    "cv2_imshow([blended(seg), blended(denoising), blended(binary2), blended(skel)])"
   ]
  },
  {
   "cell_type": "markdown",
   "id": "6aca20fc-bb84-4c2f-af79-2d3cb56af7de",
   "metadata": {},
   "source": [
    "### For visualization purposes only"
   ]
  },
  {
   "cell_type": "code",
   "execution_count": 9,
   "id": "52d873bd-1c1e-4d49-86df-d395e207ae01",
   "metadata": {
    "execution": {
     "iopub.execute_input": "2024-08-06T22:32:51.189733Z",
     "iopub.status.busy": "2024-08-06T22:32:51.188678Z",
     "iopub.status.idle": "2024-08-06T22:32:51.203619Z",
     "shell.execute_reply": "2024-08-06T22:32:51.198428Z",
     "shell.execute_reply.started": "2024-08-06T22:32:51.189599Z"
    }
   },
   "outputs": [],
   "source": [
    "# cv2_imshow(skel[32:36])"
   ]
  },
  {
   "cell_type": "markdown",
   "id": "d09f1ca3-750d-4179-9a2f-281ab0c20d4e",
   "metadata": {},
   "source": [
    "### Graph generation"
   ]
  },
  {
   "cell_type": "code",
   "execution_count": 10,
   "id": "2cc66763-3823-4733-a2c0-d171347ac9ce",
   "metadata": {
    "execution": {
     "iopub.execute_input": "2024-08-06T22:32:51.210357Z",
     "iopub.status.busy": "2024-08-06T22:32:51.209053Z",
     "iopub.status.idle": "2024-08-06T22:32:51.583759Z",
     "shell.execute_reply": "2024-08-06T22:32:51.581900Z",
     "shell.execute_reply.started": "2024-08-06T22:32:51.210263Z"
    }
   },
   "outputs": [
    {
     "name": "stdout",
     "output_type": "stream",
     "text": [
      ">> Graph created\n",
      "OP_1 GOLD STANDARD ROOT: (185.7, 264.02, 33)\n",
      "TEST ROOT: (33, 264, 185)\n"
     ]
    }
   ],
   "source": [
    "graph = Graph(skel)\n",
    "graph.set_root((33, 264, 185))\n",
    "graph.create_graph()\n",
    "#OP_5 (X,Y,Z): (185.7,264.02,33)\n",
    "root = graph.get_root()\n",
    "g_root = (185.7,264.02,33)\n",
    "print(f\"OP_1 GOLD STANDARD ROOT: {g_root}\\nTEST ROOT: {root}\")"
   ]
  },
  {
   "cell_type": "code",
   "execution_count": 11,
   "id": "5e915859-65c2-4986-ac51-a57495c4e250",
   "metadata": {
    "execution": {
     "iopub.execute_input": "2024-08-06T22:32:51.587579Z",
     "iopub.status.busy": "2024-08-06T22:32:51.586390Z",
     "iopub.status.idle": "2024-08-06T22:32:51.640282Z",
     "shell.execute_reply": "2024-08-06T22:32:51.638307Z",
     "shell.execute_reply.started": "2024-08-06T22:32:51.587150Z"
    }
   },
   "outputs": [
    {
     "name": "stdout",
     "output_type": "stream",
     "text": [
      ">> Minimum Spanning Tree Generated\n",
      ">> Minimum Spanning Tree length: 683\n",
      ">> Depth-First search and labeling complete\n"
     ]
    }
   ],
   "source": [
    "mst = graph.apply_dfs_and_label_nodes()"
   ]
  },
  {
   "cell_type": "code",
   "execution_count": 12,
   "id": "59b77209-2bdf-483f-8711-c7afe36a7c1d",
   "metadata": {
    "execution": {
     "iopub.execute_input": "2024-08-06T22:32:51.645998Z",
     "iopub.status.busy": "2024-08-06T22:32:51.645318Z",
     "iopub.status.idle": "2024-08-06T22:32:51.664344Z",
     "shell.execute_reply": "2024-08-06T22:32:51.662380Z",
     "shell.execute_reply.started": "2024-08-06T22:32:51.645917Z"
    }
   },
   "outputs": [
    {
     "name": "stdout",
     "output_type": "stream",
     "text": [
      ">> SWC saved at: ./Test/OP_5.swc\n"
     ]
    },
    {
     "data": {
      "text/plain": [
       "True"
      ]
     },
     "execution_count": 12,
     "metadata": {},
     "output_type": "execute_result"
    }
   ],
   "source": [
    "graph.save_to_swc(mst,\"./Test/OP_5.swc\",1.2)"
   ]
  },
  {
   "cell_type": "code",
   "execution_count": null,
   "id": "ab640154-b53b-4c00-8af4-17b3aaa54951",
   "metadata": {},
   "outputs": [],
   "source": []
  },
  {
   "cell_type": "code",
   "execution_count": null,
   "id": "2e510aef-8d76-4b4d-8b88-2db17d95102c",
   "metadata": {},
   "outputs": [],
   "source": []
  }
 ],
 "metadata": {
  "kernelspec": {
   "display_name": "Python 3 (ipykernel)",
   "language": "python",
   "name": "python3"
  },
  "language_info": {
   "codemirror_mode": {
    "name": "ipython",
    "version": 3
   },
   "file_extension": ".py",
   "mimetype": "text/x-python",
   "name": "python",
   "nbconvert_exporter": "python",
   "pygments_lexer": "ipython3",
   "version": "3.9.18"
  },
  "toc-autonumbering": false,
  "toc-showcode": false
 },
 "nbformat": 4,
 "nbformat_minor": 5
}
