{
 "cells": [
  {
   "cell_type": "markdown",
   "id": "325e93d0-9320-4a98-9080-f1f3b7ff7e4d",
   "metadata": {},
   "source": [
    "# Olfactory Projection Fibers (OP_5)"
   ]
  },
  {
   "cell_type": "code",
   "execution_count": 1,
   "id": "06e6eb59-cfa1-48b1-84fc-78801236fc67",
   "metadata": {
    "editable": true,
    "execution": {
     "iopub.execute_input": "2024-06-05T20:49:06.985732Z",
     "iopub.status.busy": "2024-06-05T20:49:06.984541Z",
     "iopub.status.idle": "2024-06-05T20:49:07.659467Z",
     "shell.execute_reply": "2024-06-05T20:49:07.657710Z",
     "shell.execute_reply.started": "2024-06-05T20:49:06.985492Z"
    },
    "slideshow": {
     "slide_type": ""
    },
    "tags": []
   },
   "outputs": [],
   "source": [
    "from ip.ios import *\n",
    "from ip.enhancement import *\n",
    "from ip.binary import *\n",
    "from ip.graph_nx import *\n",
    "from ip.swc import *\n",
    "from ip.split import *\n",
    "from skimage.morphology import skeletonize"
   ]
  },
  {
   "cell_type": "markdown",
   "id": "6d3f26e4-d52c-44a1-a965-3c5e8a5d0a6f",
   "metadata": {},
   "source": [
    "## Read Data"
   ]
  },
  {
   "cell_type": "code",
   "execution_count": 2,
   "id": "cf0d64c0-1994-4053-a26f-a92f38ff4e0d",
   "metadata": {
    "execution": {
     "iopub.execute_input": "2024-06-05T20:49:07.663879Z",
     "iopub.status.busy": "2024-06-05T20:49:07.662492Z",
     "iopub.status.idle": "2024-06-05T20:49:07.669986Z",
     "shell.execute_reply": "2024-06-05T20:49:07.668047Z",
     "shell.execute_reply.started": "2024-06-05T20:49:07.663457Z"
    }
   },
   "outputs": [],
   "source": [
    "folder_path = \"./OlfactoryProjectionFibers/ImageStacks/OP_5\""
   ]
  },
  {
   "cell_type": "code",
   "execution_count": 3,
   "id": "638fb640-1704-4f9f-ac4c-6bbb5a00849d",
   "metadata": {
    "execution": {
     "iopub.execute_input": "2024-06-05T20:49:07.675945Z",
     "iopub.status.busy": "2024-06-05T20:49:07.675277Z",
     "iopub.status.idle": "2024-06-05T20:49:07.726164Z",
     "shell.execute_reply": "2024-06-05T20:49:07.724183Z",
     "shell.execute_reply.started": "2024-06-05T20:49:07.675858Z"
    }
   },
   "outputs": [],
   "source": [
    "images = load_image_stack(folder_path)"
   ]
  },
  {
   "cell_type": "markdown",
   "id": "f9f90343-f1a4-4201-af28-54988b120c78",
   "metadata": {},
   "source": [
    "## Code Process and Execution"
   ]
  },
  {
   "cell_type": "code",
   "execution_count": 4,
   "id": "86f9b64d-8370-4121-ac16-9415ee195b9f",
   "metadata": {
    "execution": {
     "iopub.execute_input": "2024-06-05T20:49:07.735055Z",
     "iopub.status.busy": "2024-06-05T20:49:07.730946Z",
     "iopub.status.idle": "2024-06-05T20:49:07.817663Z",
     "shell.execute_reply": "2024-06-05T20:49:07.810230Z",
     "shell.execute_reply.started": "2024-06-05T20:49:07.731502Z"
    }
   },
   "outputs": [],
   "source": [
    "gaussian_img = gaussian_blur(images, 9)"
   ]
  },
  {
   "cell_type": "code",
   "execution_count": 5,
   "id": "3c3a7210-5ea7-4ac3-a5d2-a43a8ab97746",
   "metadata": {
    "execution": {
     "iopub.execute_input": "2024-06-05T20:49:07.823078Z",
     "iopub.status.busy": "2024-06-05T20:49:07.821735Z",
     "iopub.status.idle": "2024-06-05T20:49:07.956896Z",
     "shell.execute_reply": "2024-06-05T20:49:07.954952Z",
     "shell.execute_reply.started": "2024-06-05T20:49:07.822986Z"
    }
   },
   "outputs": [],
   "source": [
    "threshold1 = mean_threshold(gaussian_img, 10)\n",
    "binary1 = simple_binary(gaussian_img, threshold1)\n",
    "seg = segment(gaussian_img, binary1)\n",
    "denoising = mean_blur(seg, 2)\n",
    "threshold2 = mean_threshold(denoising, 10)\n",
    "binary2 = simple_binary(denoising, threshold2)"
   ]
  },
  {
   "cell_type": "code",
   "execution_count": 6,
   "id": "c782d507-4558-42e9-a6d7-14c97ea1dcbc",
   "metadata": {
    "execution": {
     "iopub.execute_input": "2024-06-05T20:49:07.962515Z",
     "iopub.status.busy": "2024-06-05T20:49:07.959591Z",
     "iopub.status.idle": "2024-06-05T20:49:08.439703Z",
     "shell.execute_reply": "2024-06-05T20:49:08.436883Z",
     "shell.execute_reply.started": "2024-06-05T20:49:07.960143Z"
    }
   },
   "outputs": [],
   "source": [
    "skel = skeletonize(binary2)"
   ]
  },
  {
   "cell_type": "markdown",
   "id": "6aca20fc-bb84-4c2f-af79-2d3cb56af7de",
   "metadata": {},
   "source": [
    "### For visualization purposes only"
   ]
  },
  {
   "cell_type": "code",
   "execution_count": 7,
   "id": "e7970848-8297-431d-be49-060cc959428f",
   "metadata": {
    "execution": {
     "iopub.execute_input": "2024-06-05T20:49:08.443711Z",
     "iopub.status.busy": "2024-06-05T20:49:08.442859Z",
     "iopub.status.idle": "2024-06-05T20:49:08.464128Z",
     "shell.execute_reply": "2024-06-05T20:49:08.461532Z",
     "shell.execute_reply.started": "2024-06-05T20:49:08.443627Z"
    }
   },
   "outputs": [
    {
     "data": {
      "text/plain": [
       "True"
      ]
     },
     "execution_count": 7,
     "metadata": {},
     "output_type": "execute_result"
    }
   ],
   "source": [
    "skel[32:35,265:,:186] = 0\n",
    "blend = blended(skel)\n",
    "single_download(blend,\"./Test/Images/OP_5_skel.png\")"
   ]
  },
  {
   "cell_type": "code",
   "execution_count": 8,
   "id": "ef3b1911-01ed-4a14-be3b-f18b5fdad3cc",
   "metadata": {
    "execution": {
     "iopub.execute_input": "2024-06-05T20:49:08.467731Z",
     "iopub.status.busy": "2024-06-05T20:49:08.467054Z",
     "iopub.status.idle": "2024-06-05T20:49:08.475194Z",
     "shell.execute_reply": "2024-06-05T20:49:08.472668Z",
     "shell.execute_reply.started": "2024-06-05T20:49:08.467653Z"
    }
   },
   "outputs": [],
   "source": [
    "#cv2_imshow([blend])"
   ]
  },
  {
   "cell_type": "markdown",
   "id": "d09f1ca3-750d-4179-9a2f-281ab0c20d4e",
   "metadata": {},
   "source": [
    "### Graph generation"
   ]
  },
  {
   "cell_type": "code",
   "execution_count": 9,
   "id": "2cc66763-3823-4733-a2c0-d171347ac9ce",
   "metadata": {
    "execution": {
     "iopub.execute_input": "2024-06-05T20:49:08.480172Z",
     "iopub.status.busy": "2024-06-05T20:49:08.478256Z",
     "iopub.status.idle": "2024-06-05T20:49:10.512071Z",
     "shell.execute_reply": "2024-06-05T20:49:10.509993Z",
     "shell.execute_reply.started": "2024-06-05T20:49:08.479605Z"
    }
   },
   "outputs": [
    {
     "name": "stdout",
     "output_type": "stream",
     "text": [
      "Number of empty images: 15\n",
      "Number of empty rows: 30757\n"
     ]
    }
   ],
   "source": [
    "graph = Graph(skel)\n",
    "graph.set_root((34, 264, 186))\n",
    "graph.create_graph()\n",
    "#OP_5 (X,Y,Z): (185.7,264.02,33)"
   ]
  },
  {
   "cell_type": "code",
   "execution_count": 10,
   "id": "6b324488-d9db-420f-b442-28582223ff1e",
   "metadata": {
    "execution": {
     "iopub.execute_input": "2024-06-05T20:49:10.515902Z",
     "iopub.status.busy": "2024-06-05T20:49:10.515046Z",
     "iopub.status.idle": "2024-06-05T20:49:10.524115Z",
     "shell.execute_reply": "2024-06-05T20:49:10.521776Z",
     "shell.execute_reply.started": "2024-06-05T20:49:10.515821Z"
    }
   },
   "outputs": [
    {
     "name": "stdout",
     "output_type": "stream",
     "text": [
      "(34, 264, 186)\n"
     ]
    }
   ],
   "source": [
    "root = graph.get_root()\n",
    "print(root)"
   ]
  },
  {
   "cell_type": "code",
   "execution_count": 11,
   "id": "b10bf5e5-79ae-4efb-8545-9352dbb22c8f",
   "metadata": {
    "execution": {
     "iopub.execute_input": "2024-06-05T20:49:10.527450Z",
     "iopub.status.busy": "2024-06-05T20:49:10.526265Z",
     "iopub.status.idle": "2024-06-05T20:49:10.594169Z",
     "shell.execute_reply": "2024-06-05T20:49:10.591880Z",
     "shell.execute_reply.started": "2024-06-05T20:49:10.527359Z"
    }
   },
   "outputs": [
    {
     "name": "stdout",
     "output_type": "stream",
     "text": [
      "Minimum Spanning Tree Generated.\n",
      "Dijkstra has found the shortest weighted paths and lengths from the root node.\n"
     ]
    }
   ],
   "source": [
    "distances, paths = graph.apply_dijkstra_and_label_nodes()"
   ]
  },
  {
   "cell_type": "code",
   "execution_count": 12,
   "id": "09f7b595-e44a-4251-9abb-96f903322bf0",
   "metadata": {
    "execution": {
     "iopub.execute_input": "2024-06-05T20:49:10.600330Z",
     "iopub.status.busy": "2024-06-05T20:49:10.599628Z",
     "iopub.status.idle": "2024-06-05T20:49:10.608338Z",
     "shell.execute_reply": "2024-06-05T20:49:10.606560Z",
     "shell.execute_reply.started": "2024-06-05T20:49:10.600246Z"
    }
   },
   "outputs": [
    {
     "name": "stdout",
     "output_type": "stream",
     "text": [
      "549 549\n"
     ]
    }
   ],
   "source": [
    "print(len(distances), len(paths))"
   ]
  },
  {
   "cell_type": "code",
   "execution_count": 13,
   "id": "59b77209-2bdf-483f-8711-c7afe36a7c1d",
   "metadata": {
    "execution": {
     "iopub.execute_input": "2024-06-05T20:49:10.612059Z",
     "iopub.status.busy": "2024-06-05T20:49:10.611240Z",
     "iopub.status.idle": "2024-06-05T20:49:10.627428Z",
     "shell.execute_reply": "2024-06-05T20:49:10.625580Z",
     "shell.execute_reply.started": "2024-06-05T20:49:10.611973Z"
    }
   },
   "outputs": [
    {
     "name": "stdout",
     "output_type": "stream",
     "text": [
      "SWC saved at: ./Test/OP_5.swc\n"
     ]
    },
    {
     "data": {
      "text/plain": [
       "True"
      ]
     },
     "execution_count": 13,
     "metadata": {},
     "output_type": "execute_result"
    }
   ],
   "source": [
    "graph.save_to_swc(\"./Test/OP_5.swc\")"
   ]
  }
 ],
 "metadata": {
  "kernelspec": {
   "display_name": "Python 3 (ipykernel)",
   "language": "python",
   "name": "python3"
  },
  "language_info": {
   "codemirror_mode": {
    "name": "ipython",
    "version": 3
   },
   "file_extension": ".py",
   "mimetype": "text/x-python",
   "name": "python",
   "nbconvert_exporter": "python",
   "pygments_lexer": "ipython3",
   "version": "3.9.18"
  },
  "toc-autonumbering": false,
  "toc-showcode": false
 },
 "nbformat": 4,
 "nbformat_minor": 5
}
