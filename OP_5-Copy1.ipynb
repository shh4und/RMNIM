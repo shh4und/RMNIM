{
 "cells": [
  {
   "cell_type": "markdown",
   "id": "325e93d0-9320-4a98-9080-f1f3b7ff7e4d",
   "metadata": {},
   "source": [
    "# Olfactory Projection Fibers (OP_5)"
   ]
  },
  {
   "cell_type": "code",
   "execution_count": 1,
   "id": "06e6eb59-cfa1-48b1-84fc-78801236fc67",
   "metadata": {
    "editable": true,
    "execution": {
     "iopub.execute_input": "2024-08-08T01:50:40.735686Z",
     "iopub.status.busy": "2024-08-08T01:50:40.734924Z",
     "iopub.status.idle": "2024-08-08T01:50:41.664821Z",
     "shell.execute_reply": "2024-08-08T01:50:41.662585Z",
     "shell.execute_reply.started": "2024-08-08T01:50:40.735594Z"
    },
    "slideshow": {
     "slide_type": ""
    },
    "tags": []
   },
   "outputs": [],
   "source": [
    "from ip.ios import *\n",
    "from ip.enhancement import *\n",
    "from ip.binary import *\n",
    "from ip.graph_nx import *\n",
    "from ip.swc import *\n",
    "from ip.split import *\n",
    "from skimage.util import img_as_ubyte\n",
    "from skimage.morphology import skeletonize\n",
    "from scipy import ndimage"
   ]
  },
  {
   "cell_type": "markdown",
   "id": "6d3f26e4-d52c-44a1-a965-3c5e8a5d0a6f",
   "metadata": {},
   "source": [
    "## Read Data"
   ]
  },
  {
   "cell_type": "code",
   "execution_count": 2,
   "id": "cf0d64c0-1994-4053-a26f-a92f38ff4e0d",
   "metadata": {
    "execution": {
     "iopub.execute_input": "2024-08-08T01:50:41.669875Z",
     "iopub.status.busy": "2024-08-08T01:50:41.668742Z",
     "iopub.status.idle": "2024-08-08T01:50:41.677350Z",
     "shell.execute_reply": "2024-08-08T01:50:41.675123Z",
     "shell.execute_reply.started": "2024-08-08T01:50:41.669607Z"
    }
   },
   "outputs": [],
   "source": [
    "folder_path = \"./OlfactoryProjectionFibers/ImageStacks/OP_5\""
   ]
  },
  {
   "cell_type": "code",
   "execution_count": 3,
   "id": "638fb640-1704-4f9f-ac4c-6bbb5a00849d",
   "metadata": {
    "execution": {
     "iopub.execute_input": "2024-08-08T01:50:41.680720Z",
     "iopub.status.busy": "2024-08-08T01:50:41.679985Z",
     "iopub.status.idle": "2024-08-08T01:50:41.731044Z",
     "shell.execute_reply": "2024-08-08T01:50:41.728883Z",
     "shell.execute_reply.started": "2024-08-08T01:50:41.680631Z"
    }
   },
   "outputs": [],
   "source": [
    "images = load_tif_stack(folder_path)"
   ]
  },
  {
   "cell_type": "markdown",
   "id": "f9f90343-f1a4-4201-af28-54988b120c78",
   "metadata": {},
   "source": [
    "## Code Process and Execution"
   ]
  },
  {
   "cell_type": "code",
   "execution_count": 4,
   "id": "a4ffc4e7-d75b-498c-a546-85f01b1a88fa",
   "metadata": {
    "execution": {
     "iopub.execute_input": "2024-08-08T01:50:41.736927Z",
     "iopub.status.busy": "2024-08-08T01:50:41.736142Z",
     "iopub.status.idle": "2024-08-08T01:50:42.358851Z",
     "shell.execute_reply": "2024-08-08T01:50:42.354826Z",
     "shell.execute_reply.started": "2024-08-08T01:50:41.736827Z"
    }
   },
   "outputs": [
    {
     "ename": "NameError",
     "evalue": "name 'struct' is not defined",
     "output_type": "error",
     "traceback": [
      "\u001b[0;31m---------------------------------------------------------------------------\u001b[0m",
      "\u001b[0;31mNameError\u001b[0m                                 Traceback (most recent call last)",
      "Cell \u001b[0;32mIn[4], line 2\u001b[0m\n\u001b[1;32m      1\u001b[0m struct1 \u001b[38;5;241m=\u001b[39m img_as_ubyte(ndimage\u001b[38;5;241m.\u001b[39mgenerate_binary_structure(\u001b[38;5;241m3\u001b[39m, \u001b[38;5;241m3\u001b[39m))\u001b[38;5;241m/\u001b[39m\u001b[38;5;241m/\u001b[39m\u001b[38;5;241m255\u001b[39m\n\u001b[0;32m----> 2\u001b[0m \u001b[38;5;28mprint\u001b[39m(\u001b[43mstruct\u001b[49m)\n",
      "\u001b[0;31mNameError\u001b[0m: name 'struct' is not defined"
     ]
    }
   ],
   "source": [
    "struct1 = img_as_ubyte(ndimage.generate_binary_structure(3, 3))//255\n",
    "print(struct1)"
   ]
  },
  {
   "cell_type": "code",
   "execution_count": null,
   "id": "e66ba606-212d-47ee-b3ce-a471f04ef469",
   "metadata": {
    "execution": {
     "iopub.status.busy": "2024-08-08T01:50:42.360936Z",
     "iopub.status.idle": "2024-08-08T01:50:42.362829Z",
     "shell.execute_reply": "2024-08-08T01:50:42.362247Z",
     "shell.execute_reply.started": "2024-08-08T01:50:42.361503Z"
    }
   },
   "outputs": [],
   "source": [
    "bilateral2 = bilateral_blur(images, 7, 50, 75)"
   ]
  },
  {
   "cell_type": "code",
   "execution_count": null,
   "id": "62f88e37-3cd2-4a77-a676-10594152243f",
   "metadata": {
    "execution": {
     "iopub.status.busy": "2024-08-08T01:50:42.365237Z",
     "iopub.status.idle": "2024-08-08T01:50:42.366984Z",
     "shell.execute_reply": "2024-08-08T01:50:42.365828Z",
     "shell.execute_reply.started": "2024-08-08T01:50:42.365760Z"
    }
   },
   "outputs": [],
   "source": [
    "threshold1 = mean_threshold(bilateral2,6)\n",
    "binary1 = simple_binary(bilateral2, threshold1)\n",
    "eroded1 = img_as_ubyte(ndimage.binary_erosion(binary1))\n",
    "eroded2 = img_as_ubyte(ndimage.binary_erosion(binary1, struct1))\n",
    "\n",
    "seg1 = segment(bilateral2, eroded1)\n",
    "seg2 = segment(bilateral2, eroded2)\n",
    "\n",
    "threshold2 = mean_threshold(seg2)\n",
    "binary2 = simple_binary(seg2, threshold2)"
   ]
  },
  {
   "cell_type": "code",
   "execution_count": null,
   "id": "54b3f0f0-a44b-46b4-9929-5e5906a9d004",
   "metadata": {
    "execution": {
     "iopub.status.busy": "2024-08-08T01:50:42.369805Z",
     "iopub.status.idle": "2024-08-08T01:50:42.371648Z",
     "shell.execute_reply": "2024-08-08T01:50:42.370455Z",
     "shell.execute_reply.started": "2024-08-08T01:50:42.370386Z"
    }
   },
   "outputs": [],
   "source": [
    "print(threshold1, threshold2)"
   ]
  },
  {
   "cell_type": "code",
   "execution_count": null,
   "id": "5fc07357-058a-4418-af2b-fe186630257b",
   "metadata": {
    "execution": {
     "iopub.status.busy": "2024-08-08T01:50:42.374112Z",
     "iopub.status.idle": "2024-08-08T01:50:42.375469Z",
     "shell.execute_reply": "2024-08-08T01:50:42.374641Z",
     "shell.execute_reply.started": "2024-08-08T01:50:42.374581Z"
    }
   },
   "outputs": [],
   "source": [
    "cv2_imshow([blended(eroded1), blended(seg1), blended(eroded2), blended(seg2)])"
   ]
  },
  {
   "cell_type": "code",
   "execution_count": null,
   "id": "13e3f725-304f-4fdc-ac5a-aa4bf9d47d3d",
   "metadata": {
    "execution": {
     "iopub.status.busy": "2024-08-08T01:50:42.378183Z",
     "iopub.status.idle": "2024-08-08T01:50:42.379880Z",
     "shell.execute_reply": "2024-08-08T01:50:42.379234Z",
     "shell.execute_reply.started": "2024-08-08T01:50:42.378687Z"
    }
   },
   "outputs": [],
   "source": [
    "struct2 = img_as_ubyte(ndimage.generate_binary_structure(3, 1))//255\n",
    "\n",
    "eroded3d = img_as_ubyte(ndimage.binary_erosion(binary2, struct2))"
   ]
  },
  {
   "cell_type": "code",
   "execution_count": null,
   "id": "360462f6-367f-4681-85d9-9d827afd07ef",
   "metadata": {
    "execution": {
     "iopub.status.busy": "2024-08-08T01:50:42.382047Z",
     "iopub.status.idle": "2024-08-08T01:50:42.383819Z",
     "shell.execute_reply": "2024-08-08T01:50:42.382817Z",
     "shell.execute_reply.started": "2024-08-08T01:50:42.382749Z"
    }
   },
   "outputs": [],
   "source": [
    "skel = img_as_ubyte(skeletonize(eroded3d))\n",
    "skel[:,265+1,:] = 0"
   ]
  },
  {
   "cell_type": "code",
   "execution_count": null,
   "id": "a84b19a6-4e29-4f3f-85be-ea6f03af128e",
   "metadata": {
    "execution": {
     "iopub.status.busy": "2024-08-08T01:50:42.386052Z",
     "iopub.status.idle": "2024-08-08T01:50:42.388648Z",
     "shell.execute_reply": "2024-08-08T01:50:42.387104Z",
     "shell.execute_reply.started": "2024-08-08T01:50:42.387031Z"
    }
   },
   "outputs": [],
   "source": [
    "cv2_imshow([blended(eroded3d), blended(skel), blended(seg2)])"
   ]
  },
  {
   "cell_type": "code",
   "execution_count": 10,
   "id": "b93daf5e-a2ac-465e-b5dc-16e300344a0a",
   "metadata": {
    "execution": {
     "iopub.execute_input": "2024-08-08T01:21:21.464818Z",
     "iopub.status.busy": "2024-08-08T01:21:21.460347Z",
     "iopub.status.idle": "2024-08-08T01:21:41.521727Z",
     "shell.execute_reply": "2024-08-08T01:21:41.519239Z",
     "shell.execute_reply.started": "2024-08-08T01:21:21.464694Z"
    }
   },
   "outputs": [
    {
     "data": {
      "text/plain": [
       "True"
      ]
     },
     "execution_count": 10,
     "metadata": {},
     "output_type": "execute_result"
    }
   ],
   "source": [
    "cv2_imshow(skel[32:36])"
   ]
  },
  {
   "cell_type": "markdown",
   "id": "6aca20fc-bb84-4c2f-af79-2d3cb56af7de",
   "metadata": {},
   "source": [
    "### For visualization purposes only"
   ]
  },
  {
   "cell_type": "markdown",
   "id": "d09f1ca3-750d-4179-9a2f-281ab0c20d4e",
   "metadata": {},
   "source": [
    "### Graph generation"
   ]
  },
  {
   "cell_type": "code",
   "execution_count": 51,
   "id": "2cc66763-3823-4733-a2c0-d171347ac9ce",
   "metadata": {
    "execution": {
     "iopub.execute_input": "2024-08-08T01:36:54.846660Z",
     "iopub.status.busy": "2024-08-08T01:36:54.845669Z",
     "iopub.status.idle": "2024-08-08T01:36:55.161037Z",
     "shell.execute_reply": "2024-08-08T01:36:55.158947Z",
     "shell.execute_reply.started": "2024-08-08T01:36:54.846564Z"
    }
   },
   "outputs": [
    {
     "name": "stdout",
     "output_type": "stream",
     "text": [
      "essa eh a raiz\n",
      ">> Graph created\n",
      "OP_1 GOLD STANDARD ROOT: (185.7, 264.02, 33)\n",
      "TEST ROOT: (34, 264, 185)\n"
     ]
    }
   ],
   "source": [
    "graph = Graph(skel)\n",
    "graph.set_root((34, 264, 185))\n",
    "graph.create_graph()\n",
    "#OP_5 (X,Y,Z): (185.7,264.02,33)\n",
    "root = graph.get_root()\n",
    "g_root = (185.7,264.02,33)\n",
    "print(f\"OP_1 GOLD STANDARD ROOT: {g_root}\\nTEST ROOT: {root}\")"
   ]
  },
  {
   "cell_type": "code",
   "execution_count": 52,
   "id": "5e915859-65c2-4986-ac51-a57495c4e250",
   "metadata": {
    "execution": {
     "iopub.execute_input": "2024-08-08T01:36:55.165910Z",
     "iopub.status.busy": "2024-08-08T01:36:55.164717Z",
     "iopub.status.idle": "2024-08-08T01:36:55.224102Z",
     "shell.execute_reply": "2024-08-08T01:36:55.221784Z",
     "shell.execute_reply.started": "2024-08-08T01:36:55.165338Z"
    }
   },
   "outputs": [
    {
     "name": "stdout",
     "output_type": "stream",
     "text": [
      ">> Minimum Spanning Tree Generated\n",
      ">> Minimum Spanning Tree length: 697\n",
      ">> Depth-First search and labeling complete\n"
     ]
    }
   ],
   "source": [
    "mst = graph.apply_dfs_and_label_nodes()"
   ]
  },
  {
   "cell_type": "code",
   "execution_count": 53,
   "id": "59b77209-2bdf-483f-8711-c7afe36a7c1d",
   "metadata": {
    "execution": {
     "iopub.execute_input": "2024-08-08T01:36:55.227678Z",
     "iopub.status.busy": "2024-08-08T01:36:55.226795Z",
     "iopub.status.idle": "2024-08-08T01:36:55.247200Z",
     "shell.execute_reply": "2024-08-08T01:36:55.245232Z",
     "shell.execute_reply.started": "2024-08-08T01:36:55.227570Z"
    }
   },
   "outputs": [
    {
     "name": "stdout",
     "output_type": "stream",
     "text": [
      ">> SWC saved at: ./Test/OP_5.swc\n"
     ]
    },
    {
     "data": {
      "text/plain": [
       "True"
      ]
     },
     "execution_count": 53,
     "metadata": {},
     "output_type": "execute_result"
    }
   ],
   "source": [
    "graph.save_to_swc(mst,\"./Test/OP_5.swc\")"
   ]
  },
  {
   "cell_type": "code",
   "execution_count": null,
   "id": "fcd3b303-b68c-495d-adad-a24d5323984d",
   "metadata": {},
   "outputs": [],
   "source": []
  },
  {
   "cell_type": "code",
   "execution_count": null,
   "id": "7243db8f-b54d-4202-923f-3e65520db1c5",
   "metadata": {},
   "outputs": [],
   "source": []
  },
  {
   "cell_type": "code",
   "execution_count": null,
   "id": "a9d4caea-3945-4d90-9cce-9cd236275632",
   "metadata": {},
   "outputs": [],
   "source": []
  },
  {
   "cell_type": "code",
   "execution_count": null,
   "id": "c43e930b-6fa9-4981-a505-3beddf42289a",
   "metadata": {},
   "outputs": [],
   "source": []
  },
  {
   "cell_type": "code",
   "execution_count": null,
   "id": "286746d5-3e8c-4b8a-ae48-6c8fb669a27a",
   "metadata": {},
   "outputs": [],
   "source": []
  }
 ],
 "metadata": {
  "kernelspec": {
   "display_name": "Python 3 (ipykernel)",
   "language": "python",
   "name": "python3"
  },
  "language_info": {
   "codemirror_mode": {
    "name": "ipython",
    "version": 3
   },
   "file_extension": ".py",
   "mimetype": "text/x-python",
   "name": "python",
   "nbconvert_exporter": "python",
   "pygments_lexer": "ipython3",
   "version": "3.9.18"
  },
  "toc-autonumbering": false,
  "toc-showcode": false
 },
 "nbformat": 4,
 "nbformat_minor": 5
}
