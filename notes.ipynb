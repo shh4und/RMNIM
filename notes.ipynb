{
 "cells": [
  {
   "cell_type": "markdown",
   "metadata": {},
   "source": [
    "Sliding Volume Filter (SVF)"
   ]
  },
  {
   "cell_type": "markdown",
   "metadata": {},
   "source": [
    "$SVF_O = \\frac{1}{M}\\sum_{a=0}^{2\\pi} \\sum_{b=0}^{\\pi} \\max_{R_{min} < r < R_{max}}(\\frac{1}{d+1}\\sum_{r-d/2}^{r+d/2}VCI_Q)$"
   ]
  },
  {
   "cell_type": "markdown",
   "metadata": {},
   "source": [
    "Voxel Convergence Index"
   ]
  },
  {
   "cell_type": "markdown",
   "metadata": {},
   "source": [
    "$VCI_Q = \\cos\\phi(qx_\\rho, qy_\\rho, qz_\\rho)\n",
    "    = \\cos\\phi(\\rho\\sin{b}\\cos{a}, \\rho\\sin{b}\\sin{a}, \\rho\\cos{b})$"
   ]
  },
  {
   "cell_type": "code",
   "execution_count": null,
   "metadata": {},
   "outputs": [],
   "source": [
    "def sliding_filter(rad, d, L, Rmax, Rmin, n, T):\n",
    "    pass"
   ]
  },
  {
   "cell_type": "code",
   "execution_count": null,
   "metadata": {},
   "outputs": [],
   "source": []
  }
 ],
 "metadata": {
  "kernelspec": {
   "display_name": "Python 3 (ipykernel)",
   "language": "python",
   "name": "python3"
  },
  "language_info": {
   "codemirror_mode": {
    "name": "ipython",
    "version": 3
   },
   "file_extension": ".py",
   "mimetype": "text/x-python",
   "name": "python",
   "nbconvert_exporter": "python",
   "pygments_lexer": "ipython3",
   "version": "3.9.18"
  }
 },
 "nbformat": 4,
 "nbformat_minor": 4
}
