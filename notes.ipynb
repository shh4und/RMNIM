{
 "cells": [
  {
   "cell_type": "code",
   "execution_count": 1,
   "metadata": {
    "execution": {
     "iopub.execute_input": "2024-11-12T07:09:02.371734Z",
     "iopub.status.busy": "2024-11-12T07:09:02.371496Z",
     "iopub.status.idle": "2024-11-12T07:09:02.482215Z",
     "shell.execute_reply": "2024-11-12T07:09:02.480956Z",
     "shell.execute_reply.started": "2024-11-12T07:09:02.371706Z"
    }
   },
   "outputs": [],
   "source": [
    "import multiprocessing as mp\n",
    "import numpy as np"
   ]
  },
  {
   "cell_type": "markdown",
   "metadata": {},
   "source": [
    "Sliding Volume Filter (SVF)"
   ]
  },
  {
   "cell_type": "markdown",
   "metadata": {},
   "source": [
    "$SVF_O = \\frac{1}{M}\\sum_{a=0}^{2\\pi} \\sum_{b=0}^{\\pi} \\max_{R_{min} < r < R_{max}}(\\frac{1}{d+1}\\sum_{r-d/2}^{r+d/2}VCI_Q)$"
   ]
  },
  {
   "cell_type": "markdown",
   "metadata": {},
   "source": [
    "Voxel Convergence Index"
   ]
  },
  {
   "cell_type": "markdown",
   "metadata": {},
   "source": [
    "$VCI_Q = \\cos\\phi(qx_\\rho, qy_\\rho, qz_\\rho)\n",
    "    = \\cos\\phi(\\rho\\sin{b}\\cos{a}, \\rho\\sin{b}\\sin{a}, \\rho\\cos{b})$"
   ]
  },
  {
   "cell_type": "code",
   "execution_count": 2,
   "metadata": {
    "execution": {
     "iopub.execute_input": "2024-11-12T07:09:02.483340Z",
     "iopub.status.busy": "2024-11-12T07:09:02.483041Z",
     "iopub.status.idle": "2024-11-12T07:09:02.487163Z",
     "shell.execute_reply": "2024-11-12T07:09:02.486237Z",
     "shell.execute_reply.started": "2024-11-12T07:09:02.483316Z"
    },
    "jupyter": {
     "source_hidden": true
    }
   },
   "outputs": [],
   "source": [
    "def sliding_filter(rad, d, L, Rmax, Rmin, n, T):\n",
    "    pass"
   ]
  },
  {
   "cell_type": "markdown",
   "metadata": {},
   "source": [
    "Integral Numerica Paralelizada - Regra dos Trapezios"
   ]
  },
  {
   "cell_type": "code",
   "execution_count": 3,
   "metadata": {
    "execution": {
     "iopub.execute_input": "2024-11-12T07:09:02.489768Z",
     "iopub.status.busy": "2024-11-12T07:09:02.489407Z",
     "iopub.status.idle": "2024-11-12T07:09:02.504879Z",
     "shell.execute_reply": "2024-11-12T07:09:02.503822Z",
     "shell.execute_reply.started": "2024-11-12T07:09:02.489725Z"
    },
    "jupyter": {
     "source_hidden": true
    }
   },
   "outputs": [],
   "source": [
    "def trapezoidal_rule_segment(f, a, b, n):\n",
    "    \"\"\"\n",
    "    Calcula a integral de f(x) em um segmento [a, b] usando a regra dos trapézios com n subintervalos.\n",
    "    \n",
    "    :param f: Função a ser integrada\n",
    "    :param a: Limite inferior do segmento\n",
    "    :param b: Limite superior do segmento\n",
    "    :param n: Número de subintervalos no segmento\n",
    "    :return: Aproximação da integral de f de a até b no segmento\n",
    "    \"\"\"\n",
    "    h = (b - a) / n\n",
    "    integral = 0.5 * (f(a) + f(b))\n",
    "    \n",
    "    for i in range(1, n):\n",
    "        integral += f(a + i * h)\n",
    "    \n",
    "    integral *= h\n",
    "    return integral\n",
    "\n",
    "\n",
    "def parallel_trapezoidal_rule(f, a, b, n, num_processes):\n",
    "    \"\"\"\n",
    "    Aproxima a integral de f(x) de a até b usando a regra dos trapézios com n subintervalos em paralelo.\n",
    "    \n",
    "    :param f: Função a ser integrada\n",
    "    :param a: Limite inferior da integração\n",
    "    :param b: Limite superior da integração\n",
    "    :param n: Número total de subintervalos\n",
    "    :param num_processes: Número de processos paralelos\n",
    "    :return: Aproximação da integral de f de a até b\n",
    "    \"\"\"\n",
    "    pool = mp.Pool(processes=num_processes)\n",
    "    segment_width = (b - a) / num_processes\n",
    "    segment_subintervals = n // num_processes\n",
    "    \n",
    "    results = []\n",
    "    for i in range(num_processes):\n",
    "        segment_a = a + i * segment_width\n",
    "        segment_b = segment_a + segment_width\n",
    "        results.append(pool.apply_async(trapezoidal_rule_segment, (f, segment_a, segment_b, segment_subintervals)))\n",
    "    \n",
    "    pool.close()\n",
    "    pool.join()\n",
    "    \n",
    "    integral = sum(result.get() for result in results)\n",
    "    return integral\n"
   ]
  },
  {
   "cell_type": "code",
   "execution_count": 4,
   "metadata": {
    "execution": {
     "iopub.execute_input": "2024-11-12T07:09:02.506298Z",
     "iopub.status.busy": "2024-11-12T07:09:02.505956Z",
     "iopub.status.idle": "2024-11-12T07:09:02.552382Z",
     "shell.execute_reply": "2024-11-12T07:09:02.551785Z",
     "shell.execute_reply.started": "2024-11-12T07:09:02.506268Z"
    },
    "jupyter": {
     "source_hidden": true
    }
   },
   "outputs": [
    {
     "name": "stdout",
     "output_type": "stream",
     "text": [
      "Aproximação da integral: 25.333343999999997\n"
     ]
    }
   ],
   "source": [
    "# Exemplo de uso\n",
    "def f(x):\n",
    "    return x**2 - 4*x +8\n",
    "\n",
    "a = 1  # Limite inferior\n",
    "b = 5  # Limite superior\n",
    "n = 1000  # Número de subintervalos\n",
    "num_processes = 5  # Número de processos paralelos\n",
    "\n",
    "resultado = parallel_trapezoidal_rule(f, a, b, n, num_processes)\n",
    "print(f\"Aproximação da integral: {resultado}\")"
   ]
  },
  {
   "cell_type": "code",
   "execution_count": 5,
   "metadata": {
    "execution": {
     "iopub.execute_input": "2024-11-12T07:09:02.553287Z",
     "iopub.status.busy": "2024-11-12T07:09:02.553111Z",
     "iopub.status.idle": "2024-11-12T07:09:02.558669Z",
     "shell.execute_reply": "2024-11-12T07:09:02.558130Z",
     "shell.execute_reply.started": "2024-11-12T07:09:02.553270Z"
    }
   },
   "outputs": [],
   "source": [
    "def f(x, y):\n",
    "    return 16 - x**2 - 2 * y**2\n",
    "\n",
    "def midpoint_rule_segment(f, xi, xf, yi, yf, nx, ny):\n",
    "    hx = (xf - xi) / nx\n",
    "    hy = (yf - yi) / ny\n",
    "    int_aprox = 0\n",
    "    \n",
    "    for i in range(nx):\n",
    "        for j in range(ny):\n",
    "            deltax = hx\n",
    "            deltay = hy\n",
    "            deltaA = deltax * deltay\n",
    "            xm = xi + i * deltax + deltax / 2\n",
    "            ym = yi + j * deltay + deltay / 2\n",
    "            int_aprox += f(xm, ym) * deltaA\n",
    "    \n",
    "    return int_aprox\n",
    "\n",
    "def parallel_midpoint_rule(f, xi, xf, yi, yf, nx, ny, num_processes):\n",
    "    pool = mp.Pool(processes=num_processes)\n",
    "    segment_width_x = (xf - xi) / num_processes\n",
    "    segment_width_y = (yf - yi) / num_processes\n",
    "    segment_subintervals_x = nx // num_processes\n",
    "    segment_subintervals_y = ny // num_processes\n",
    "    \n",
    "    results = []\n",
    "    for i in range(num_processes):\n",
    "        segment_xi = xi + i * segment_width_x\n",
    "        segment_xf = segment_xi + segment_width_x\n",
    "        for j in range(num_processes):\n",
    "            segment_yi = yi + j * segment_width_y\n",
    "            segment_yf = segment_yi + segment_width_y\n",
    "            results.append(pool.apply_async(midpoint_rule_segment, (f, segment_xi, segment_xf, segment_yi, segment_yf, segment_subintervals_x, segment_subintervals_y)))\n",
    "    \n",
    "    pool.close()\n",
    "    pool.join()\n",
    "    \n",
    "    integral = sum(result.get() for result in results)\n",
    "    return integral"
   ]
  },
  {
   "cell_type": "code",
   "execution_count": 6,
   "metadata": {
    "execution": {
     "iopub.execute_input": "2024-11-12T07:09:02.559998Z",
     "iopub.status.busy": "2024-11-12T07:09:02.559729Z",
     "iopub.status.idle": "2024-11-12T07:09:02.592250Z",
     "shell.execute_reply": "2024-11-12T07:09:02.591682Z",
     "shell.execute_reply.started": "2024-11-12T07:09:02.559979Z"
    }
   },
   "outputs": [
    {
     "name": "stdout",
     "output_type": "stream",
     "text": [
      "Aproximação da integral: 48.00039999999997\n",
      "Erro: 0.00039999999997064606\n"
     ]
    }
   ],
   "source": [
    "# Exemplo de uso\n",
    "xi = 0\n",
    "xf = 2\n",
    "yi = 0\n",
    "yf = 2\n",
    "nx = 100\n",
    "ny = 100\n",
    "num_processes = 4\n",
    "\n",
    "resultado = parallel_midpoint_rule(f, xi, xf, yi, yf, nx, ny, num_processes)\n",
    "sol = 48\n",
    "erro = np.abs(sol - resultado)\n",
    "print(f\"Aproximação da integral: {resultado}\")\n",
    "print(f\"Erro: {erro}\")"
   ]
  },
  {
   "cell_type": "code",
   "execution_count": 7,
   "metadata": {
    "execution": {
     "iopub.execute_input": "2024-11-12T07:09:02.593069Z",
     "iopub.status.busy": "2024-11-12T07:09:02.592887Z",
     "iopub.status.idle": "2024-11-12T07:09:02.599012Z",
     "shell.execute_reply": "2024-11-12T07:09:02.598498Z",
     "shell.execute_reply.started": "2024-11-12T07:09:02.593050Z"
    }
   },
   "outputs": [],
   "source": [
    "def f(x, y, z):\n",
    "    return 12 * x * (y**2) * (z**3)\n",
    "\n",
    "def midpoint_rule_segment(f, xi, xf, yi, yf, zi, zf, nx, ny, nz):\n",
    "    hx = (xf - xi) / nx\n",
    "    hy = (yf - yi) / ny\n",
    "    hz = (zf - zi) / nz\n",
    "    int_aprox = 0\n",
    "    \n",
    "    for i in range(nx):\n",
    "        for j in range(ny):\n",
    "            for k in range(nz):\n",
    "                deltax = hx\n",
    "                deltay = hy\n",
    "                deltaz = hz\n",
    "                deltaV = deltax * deltay * deltaz\n",
    "                xm = xi + i * deltax + deltax / 2\n",
    "                ym = yi + j * deltay + deltay / 2\n",
    "                zm = zi + k * deltaz + deltaz / 2\n",
    "                int_aprox += f(xm, ym, zm) * deltaV\n",
    "    \n",
    "    return int_aprox\n",
    "\n",
    "def parallel_midpoint_rule(f, xi, xf, yi, yf, zi, zf, nx, ny, nz, num_processes):\n",
    "    pool = mp.Pool(processes=num_processes)\n",
    "    segment_width_x = (xf - xi) / num_processes\n",
    "    segment_width_y = (yf - yi) / num_processes\n",
    "    segment_width_z = (zf - zi) / num_processes\n",
    "    segment_subintervals_x = nx // num_processes\n",
    "    segment_subintervals_y = ny // num_processes\n",
    "    segment_subintervals_z = nz // num_processes\n",
    "    \n",
    "    results = []\n",
    "    for i in range(num_processes):\n",
    "        segment_xi = xi + i * segment_width_x\n",
    "        segment_xf = segment_xi + segment_width_x\n",
    "        for j in range(num_processes):\n",
    "            segment_yi = yi + j * segment_width_y\n",
    "            segment_yf = segment_yi + segment_width_y\n",
    "            for k in range(num_processes):\n",
    "                segment_zi = zi + k * segment_width_z\n",
    "                segment_zf = segment_zi + segment_width_z\n",
    "                results.append(pool.apply_async(midpoint_rule_segment, (f, segment_xi, segment_xf, segment_yi, segment_yf, segment_zi, segment_zf, segment_subintervals_x, segment_subintervals_y, segment_subintervals_z)))\n",
    "    \n",
    "    pool.close()\n",
    "    pool.join()\n",
    "    \n",
    "    integral = sum(result.get() for result in results)\n",
    "    return integral"
   ]
  },
  {
   "cell_type": "code",
   "execution_count": 10,
   "metadata": {
    "execution": {
     "iopub.execute_input": "2024-11-12T07:09:02.892152Z",
     "iopub.status.busy": "2024-11-12T07:09:02.891887Z",
     "iopub.status.idle": "2024-11-12T07:09:05.579526Z",
     "shell.execute_reply": "2024-11-12T07:09:05.578984Z",
     "shell.execute_reply.started": "2024-11-12T07:09:02.892135Z"
    }
   },
   "outputs": [
    {
     "name": "stdout",
     "output_type": "stream",
     "text": [
      "O valor aproximado da integral tripla é: 647.994600009995\n",
      "Erro percentual: 0.0008333317908955275\n"
     ]
    }
   ],
   "source": [
    "# Exemplo de uso\n",
    "xi = -1\n",
    "xf = 2\n",
    "yi = 0\n",
    "yf = 3\n",
    "zi = 0\n",
    "zf = 2\n",
    "nx = 300\n",
    "ny = 300\n",
    "nz = 300\n",
    "num_processes = 4\n",
    "\n",
    "resultado = parallel_midpoint_rule(f, xi, xf, yi, yf, zi, zf, nx, ny, nz, num_processes)\n",
    "sol_exata = 648\n",
    "erro_percentual = (np.abs(sol_exata - resultado) / sol_exata) * 100\n",
    "print(f\"O valor aproximado da integral tripla é: {resultado}\")\n",
    "print(f\"Erro percentual: {erro_percentual}\")"
   ]
  },
  {
   "cell_type": "code",
   "execution_count": 8,
   "metadata": {
    "execution": {
     "iopub.execute_input": "2024-11-12T07:09:02.600252Z",
     "iopub.status.busy": "2024-11-12T07:09:02.600043Z",
     "iopub.status.idle": "2024-11-12T07:09:02.884326Z",
     "shell.execute_reply": "2024-11-12T07:09:02.883764Z",
     "shell.execute_reply.started": "2024-11-12T07:09:02.600233Z"
    },
    "jupyter": {
     "source_hidden": true
    }
   },
   "outputs": [],
   "source": [
    "def appendSpherical_np(xyz):\n",
    "    # Cria um novo array com o mesmo número de linhas que xyz, mas com o dobro de colunas\n",
    "    # As primeiras três colunas serão as coordenadas cartesianas originais\n",
    "    # As últimas três colunas serão preenchidas com zeros inicialmente\n",
    "    ptsnew = np.hstack((xyz, np.zeros(xyz.shape)))\n",
    "    \n",
    "    # Calcula a soma dos quadrados das coordenadas x e y\n",
    "    xy = xyz[:, 0]**2 + xyz[:, 1]**2\n",
    "    \n",
    "    # Calcula o raio esférico (distância do ponto à origem)\n",
    "    ptsnew[:, 3] = np.sqrt(xy + xyz[:, 2]**2)\n",
    "    \n",
    "    # Calcula o ângulo de elevação (theta) a partir do eixo Z\n",
    "    # Para elevação definida do eixo Z para baixo\n",
    "    ptsnew[:, 4] = np.arctan2(np.sqrt(xy), xyz[:, 2])\n",
    "    # Se preferir elevação definida do plano XY para cima, use a linha abaixo e comente a linha acima\n",
    "    # ptsnew[:, 4] = np.arctan2(xyz[:, 2], np.sqrt(xy))\n",
    "    \n",
    "    # Calcula o ângulo azimutal (phi) no plano XY\n",
    "    ptsnew[:, 5] = np.arctan2(xyz[:, 1], xyz[:, 0])\n",
    "    \n",
    "    return ptsnew\n",
    "\n",
    "# Exemplo de uso\n",
    "# Gera um array de 3 milhões de pontos com coordenadas x, y, z aleatórias\n",
    "pts = np.random.rand(3000000, 3)\n",
    "\n",
    "# Converte as coordenadas cartesianas para esféricas e armazena o resultado\n",
    "result = appendSpherical_np(pts)\n",
    "\n",
    "# Imprime o resultado (opcional, pode ser removido para evitar sobrecarga de impressão)\n",
    "# print(result)"
   ]
  },
  {
   "cell_type": "code",
   "execution_count": 9,
   "metadata": {
    "execution": {
     "iopub.execute_input": "2024-11-12T07:09:02.885090Z",
     "iopub.status.busy": "2024-11-12T07:09:02.884854Z",
     "iopub.status.idle": "2024-11-12T07:09:02.891094Z",
     "shell.execute_reply": "2024-11-12T07:09:02.890556Z",
     "shell.execute_reply.started": "2024-11-12T07:09:02.885073Z"
    }
   },
   "outputs": [],
   "source": [
    "import numpy as np\n",
    "import multiprocessing as mp\n",
    "\n",
    "def f1(x, y, z):\n",
    "    return 12 * x * (y**2) * (z**3)\n",
    "\n",
    "def midpoint_rule_segment1(f, xi, xf, yi, yf, zi, zf, nx, ny, nz):\n",
    "    hx = (xf - xi) / nx\n",
    "    hy = (yf - yi) / ny\n",
    "    hz = (zf - zi) / nz\n",
    "    \n",
    "    x = np.linspace(xi + hx/2, xf - hx/2, nx)\n",
    "    y = np.linspace(yi + hy/2, yf - hy/2, ny)\n",
    "    z = np.linspace(zi + hz/2, zf - hz/2, nz)\n",
    "    \n",
    "    X, Y, Z = np.meshgrid(x, y, z, indexing='ij')\n",
    "    \n",
    "    deltaV = hx * hy * hz\n",
    "    integral = np.sum(f(X, Y, Z) * deltaV)\n",
    "    \n",
    "    return integral\n",
    "\n",
    "def parallel_midpoint_rule1(f, xi, xf, yi, yf, zi, zf, nx, ny, nz, num_processes):\n",
    "    pool = mp.Pool(processes=num_processes)\n",
    "    \n",
    "    segment_width_x = (xf - xi) / num_processes\n",
    "    segment_width_y = (yf - yi) / num_processes\n",
    "    segment_width_z = (zf - zi) / num_processes\n",
    "    \n",
    "    segment_subintervals_x = nx // num_processes\n",
    "    segment_subintervals_y = ny // num_processes\n",
    "    segment_subintervals_z = nz // num_processes\n",
    "    \n",
    "    results = []\n",
    "    for i in range(num_processes):\n",
    "        segment_xi = xi + i * segment_width_x\n",
    "        segment_xf = segment_xi + segment_width_x\n",
    "        for j in range(num_processes):\n",
    "            segment_yi = yi + j * segment_width_y\n",
    "            segment_yf = segment_yi + segment_width_y\n",
    "            for k in range(num_processes):\n",
    "                segment_zi = zi + k * segment_width_z\n",
    "                segment_zf = segment_zi + segment_width_z\n",
    "                results.append(pool.apply_async(midpoint_rule_segment1, (f, segment_xi, segment_xf, segment_yi, segment_yf, segment_zi, segment_zf, segment_subintervals_x, segment_subintervals_y, segment_subintervals_z)))\n",
    "    \n",
    "    pool.close()\n",
    "    pool.join()\n",
    "    \n",
    "    integral = sum(result.get() for result in results)\n",
    "    return integral"
   ]
  },
  {
   "cell_type": "code",
   "execution_count": 11,
   "metadata": {
    "execution": {
     "iopub.execute_input": "2024-11-12T07:09:05.580438Z",
     "iopub.status.busy": "2024-11-12T07:09:05.580188Z",
     "iopub.status.idle": "2024-11-12T07:09:05.845416Z",
     "shell.execute_reply": "2024-11-12T07:09:05.844805Z",
     "shell.execute_reply.started": "2024-11-12T07:09:05.580417Z"
    }
   },
   "outputs": [
    {
     "name": "stdout",
     "output_type": "stream",
     "text": [
      "O valor aproximado da integral tripla é: 647.9946000100002\n",
      "Erro percentual: 0.0008333317900884916\n"
     ]
    }
   ],
   "source": [
    "# Exemplo de uso\n",
    "xi = -1\n",
    "xf = 2\n",
    "yi = 0\n",
    "yf = 3\n",
    "zi = 0\n",
    "zf = 2\n",
    "nx = 300\n",
    "ny = 300\n",
    "nz = 300\n",
    "num_processes = 4\n",
    "\n",
    "resultado = parallel_midpoint_rule1(f1, xi, xf, yi, yf, zi, zf, nx, ny, nz, num_processes)\n",
    "sol_exata = 648\n",
    "erro_percentual = (np.abs(sol_exata - resultado) / sol_exata) * 100\n",
    "print(f\"O valor aproximado da integral tripla é: {resultado}\")\n",
    "print(f\"Erro percentual: {erro_percentual}\")"
   ]
  },
  {
   "cell_type": "markdown",
   "metadata": {},
   "source": [
    "Nov 12 - Implementação Integral Tripla Paralelizada e Conversão de Coordenadas Cartesianas para Esféricas"
   ]
  },
  {
   "cell_type": "code",
   "execution_count": null,
   "metadata": {},
   "outputs": [],
   "source": []
  }
 ],
 "metadata": {
  "kernelspec": {
   "display_name": "Python 3 (ipykernel)",
   "language": "python",
   "name": "python3"
  },
  "language_info": {
   "codemirror_mode": {
    "name": "ipython",
    "version": 3
   },
   "file_extension": ".py",
   "mimetype": "text/x-python",
   "name": "python",
   "nbconvert_exporter": "python",
   "pygments_lexer": "ipython3",
   "version": "3.12.7"
  }
 },
 "nbformat": 4,
 "nbformat_minor": 4
}
