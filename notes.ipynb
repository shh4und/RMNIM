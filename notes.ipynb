{
 "cells": [
  {
   "cell_type": "code",
   "execution_count": 1,
   "metadata": {
    "execution": {
     "iopub.execute_input": "2024-11-14T19:52:17.592283Z",
     "iopub.status.busy": "2024-11-14T19:52:17.592068Z",
     "iopub.status.idle": "2024-11-14T19:52:17.671051Z",
     "shell.execute_reply": "2024-11-14T19:52:17.670680Z",
     "shell.execute_reply.started": "2024-11-14T19:52:17.592261Z"
    }
   },
   "outputs": [],
   "source": [
    "import multiprocessing as mp\n",
    "import numpy as np"
   ]
  },
  {
   "cell_type": "markdown",
   "metadata": {},
   "source": [
    "Sliding Volume Filter (SVF)"
   ]
  },
  {
   "cell_type": "markdown",
   "metadata": {},
   "source": [
    "$SVF_O = \\frac{1}{M}\\sum_{a=0}^{2\\pi} \\sum_{b=0}^{\\pi} \\max_{R_{min} < r < R_{max}}(\\frac{1}{d+1}\\sum_{r-d/2}^{r+d/2}VCI_Q)$"
   ]
  },
  {
   "cell_type": "markdown",
   "metadata": {},
   "source": [
    "Voxel Convergence Index"
   ]
  },
  {
   "cell_type": "markdown",
   "metadata": {},
   "source": [
    "$VCI_Q = \\cos\\phi(qx_\\rho, qy_\\rho, qz_\\rho)\n",
    "    = \\cos\\phi(\\rho\\sin{b}\\cos{a}, \\rho\\sin{b}\\sin{a}, \\rho\\cos{b})$"
   ]
  },
  {
   "cell_type": "code",
   "execution_count": 2,
   "metadata": {
    "execution": {
     "iopub.execute_input": "2024-11-14T19:52:17.672745Z",
     "iopub.status.busy": "2024-11-14T19:52:17.672212Z",
     "iopub.status.idle": "2024-11-14T19:52:17.677245Z",
     "shell.execute_reply": "2024-11-14T19:52:17.676032Z",
     "shell.execute_reply.started": "2024-11-14T19:52:17.672720Z"
    },
    "jupyter": {
     "source_hidden": true
    }
   },
   "outputs": [],
   "source": [
    "def sliding_filter(rad, d, L, Rmax, Rmin, n, T):\n",
    "    pass"
   ]
  },
  {
   "cell_type": "markdown",
   "metadata": {},
   "source": [
    "Integral Numerica Paralelizada - Regra dos Trapezios"
   ]
  },
  {
   "cell_type": "code",
   "execution_count": 3,
   "metadata": {
    "execution": {
     "iopub.execute_input": "2024-11-14T19:52:17.679007Z",
     "iopub.status.busy": "2024-11-14T19:52:17.678773Z",
     "iopub.status.idle": "2024-11-14T19:52:17.695892Z",
     "shell.execute_reply": "2024-11-14T19:52:17.693893Z",
     "shell.execute_reply.started": "2024-11-14T19:52:17.678992Z"
    },
    "jupyter": {
     "source_hidden": true
    }
   },
   "outputs": [],
   "source": [
    "def trapezoidal_rule_segment(f, a, b, n):\n",
    "    \"\"\"\n",
    "    Calcula a integral de f(x) em um segmento [a, b] usando a regra dos trapézios com n subintervalos.\n",
    "    \n",
    "    :param f: Função a ser integrada\n",
    "    :param a: Limite inferior do segmento\n",
    "    :param b: Limite superior do segmento\n",
    "    :param n: Número de subintervalos no segmento\n",
    "    :return: Aproximação da integral de f de a até b no segmento\n",
    "    \"\"\"\n",
    "    h = (b - a) / n\n",
    "    integral = 0.5 * (f(a) + f(b))\n",
    "    \n",
    "    for i in range(1, n):\n",
    "        integral += f(a + i * h)\n",
    "    \n",
    "    integral *= h\n",
    "    return integral\n",
    "\n",
    "\n",
    "def parallel_trapezoidal_rule(f, a, b, n, num_processes):\n",
    "    \"\"\"\n",
    "    Aproxima a integral de f(x) de a até b usando a regra dos trapézios com n subintervalos em paralelo.\n",
    "    \n",
    "    :param f: Função a ser integrada\n",
    "    :param a: Limite inferior da integração\n",
    "    :param b: Limite superior da integração\n",
    "    :param n: Número total de subintervalos\n",
    "    :param num_processes: Número de processos paralelos\n",
    "    :return: Aproximação da integral de f de a até b\n",
    "    \"\"\"\n",
    "    pool = mp.Pool(processes=num_processes)\n",
    "    segment_width = (b - a) / num_processes\n",
    "    segment_subintervals = n // num_processes\n",
    "    \n",
    "    results = []\n",
    "    for i in range(num_processes):\n",
    "        segment_a = a + i * segment_width\n",
    "        segment_b = segment_a + segment_width\n",
    "        results.append(pool.apply_async(trapezoidal_rule_segment, (f, segment_a, segment_b, segment_subintervals)))\n",
    "    \n",
    "    pool.close()\n",
    "    pool.join()\n",
    "    \n",
    "    integral = sum(result.get() for result in results)\n",
    "    return integral\n"
   ]
  },
  {
   "cell_type": "code",
   "execution_count": 4,
   "metadata": {
    "execution": {
     "iopub.execute_input": "2024-11-14T19:52:17.696797Z",
     "iopub.status.busy": "2024-11-14T19:52:17.696581Z",
     "iopub.status.idle": "2024-11-14T19:52:17.737075Z",
     "shell.execute_reply": "2024-11-14T19:52:17.736668Z",
     "shell.execute_reply.started": "2024-11-14T19:52:17.696776Z"
    },
    "jupyter": {
     "source_hidden": true
    }
   },
   "outputs": [
    {
     "name": "stdout",
     "output_type": "stream",
     "text": [
      "Aproximação da integral: 25.333343999999997\n"
     ]
    }
   ],
   "source": [
    "# Exemplo de uso\n",
    "def f(x):\n",
    "    return x**2 - 4*x +8\n",
    "\n",
    "a = 1  # Limite inferior\n",
    "b = 5  # Limite superior\n",
    "n = 1000  # Número de subintervalos\n",
    "num_processes = 5  # Número de processos paralelos\n",
    "\n",
    "resultado = parallel_trapezoidal_rule(f, a, b, n, num_processes)\n",
    "print(f\"Aproximação da integral: {resultado}\")"
   ]
  },
  {
   "cell_type": "code",
   "execution_count": 5,
   "metadata": {
    "execution": {
     "iopub.execute_input": "2024-11-14T19:52:17.737862Z",
     "iopub.status.busy": "2024-11-14T19:52:17.737682Z",
     "iopub.status.idle": "2024-11-14T19:52:17.742311Z",
     "shell.execute_reply": "2024-11-14T19:52:17.741802Z",
     "shell.execute_reply.started": "2024-11-14T19:52:17.737846Z"
    }
   },
   "outputs": [],
   "source": [
    "def f(x, y):\n",
    "    return 16 - x**2 - 2 * y**2\n",
    "\n",
    "def midpoint_rule_segment(f, xi, xf, yi, yf, nx, ny):\n",
    "    hx = (xf - xi) / nx\n",
    "    hy = (yf - yi) / ny\n",
    "    int_aprox = 0\n",
    "    \n",
    "    for i in range(nx):\n",
    "        for j in range(ny):\n",
    "            deltax = hx\n",
    "            deltay = hy\n",
    "            deltaA = deltax * deltay\n",
    "            xm = xi + i * deltax + deltax / 2\n",
    "            ym = yi + j * deltay + deltay / 2\n",
    "            int_aprox += f(xm, ym) * deltaA\n",
    "    \n",
    "    return int_aprox\n",
    "\n",
    "def parallel_midpoint_rule(f, xi, xf, yi, yf, nx, ny, num_processes):\n",
    "    pool = mp.Pool(processes=num_processes)\n",
    "    segment_width_x = (xf - xi) / num_processes\n",
    "    segment_width_y = (yf - yi) / num_processes\n",
    "    segment_subintervals_x = nx // num_processes\n",
    "    segment_subintervals_y = ny // num_processes\n",
    "    \n",
    "    results = []\n",
    "    for i in range(num_processes):\n",
    "        segment_xi = xi + i * segment_width_x\n",
    "        segment_xf = segment_xi + segment_width_x\n",
    "        for j in range(num_processes):\n",
    "            segment_yi = yi + j * segment_width_y\n",
    "            segment_yf = segment_yi + segment_width_y\n",
    "            results.append(pool.apply_async(midpoint_rule_segment, (f, segment_xi, segment_xf, segment_yi, segment_yf, segment_subintervals_x, segment_subintervals_y)))\n",
    "    \n",
    "    pool.close()\n",
    "    pool.join()\n",
    "    \n",
    "    integral = sum(result.get() for result in results)\n",
    "    return integral"
   ]
  },
  {
   "cell_type": "code",
   "execution_count": 6,
   "metadata": {
    "execution": {
     "iopub.execute_input": "2024-11-14T19:52:17.743103Z",
     "iopub.status.busy": "2024-11-14T19:52:17.742885Z",
     "iopub.status.idle": "2024-11-14T19:52:17.754314Z",
     "shell.execute_reply": "2024-11-14T19:52:17.753842Z",
     "shell.execute_reply.started": "2024-11-14T19:52:17.743083Z"
    }
   },
   "outputs": [],
   "source": [
    "# # Exemplo de uso\n",
    "# xi = 0\n",
    "# xf = 2\n",
    "# yi = 0\n",
    "# yf = 2\n",
    "# nx = 100\n",
    "# ny = 100\n",
    "# num_processes = 4\n",
    "\n",
    "# resultado = parallel_midpoint_rule(f, xi, xf, yi, yf, nx, ny, num_processes)\n",
    "# sol = 48\n",
    "# erro = np.abs(sol - resultado)\n",
    "# print(f\"Aproximação da integral: {resultado}\")\n",
    "# print(f\"Erro: {erro}\")"
   ]
  },
  {
   "cell_type": "code",
   "execution_count": 7,
   "metadata": {
    "execution": {
     "iopub.execute_input": "2024-11-14T19:52:17.754843Z",
     "iopub.status.busy": "2024-11-14T19:52:17.754723Z",
     "iopub.status.idle": "2024-11-14T19:52:17.767383Z",
     "shell.execute_reply": "2024-11-14T19:52:17.766931Z",
     "shell.execute_reply.started": "2024-11-14T19:52:17.754833Z"
    }
   },
   "outputs": [],
   "source": [
    "def f(x, y, z):\n",
    "    return 12 * x * (y**2) * (z**3)\n",
    "\n",
    "def midpoint_rule_segment(f, xi, xf, yi, yf, zi, zf, nx, ny, nz):\n",
    "    hx = (xf - xi) / nx\n",
    "    hy = (yf - yi) / ny\n",
    "    hz = (zf - zi) / nz\n",
    "    int_aprox = 0\n",
    "    \n",
    "    for i in range(nx):\n",
    "        for j in range(ny):\n",
    "            for k in range(nz):\n",
    "                deltax = hx\n",
    "                deltay = hy\n",
    "                deltaz = hz\n",
    "                deltaV = deltax * deltay * deltaz\n",
    "                xm = xi + i * deltax + deltax / 2\n",
    "                ym = yi + j * deltay + deltay / 2\n",
    "                zm = zi + k * deltaz + deltaz / 2\n",
    "                int_aprox += f(xm, ym, zm) * deltaV\n",
    "    \n",
    "    return int_aprox\n",
    "\n",
    "def parallel_midpoint_rule(f, xi, xf, yi, yf, zi, zf, nx, ny, nz, num_processes):\n",
    "    pool = mp.Pool(processes=num_processes)\n",
    "    segment_width_x = (xf - xi) / num_processes\n",
    "    segment_width_y = (yf - yi) / num_processes\n",
    "    segment_width_z = (zf - zi) / num_processes\n",
    "    segment_subintervals_x = nx // num_processes\n",
    "    segment_subintervals_y = ny // num_processes\n",
    "    segment_subintervals_z = nz // num_processes\n",
    "    \n",
    "    results = []\n",
    "    for i in range(num_processes):\n",
    "        segment_xi = xi + i * segment_width_x\n",
    "        segment_xf = segment_xi + segment_width_x\n",
    "        for j in range(num_processes):\n",
    "            segment_yi = yi + j * segment_width_y\n",
    "            segment_yf = segment_yi + segment_width_y\n",
    "            for k in range(num_processes):\n",
    "                segment_zi = zi + k * segment_width_z\n",
    "                segment_zf = segment_zi + segment_width_z\n",
    "                results.append(pool.apply_async(midpoint_rule_segment, (f, segment_xi, segment_xf, segment_yi, segment_yf, segment_zi, segment_zf, segment_subintervals_x, segment_subintervals_y, segment_subintervals_z)))\n",
    "    \n",
    "    pool.close()\n",
    "    pool.join()\n",
    "    \n",
    "    integral = sum(result.get() for result in results)\n",
    "    return integral"
   ]
  },
  {
   "cell_type": "code",
   "execution_count": 8,
   "metadata": {
    "execution": {
     "iopub.execute_input": "2024-11-14T19:52:17.767976Z",
     "iopub.status.busy": "2024-11-14T19:52:17.767765Z",
     "iopub.status.idle": "2024-11-14T19:52:20.548178Z",
     "shell.execute_reply": "2024-11-14T19:52:20.547823Z",
     "shell.execute_reply.started": "2024-11-14T19:52:17.767962Z"
    }
   },
   "outputs": [
    {
     "name": "stdout",
     "output_type": "stream",
     "text": [
      "O valor aproximado da integral tripla é: 647.994600009988\n",
      "Erro percentual: 0.000833331791983272\n"
     ]
    }
   ],
   "source": [
    "# Exemplo de uso\n",
    "xi = -1\n",
    "xf = 2\n",
    "yi = 0\n",
    "yf = 3\n",
    "zi = 0\n",
    "zf = 2\n",
    "nx = 300\n",
    "ny = 300\n",
    "nz = 300\n",
    "num_processes = 3\n",
    "\n",
    "resultado = parallel_midpoint_rule(f, xi, xf, yi, yf, zi, zf, nx, ny, nz, num_processes)\n",
    "sol_exata = 648\n",
    "erro_percentual = (np.abs(sol_exata - resultado) / sol_exata) * 100\n",
    "print(f\"O valor aproximado da integral tripla é: {resultado}\")\n",
    "print(f\"Erro percentual: {erro_percentual}\")"
   ]
  },
  {
   "cell_type": "code",
   "execution_count": 9,
   "metadata": {
    "execution": {
     "iopub.execute_input": "2024-11-14T19:52:20.548944Z",
     "iopub.status.busy": "2024-11-14T19:52:20.548741Z",
     "iopub.status.idle": "2024-11-14T19:52:20.745712Z",
     "shell.execute_reply": "2024-11-14T19:52:20.745405Z",
     "shell.execute_reply.started": "2024-11-14T19:52:20.548924Z"
    }
   },
   "outputs": [],
   "source": [
    "def appendSpherical_np(xyz):\n",
    "    # Cria um novo array com o mesmo número de linhas que xyz, mas com o dobro de colunas\n",
    "    # As primeiras três colunas serão as coordenadas cartesianas originais\n",
    "    # As últimas três colunas serão preenchidas com zeros inicialmente\n",
    "    ptsnew = np.hstack((xyz, np.zeros(xyz.shape)))\n",
    "    \n",
    "    # Calcula a soma dos quadrados das coordenadas x e y\n",
    "    xy = xyz[:, 0]**2 + xyz[:, 1]**2\n",
    "    \n",
    "    # Calcula o raio esférico (distância do ponto à origem)\n",
    "    ptsnew[:, 3] = np.sqrt(xy + xyz[:, 2]**2)\n",
    "    \n",
    "    # Calcula o ângulo de elevação (theta) a partir do eixo Z\n",
    "    # Para elevação definida do eixo Z para baixo\n",
    "    ptsnew[:, 4] = np.arctan2(np.sqrt(xy), xyz[:, 2])\n",
    "    # Se preferir elevação definida do plano XY para cima, use a linha abaixo e comente a linha acima\n",
    "    # ptsnew[:, 4] = np.arctan2(xyz[:, 2], np.sqrt(xy))\n",
    "    \n",
    "    # Calcula o ângulo azimutal (phi) no plano XY\n",
    "    ptsnew[:, 5] = np.arctan2(xyz[:, 1], xyz[:, 0])\n",
    "    \n",
    "    return ptsnew\n",
    "\n",
    "# Exemplo de uso\n",
    "# Gera um array de 3 milhões de pontos com coordenadas x, y, z aleatórias\n",
    "pts = np.random.rand(3000000, 3)\n",
    "\n",
    "# Converte as coordenadas cartesianas para esféricas e armazena o resultado\n",
    "result = appendSpherical_np(pts)\n",
    "\n",
    "# Imprime o resultado (opcional, pode ser removido para evitar sobrecarga de impressão)\n",
    "# print(result)"
   ]
  },
  {
   "cell_type": "code",
   "execution_count": 10,
   "metadata": {
    "execution": {
     "iopub.execute_input": "2024-11-14T19:52:20.746285Z",
     "iopub.status.busy": "2024-11-14T19:52:20.746114Z",
     "iopub.status.idle": "2024-11-14T19:52:20.751281Z",
     "shell.execute_reply": "2024-11-14T19:52:20.750867Z",
     "shell.execute_reply.started": "2024-11-14T19:52:20.746274Z"
    }
   },
   "outputs": [],
   "source": [
    "import numpy as np\n",
    "import multiprocessing as mp\n",
    "\n",
    "def f1(x, y, z):\n",
    "    return 12 * x * (y**2) * (z**3)\n",
    "\n",
    "def midpoint_rule_segment1(f, xi, xf, yi, yf, zi, zf, nx, ny, nz):\n",
    "    hx = (xf - xi) / nx\n",
    "    hy = (yf - yi) / ny\n",
    "    hz = (zf - zi) / nz\n",
    "    \n",
    "    x = np.linspace(xi + hx/2, xf - hx/2, nx)\n",
    "    y = np.linspace(yi + hy/2, yf - hy/2, ny)\n",
    "    z = np.linspace(zi + hz/2, zf - hz/2, nz)\n",
    "    \n",
    "    X, Y, Z = np.meshgrid(x, y, z, indexing='ij')\n",
    "    \n",
    "    deltaV = hx * hy * hz\n",
    "    integral = np.sum(f(X, Y, Z) * deltaV)\n",
    "    \n",
    "    return integral\n",
    "\n",
    "def parallel_midpoint_rule1(f, xi, xf, yi, yf, zi, zf, nx, ny, nz, num_processes):\n",
    "    pool = mp.Pool(processes=num_processes)\n",
    "    \n",
    "    segment_width_x = (xf - xi) / num_processes\n",
    "    segment_width_y = (yf - yi) / num_processes\n",
    "    segment_width_z = (zf - zi) / num_processes\n",
    "    \n",
    "    segment_subintervals_x = nx // num_processes\n",
    "    segment_subintervals_y = ny // num_processes\n",
    "    segment_subintervals_z = nz // num_processes\n",
    "    \n",
    "    results = []\n",
    "    for i in range(num_processes):\n",
    "        segment_xi = xi + i * segment_width_x\n",
    "        segment_xf = segment_xi + segment_width_x\n",
    "        for j in range(num_processes):\n",
    "            segment_yi = yi + j * segment_width_y\n",
    "            segment_yf = segment_yi + segment_width_y\n",
    "            for k in range(num_processes):\n",
    "                segment_zi = zi + k * segment_width_z\n",
    "                segment_zf = segment_zi + segment_width_z\n",
    "                results.append(pool.apply_async(midpoint_rule_segment1, (f, segment_xi, segment_xf, segment_yi, segment_yf, segment_zi, segment_zf, segment_subintervals_x, segment_subintervals_y, segment_subintervals_z)))\n",
    "    \n",
    "    pool.close()\n",
    "    pool.join()\n",
    "    \n",
    "    integral = sum(result.get() for result in results)\n",
    "    return integral"
   ]
  },
  {
   "cell_type": "code",
   "execution_count": 11,
   "metadata": {
    "execution": {
     "iopub.execute_input": "2024-11-14T19:52:20.752039Z",
     "iopub.status.busy": "2024-11-14T19:52:20.751797Z",
     "iopub.status.idle": "2024-11-14T19:52:20.770575Z",
     "shell.execute_reply": "2024-11-14T19:52:20.770213Z",
     "shell.execute_reply.started": "2024-11-14T19:52:20.752020Z"
    }
   },
   "outputs": [],
   "source": [
    "# # Exemplo de uso\n",
    "# xi = -1\n",
    "# xf = 2\n",
    "# yi = 0\n",
    "# yf = 3\n",
    "# zi = 0\n",
    "# zf = 2\n",
    "# nx = 300\n",
    "# ny = 300\n",
    "# nz = 300\n",
    "# num_processes = 3\n",
    "\n",
    "# resultado = parallel_midpoint_rule1(f1, xi, xf, yi, yf, zi, zf, nx, ny, nz, num_processes)\n",
    "# sol_exata = 648\n",
    "# erro_percentual = (np.abs(sol_exata - resultado) / sol_exata) * 100\n",
    "# print(f\"O valor aproximado da integral tripla (com numpy) é: {resultado}\")\n",
    "# print(f\"Erro percentual: {erro_percentual}\")"
   ]
  },
  {
   "cell_type": "markdown",
   "metadata": {},
   "source": [
    "Nov 12 - Implementação Integral Tripla Paralelizada e Conversão de Coordenadas Cartesianas para Esféricas"
   ]
  },
  {
   "cell_type": "code",
   "execution_count": 25,
   "metadata": {
    "execution": {
     "iopub.execute_input": "2024-11-14T20:08:12.038544Z",
     "iopub.status.busy": "2024-11-14T20:08:12.038070Z",
     "iopub.status.idle": "2024-11-14T20:08:12.043872Z",
     "shell.execute_reply": "2024-11-14T20:08:12.043435Z",
     "shell.execute_reply.started": "2024-11-14T20:08:12.038519Z"
    }
   },
   "outputs": [],
   "source": [
    "import numpy as np\n",
    "import multiprocessing as mp\n",
    "\n",
    "def f_spherical(r, theta, phi):\n",
    "    x = r * np.sin(theta) * np.cos(phi)\n",
    "    y = r * np.sin(theta) * np.sin(phi)\n",
    "    z = r * np.cos(theta)\n",
    "    return 12 * x * (y**2) * (z**2)\n",
    "\n",
    "def midpoint_rule_segment_spherical(f, r_min, r_max, theta_min, theta_max, phi_min, phi_max, nr, ntheta, nphi):\n",
    "    hr = (r_max - r_min) / nr\n",
    "    htheta = (theta_max - theta_min) / ntheta\n",
    "    hphi = (phi_max - phi_min) / nphi\n",
    "    \n",
    "    r = np.linspace(r_min + hr/2, r_max - hr/2, nr)\n",
    "    theta = np.linspace(theta_min + htheta/2, theta_max - htheta/2, ntheta)\n",
    "    phi = np.linspace(phi_min + hphi/2, phi_max - hphi/2, nphi)\n",
    "    \n",
    "    R, Theta, Phi = np.meshgrid(r, theta, phi, indexing='ij')\n",
    "    \n",
    "    deltaV = (R**2) * np.sin(Theta) * hr * htheta * hphi\n",
    "    integral = np.sum(f(R, Theta, Phi) * deltaV)\n",
    "    \n",
    "    return integral\n",
    "\n",
    "def parallel_midpoint_rule_spherical(f, r_min, r_max, theta_min, theta_max, phi_min, phi_max, nr, ntheta, nphi, num_processes):\n",
    "    pool = mp.Pool(processes=num_processes)\n",
    "    \n",
    "    segment_width_r = (r_max - r_min) / num_processes\n",
    "    segment_width_theta = (theta_max - theta_min) / num_processes\n",
    "    segment_width_phi = (phi_max - phi_min) / num_processes\n",
    "    \n",
    "    segment_subintervals_r = nr // num_processes\n",
    "    segment_subintervals_theta = ntheta // num_processes\n",
    "    segment_subintervals_phi = nphi // num_processes\n",
    "    \n",
    "    results = []\n",
    "    for i in range(num_processes):\n",
    "        segment_r_min = r_min + i * segment_width_r\n",
    "        segment_r_max = segment_r_min + segment_width_r\n",
    "        for j in range(num_processes):\n",
    "            segment_theta_min = theta_min + j * segment_width_theta\n",
    "            segment_theta_max = segment_theta_min + segment_width_theta\n",
    "            for k in range(num_processes):\n",
    "                segment_phi_min = phi_min + k * segment_width_phi\n",
    "                segment_phi_max = segment_phi_min + segment_width_phi\n",
    "                results.append(pool.apply_async(midpoint_rule_segment_spherical, (f, segment_r_min, segment_r_max, segment_theta_min, segment_theta_max, segment_phi_min, segment_phi_max, segment_subintervals_r, segment_subintervals_theta, segment_subintervals_phi)))\n",
    "    \n",
    "    pool.close()\n",
    "    pool.join()\n",
    "    \n",
    "    integral = sum(result.get() for result in results)\n",
    "    return integral"
   ]
  },
  {
   "cell_type": "code",
   "execution_count": 29,
   "metadata": {
    "execution": {
     "iopub.execute_input": "2024-11-14T20:08:50.155700Z",
     "iopub.status.busy": "2024-11-14T20:08:50.155426Z",
     "iopub.status.idle": "2024-11-14T20:08:50.201552Z",
     "shell.execute_reply": "2024-11-14T20:08:50.200997Z",
     "shell.execute_reply.started": "2024-11-14T20:08:50.155683Z"
    }
   },
   "outputs": [
    {
     "name": "stdout",
     "output_type": "stream",
     "text": [
      "O valor aproximado da integral tripla em coordenadas esféricas é: -6.821210263296962e-13\n"
     ]
    }
   ],
   "source": [
    "# Exemplo de uso\n",
    "r_min = 0\n",
    "r_max = np.sqrt(xf**2 + yf**2 + zf**2)\n",
    "phi_min = 0\n",
    "phi_max = np.pi\n",
    "theta_min = 0\n",
    "theta_max = 2 * np.pi\n",
    "nr = 100\n",
    "ntheta = 100\n",
    "nphi = 100\n",
    "num_processes = 4\n",
    "\n",
    "resultado = parallel_midpoint_rule_spherical(f_spherical, r_min, r_max, theta_min, theta_max, phi_min, phi_max, nr, ntheta, nphi, num_processes)\n",
    "print(f\"O valor aproximado da integral tripla em coordenadas esféricas é: {resultado}\")"
   ]
  },
  {
   "cell_type": "code",
   "execution_count": null,
   "metadata": {},
   "outputs": [],
   "source": []
  }
 ],
 "metadata": {
  "kernelspec": {
   "display_name": "Python 3 (ipykernel)",
   "language": "python",
   "name": "python3"
  },
  "language_info": {
   "codemirror_mode": {
    "name": "ipython",
    "version": 3
   },
   "file_extension": ".py",
   "mimetype": "text/x-python",
   "name": "python",
   "nbconvert_exporter": "python",
   "pygments_lexer": "ipython3",
   "version": "3.12.7"
  }
 },
 "nbformat": 4,
 "nbformat_minor": 4
}
