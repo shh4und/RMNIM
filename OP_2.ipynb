{
 "cells": [
  {
   "cell_type": "markdown",
   "id": "8d9c68d0-86bf-4c96-9300-7bd205389c75",
   "metadata": {},
   "source": [
    "# Olfactory Projection Fibers (OP_2)"
   ]
  },
  {
   "cell_type": "code",
   "execution_count": 1,
   "id": "06e6eb59-cfa1-48b1-84fc-78801236fc67",
   "metadata": {
    "editable": true,
    "execution": {
     "iopub.execute_input": "2024-05-13T20:27:55.085893Z",
     "iopub.status.busy": "2024-05-13T20:27:55.085715Z",
     "iopub.status.idle": "2024-05-13T20:27:55.279508Z",
     "shell.execute_reply": "2024-05-13T20:27:55.279165Z",
     "shell.execute_reply.started": "2024-05-13T20:27:55.085884Z"
    },
    "slideshow": {
     "slide_type": ""
    },
    "tags": []
   },
   "outputs": [],
   "source": [
    "from ip.ios import *\n",
    "from ip.enhancement import *\n",
    "from ip.binary import *\n",
    "from ip.graph import *\n",
    "from ip.swc import *\n",
    "from ip.split import *\n",
    "from skimage.morphology import skeletonize"
   ]
  },
  {
   "cell_type": "markdown",
   "id": "6d3f26e4-d52c-44a1-a965-3c5e8a5d0a6f",
   "metadata": {},
   "source": [
    "## Read Data"
   ]
  },
  {
   "cell_type": "code",
   "execution_count": 2,
   "id": "cf0d64c0-1994-4053-a26f-a92f38ff4e0d",
   "metadata": {
    "execution": {
     "iopub.execute_input": "2024-05-13T20:27:55.280057Z",
     "iopub.status.busy": "2024-05-13T20:27:55.279912Z",
     "iopub.status.idle": "2024-05-13T20:27:55.281825Z",
     "shell.execute_reply": "2024-05-13T20:27:55.281577Z",
     "shell.execute_reply.started": "2024-05-13T20:27:55.280048Z"
    }
   },
   "outputs": [],
   "source": [
    "folder_path = \"./Olfactory Projection Fibers/Image Stacks/OP_2\""
   ]
  },
  {
   "cell_type": "code",
   "execution_count": 3,
   "id": "638fb640-1704-4f9f-ac4c-6bbb5a00849d",
   "metadata": {
    "execution": {
     "iopub.execute_input": "2024-05-13T20:27:55.282271Z",
     "iopub.status.busy": "2024-05-13T20:27:55.282182Z",
     "iopub.status.idle": "2024-05-13T20:27:55.330401Z",
     "shell.execute_reply": "2024-05-13T20:27:55.330053Z",
     "shell.execute_reply.started": "2024-05-13T20:27:55.282262Z"
    }
   },
   "outputs": [],
   "source": [
    "images = load_image_stack(folder_path)"
   ]
  },
  {
   "cell_type": "markdown",
   "id": "f9f90343-f1a4-4201-af28-54988b120c78",
   "metadata": {},
   "source": [
    "## Code Process and Execution"
   ]
  },
  {
   "cell_type": "code",
   "execution_count": 4,
   "id": "6fffdd0f-efe4-4132-a28b-9bfba1dba60b",
   "metadata": {
    "execution": {
     "iopub.execute_input": "2024-05-13T20:27:55.330950Z",
     "iopub.status.busy": "2024-05-13T20:27:55.330852Z",
     "iopub.status.idle": "2024-05-13T20:27:55.421778Z",
     "shell.execute_reply": "2024-05-13T20:27:55.421398Z",
     "shell.execute_reply.started": "2024-05-13T20:27:55.330941Z"
    }
   },
   "outputs": [],
   "source": [
    "from skimage.morphology import flood_fill\n",
    "floodf = flood_fill(images, (40, 267, 470), 0, tolerance=235)\n",
    "floodf2 = flood_fill(floodf, (48, 282, 64), 0, tolerance=90)\n",
    "floodf3 = flood_fill(floodf2, (43, 251, 105), 0, tolerance=200)\n",
    "floodf4 = flood_fill(floodf3, (0, 367, 52), 0, tolerance=35)"
   ]
  },
  {
   "cell_type": "code",
   "execution_count": 5,
   "id": "f8ab2ea5-a057-41fe-996f-e2f3ec812e39",
   "metadata": {
    "execution": {
     "iopub.execute_input": "2024-05-13T20:27:55.422378Z",
     "iopub.status.busy": "2024-05-13T20:27:55.422252Z",
     "iopub.status.idle": "2024-05-13T20:27:55.554850Z",
     "shell.execute_reply": "2024-05-13T20:27:55.554536Z",
     "shell.execute_reply.started": "2024-05-13T20:27:55.422355Z"
    }
   },
   "outputs": [
    {
     "name": "stdout",
     "output_type": "stream",
     "text": [
      "1.9606982960420496 0.1045675838694853\n",
      "91.13915761311848 56.00579579671224\n",
      "107.85714317770565 35.56414211497587\n",
      "53.89494366115994 16.592078738742405\n",
      "15.467325846354166 10.528140597873263\n"
     ]
    }
   ],
   "source": [
    "split_flood = split_and_process_stack(floodf4, 250, 5)"
   ]
  },
  {
   "cell_type": "code",
   "execution_count": 6,
   "id": "64c848b8-9902-474a-8e59-e56c9ab9268a",
   "metadata": {
    "execution": {
     "iopub.execute_input": "2024-05-13T20:27:55.555323Z",
     "iopub.status.busy": "2024-05-13T20:27:55.555226Z",
     "iopub.status.idle": "2024-05-13T20:27:55.896047Z",
     "shell.execute_reply": "2024-05-13T20:27:55.895661Z",
     "shell.execute_reply.started": "2024-05-13T20:27:55.555314Z"
    }
   },
   "outputs": [],
   "source": [
    "skel = skeletonize(split_flood)"
   ]
  },
  {
   "cell_type": "markdown",
   "id": "f1677608-cc57-4afe-8e9a-42268c11d739",
   "metadata": {},
   "source": [
    "### For visualization purposes only"
   ]
  },
  {
   "cell_type": "code",
   "execution_count": 7,
   "id": "4859a76c-2c05-4c8c-a613-a9b93d418089",
   "metadata": {
    "execution": {
     "iopub.execute_input": "2024-05-13T20:27:55.896658Z",
     "iopub.status.busy": "2024-05-13T20:27:55.896545Z",
     "iopub.status.idle": "2024-05-13T20:27:55.904972Z",
     "shell.execute_reply": "2024-05-13T20:27:55.904706Z",
     "shell.execute_reply.started": "2024-05-13T20:27:55.896648Z"
    }
   },
   "outputs": [
    {
     "data": {
      "text/plain": [
       "True"
      ]
     },
     "execution_count": 7,
     "metadata": {},
     "output_type": "execute_result"
    }
   ],
   "source": [
    "blend = blended(skel)\n",
    "single_download(blend,\"./SWCs/OP_2.png\")\n",
    "blend_og = blended(images)\n",
    "single_download(blend_og,\"./SWCs/OPOG_2.png\")"
   ]
  },
  {
   "cell_type": "markdown",
   "id": "214507ef-85f9-462d-b0ac-dd8288619046",
   "metadata": {},
   "source": [
    "### Graph generation"
   ]
  },
  {
   "cell_type": "code",
   "execution_count": 8,
   "id": "a2190795-23f8-48db-8297-349cd90fa9a0",
   "metadata": {
    "execution": {
     "iopub.execute_input": "2024-05-13T20:27:55.905475Z",
     "iopub.status.busy": "2024-05-13T20:27:55.905370Z",
     "iopub.status.idle": "2024-05-13T20:28:19.038502Z",
     "shell.execute_reply": "2024-05-13T20:28:19.038160Z",
     "shell.execute_reply.started": "2024-05-13T20:27:55.905465Z"
    }
   },
   "outputs": [],
   "source": [
    "graph = Graph(skel)\n",
    "graph.set_root((26, 391, 1))\n",
    "graph.create_graph()"
   ]
  },
  {
   "cell_type": "code",
   "execution_count": 9,
   "id": "be8eb955-3cfa-4bdf-96ad-b417fd451440",
   "metadata": {
    "execution": {
     "iopub.execute_input": "2024-05-13T20:28:19.038979Z",
     "iopub.status.busy": "2024-05-13T20:28:19.038888Z",
     "iopub.status.idle": "2024-05-13T20:28:19.040995Z",
     "shell.execute_reply": "2024-05-13T20:28:19.040743Z",
     "shell.execute_reply.started": "2024-05-13T20:28:19.038971Z"
    }
   },
   "outputs": [
    {
     "name": "stdout",
     "output_type": "stream",
     "text": [
      "(26, 391, 1)\n"
     ]
    }
   ],
   "source": [
    "root = graph.get_root()\n",
    "print(root)"
   ]
  },
  {
   "cell_type": "code",
   "execution_count": 10,
   "id": "8717b56d-4e3f-4dfb-8e85-9d5af2bfd6ce",
   "metadata": {
    "execution": {
     "iopub.execute_input": "2024-05-13T20:28:19.042514Z",
     "iopub.status.busy": "2024-05-13T20:28:19.042340Z",
     "iopub.status.idle": "2024-05-13T20:28:19.045986Z",
     "shell.execute_reply": "2024-05-13T20:28:19.045729Z",
     "shell.execute_reply.started": "2024-05-13T20:28:19.042506Z"
    }
   },
   "outputs": [],
   "source": [
    "distances, parents, labels = graph.dijkstra()"
   ]
  },
  {
   "cell_type": "code",
   "execution_count": 11,
   "id": "e01eb5d7-536d-4564-a1f6-7dfa5c09203e",
   "metadata": {
    "execution": {
     "iopub.execute_input": "2024-05-13T20:28:19.046388Z",
     "iopub.status.busy": "2024-05-13T20:28:19.046300Z",
     "iopub.status.idle": "2024-05-13T20:28:19.049686Z",
     "shell.execute_reply": "2024-05-13T20:28:19.049434Z",
     "shell.execute_reply.started": "2024-05-13T20:28:19.046380Z"
    }
   },
   "outputs": [
    {
     "name": "stdout",
     "output_type": "stream",
     "text": [
      "815 815 815\n"
     ]
    }
   ],
   "source": [
    "print(len(distances), len(parents), len(labels))"
   ]
  },
  {
   "cell_type": "code",
   "execution_count": 12,
   "id": "3f8ec471-c980-4503-a33d-9ff22382acfb",
   "metadata": {
    "execution": {
     "iopub.execute_input": "2024-05-13T20:28:19.050129Z",
     "iopub.status.busy": "2024-05-13T20:28:19.050045Z",
     "iopub.status.idle": "2024-05-13T20:28:19.052877Z",
     "shell.execute_reply": "2024-05-13T20:28:19.052619Z",
     "shell.execute_reply.started": "2024-05-13T20:28:19.050121Z"
    }
   },
   "outputs": [],
   "source": [
    "swc = SWCFile(\"./SWCs/OP_2.swc\")"
   ]
  },
  {
   "cell_type": "code",
   "execution_count": 13,
   "id": "8c92b9b2-d10f-4639-a6f8-a097483b4f45",
   "metadata": {
    "execution": {
     "iopub.execute_input": "2024-05-13T20:28:19.053280Z",
     "iopub.status.busy": "2024-05-13T20:28:19.053184Z",
     "iopub.status.idle": "2024-05-13T20:28:19.056663Z",
     "shell.execute_reply": "2024-05-13T20:28:19.056431Z",
     "shell.execute_reply.started": "2024-05-13T20:28:19.053272Z"
    }
   },
   "outputs": [],
   "source": [
    "for key, item in parents.items():\n",
    "    z,y,x = key\n",
    "    z,y,x = float(z),float(y),float(x)\n",
    "    if item == -1:\n",
    "        if key == root:\n",
    "            swc.add_point(labels[key], 2, x,y,z, 2.0, item)\n",
    "            continue\n",
    "        else:\n",
    "            continue\n",
    "    swc.add_point(labels[key], 2, x,y,z, 2.0, labels[item])"
   ]
  },
  {
   "cell_type": "code",
   "execution_count": 14,
   "id": "881345b0-4337-40d7-9909-1bc3fb8097a4",
   "metadata": {
    "execution": {
     "iopub.execute_input": "2024-05-13T20:28:19.057094Z",
     "iopub.status.busy": "2024-05-13T20:28:19.057009Z",
     "iopub.status.idle": "2024-05-13T20:28:19.061055Z",
     "shell.execute_reply": "2024-05-13T20:28:19.060829Z",
     "shell.execute_reply.started": "2024-05-13T20:28:19.057086Z"
    }
   },
   "outputs": [
    {
     "data": {
      "text/plain": [
       "True"
      ]
     },
     "execution_count": 14,
     "metadata": {},
     "output_type": "execute_result"
    }
   ],
   "source": [
    "swc.write_file()"
   ]
  },
  {
   "cell_type": "code",
   "execution_count": 15,
   "id": "36c26a31-5e56-4722-b06f-51e2c4a725f3",
   "metadata": {
    "execution": {
     "iopub.execute_input": "2024-05-13T20:28:19.061450Z",
     "iopub.status.busy": "2024-05-13T20:28:19.061362Z",
     "iopub.status.idle": "2024-05-13T20:28:19.065014Z",
     "shell.execute_reply": "2024-05-13T20:28:19.064781Z",
     "shell.execute_reply.started": "2024-05-13T20:28:19.061442Z"
    }
   },
   "outputs": [
    {
     "data": {
      "text/plain": [
       "608"
      ]
     },
     "execution_count": 15,
     "metadata": {},
     "output_type": "execute_result"
    }
   ],
   "source": [
    "len(swc.data)"
   ]
  }
 ],
 "metadata": {
  "kernelspec": {
   "display_name": "Python 3 (ipykernel)",
   "language": "python",
   "name": "python3"
  },
  "language_info": {
   "codemirror_mode": {
    "name": "ipython",
    "version": 3
   },
   "file_extension": ".py",
   "mimetype": "text/x-python",
   "name": "python",
   "nbconvert_exporter": "python",
   "pygments_lexer": "ipython3",
   "version": "3.11.7"
  },
  "toc-autonumbering": false,
  "toc-showcode": false
 },
 "nbformat": 4,
 "nbformat_minor": 5
}
