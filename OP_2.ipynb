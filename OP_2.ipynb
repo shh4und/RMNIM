{
 "cells": [
  {
   "cell_type": "markdown",
   "id": "8d9c68d0-86bf-4c96-9300-7bd205389c75",
   "metadata": {},
   "source": [
    "# Olfactory Projection Fibers (OP_2)"
   ]
  },
  {
   "cell_type": "code",
   "execution_count": 1,
   "id": "06e6eb59-cfa1-48b1-84fc-78801236fc67",
   "metadata": {
    "editable": true,
    "execution": {
     "iopub.execute_input": "2024-09-16T01:51:02.829373Z",
     "iopub.status.busy": "2024-09-16T01:51:02.828215Z",
     "iopub.status.idle": "2024-09-16T01:51:03.690061Z",
     "shell.execute_reply": "2024-09-16T01:51:03.687871Z",
     "shell.execute_reply.started": "2024-09-16T01:51:02.829292Z"
    },
    "slideshow": {
     "slide_type": ""
    },
    "tags": []
   },
   "outputs": [],
   "source": [
    "from ip.ios import *\n",
    "from ip.enhancement import *\n",
    "from ip.binary import *\n",
    "from ip.graph_nx import *\n",
    "from ip.swc import *\n",
    "from ip.utils import *\n",
    "from skimage.morphology import skeletonize\n",
    "from skimage.util import img_as_ubyte\n",
    "from scipy import ndimage"
   ]
  },
  {
   "cell_type": "markdown",
   "id": "6d3f26e4-d52c-44a1-a965-3c5e8a5d0a6f",
   "metadata": {},
   "source": [
    "## Read Data"
   ]
  },
  {
   "cell_type": "code",
   "execution_count": 2,
   "id": "cf0d64c0-1994-4053-a26f-a92f38ff4e0d",
   "metadata": {
    "execution": {
     "iopub.execute_input": "2024-09-16T01:51:03.694016Z",
     "iopub.status.busy": "2024-09-16T01:51:03.692572Z",
     "iopub.status.idle": "2024-09-16T01:51:03.700781Z",
     "shell.execute_reply": "2024-09-16T01:51:03.698632Z",
     "shell.execute_reply.started": "2024-09-16T01:51:03.693431Z"
    }
   },
   "outputs": [],
   "source": [
    "folder_path = \"./OlfactoryProjectionFibers/ImageStacks/OP_2\""
   ]
  },
  {
   "cell_type": "code",
   "execution_count": 3,
   "id": "638fb640-1704-4f9f-ac4c-6bbb5a00849d",
   "metadata": {
    "execution": {
     "iopub.execute_input": "2024-09-16T01:51:03.707633Z",
     "iopub.status.busy": "2024-09-16T01:51:03.706767Z",
     "iopub.status.idle": "2024-09-16T01:51:03.763312Z",
     "shell.execute_reply": "2024-09-16T01:51:03.761160Z",
     "shell.execute_reply.started": "2024-09-16T01:51:03.707536Z"
    }
   },
   "outputs": [],
   "source": [
    "images = load_tif_stack(folder_path)"
   ]
  },
  {
   "cell_type": "markdown",
   "id": "f9f90343-f1a4-4201-af28-54988b120c78",
   "metadata": {},
   "source": [
    "## Code Process and Execution"
   ]
  },
  {
   "cell_type": "code",
   "execution_count": 4,
   "id": "157fe720-1e1f-4c72-b93c-9169fc2af7a0",
   "metadata": {
    "execution": {
     "iopub.execute_input": "2024-09-16T01:51:03.769382Z",
     "iopub.status.busy": "2024-09-16T01:51:03.768695Z",
     "iopub.status.idle": "2024-09-16T01:51:04.096503Z",
     "shell.execute_reply": "2024-09-16T01:51:04.094617Z",
     "shell.execute_reply.started": "2024-09-16T01:51:03.769299Z"
    }
   },
   "outputs": [],
   "source": [
    "bilateral = bilateral_blur(images, 11, 200, 200)"
   ]
  },
  {
   "cell_type": "code",
   "execution_count": 5,
   "id": "5ab9fe7d-0b44-4942-a88b-083718852f10",
   "metadata": {
    "execution": {
     "iopub.execute_input": "2024-09-16T01:51:04.100781Z",
     "iopub.status.busy": "2024-09-16T01:51:04.099914Z",
     "iopub.status.idle": "2024-09-16T01:51:04.221457Z",
     "shell.execute_reply": "2024-09-16T01:51:04.219197Z",
     "shell.execute_reply.started": "2024-09-16T01:51:04.100700Z"
    }
   },
   "outputs": [],
   "source": [
    "threshold1 = mean_threshold(bilateral, 50)\n",
    "binary1 = simple_binary(bilateral, threshold1)\n",
    "seg1 = segment(bilateral, binary1)\n",
    "\n",
    "threshold2 = mean_threshold(seg1, 50)\n",
    "binary2 = simple_binary(seg1, threshold2)\n"
   ]
  },
  {
   "cell_type": "code",
   "execution_count": 6,
   "id": "64c848b8-9902-474a-8e59-e56c9ab9268a",
   "metadata": {
    "execution": {
     "iopub.execute_input": "2024-09-16T01:51:04.227881Z",
     "iopub.status.busy": "2024-09-16T01:51:04.224337Z",
     "iopub.status.idle": "2024-09-16T01:51:04.994774Z",
     "shell.execute_reply": "2024-09-16T01:51:04.992804Z",
     "shell.execute_reply.started": "2024-09-16T01:51:04.225005Z"
    }
   },
   "outputs": [],
   "source": [
    "skel = img_as_ubyte(skeletonize(binary2))"
   ]
  },
  {
   "cell_type": "code",
   "execution_count": 7,
   "id": "33c342ea-ed25-4c2d-abdb-63d5d8e537d5",
   "metadata": {
    "execution": {
     "iopub.execute_input": "2024-09-16T01:51:04.999904Z",
     "iopub.status.busy": "2024-09-16T01:51:04.998339Z",
     "iopub.status.idle": "2024-09-16T01:51:05.007844Z",
     "shell.execute_reply": "2024-09-16T01:51:05.005618Z",
     "shell.execute_reply.started": "2024-09-16T01:51:04.999806Z"
    }
   },
   "outputs": [],
   "source": [
    "strel = ndimage.generate_binary_structure(3, 1).astype(\"uint8\")"
   ]
  },
  {
   "cell_type": "code",
   "execution_count": 8,
   "id": "3cdd6ac6-8d19-4f26-b012-9833e25a9884",
   "metadata": {
    "execution": {
     "iopub.execute_input": "2024-09-16T01:51:05.011680Z",
     "iopub.status.busy": "2024-09-16T01:51:05.010946Z",
     "iopub.status.idle": "2024-09-16T01:51:06.598162Z",
     "shell.execute_reply": "2024-09-16T01:51:06.580534Z",
     "shell.execute_reply.started": "2024-09-16T01:51:05.011593Z"
    }
   },
   "outputs": [],
   "source": [
    "minimum = ndimage.minimum_filter(images, size=2)\n",
    "filtered = ndimage.median_filter(minimum, size=3)\n",
    "bilateral = bilateral_blur(minimum, 7, 100, 20)"
   ]
  },
  {
   "cell_type": "code",
   "execution_count": 9,
   "id": "589e914b-19e0-4fff-80e6-de8cfe9e668c",
   "metadata": {
    "execution": {
     "iopub.execute_input": "2024-09-16T01:51:06.606282Z",
     "iopub.status.busy": "2024-09-16T01:51:06.605512Z",
     "iopub.status.idle": "2024-09-16T01:51:06.733657Z",
     "shell.execute_reply": "2024-09-16T01:51:06.731615Z",
     "shell.execute_reply.started": "2024-09-16T01:51:06.606197Z"
    }
   },
   "outputs": [],
   "source": [
    "threshold2 = mean_threshold(bilateral)\n",
    "binary2 = simple_binary(bilateral, threshold2)\n",
    "seg2 = segment(bilateral, binary2)\n",
    "threshold2 = mean_threshold(seg2)\n",
    "binary2 = simple_binary(seg2, threshold2)"
   ]
  },
  {
   "cell_type": "code",
   "execution_count": 10,
   "id": "aa92276d-6b93-4a70-b814-b86a76ccfebe",
   "metadata": {
    "execution": {
     "iopub.execute_input": "2024-09-16T01:51:06.737756Z",
     "iopub.status.busy": "2024-09-16T01:51:06.736520Z",
     "iopub.status.idle": "2024-09-16T01:51:07.633871Z",
     "shell.execute_reply": "2024-09-16T01:51:07.631940Z",
     "shell.execute_reply.started": "2024-09-16T01:51:06.737652Z"
    }
   },
   "outputs": [],
   "source": [
    "er = img_as_ubyte(ndimage.binary_erosion(binary2))\n",
    "skel2 = img_as_ubyte(skeletonize(er))"
   ]
  },
  {
   "cell_type": "code",
   "execution_count": 11,
   "id": "be5713dc-0798-4d4a-b3fb-b6f1eaab50d0",
   "metadata": {
    "execution": {
     "iopub.execute_input": "2024-09-16T01:51:07.638089Z",
     "iopub.status.busy": "2024-09-16T01:51:07.636813Z",
     "iopub.status.idle": "2024-09-16T01:51:07.656366Z",
     "shell.execute_reply": "2024-09-16T01:51:07.653921Z",
     "shell.execute_reply.started": "2024-09-16T01:51:07.637473Z"
    }
   },
   "outputs": [],
   "source": [
    "\n",
    "# Supondo que sua imagem seja um array chamado 'image'\n",
    "non_zero_slices = np.sum(skel2, axis=(1, 2)) != 0\n",
    "# Inverter o boolean array para selecionar apenas os slices não vazios\n",
    "keep_slices = ~non_zero_slices\n",
    "\n",
    "# Usar np.delete para manter apenas os slices não vazios\n",
    "result = np.delete(skel2, np.where(keep_slices), axis=0)"
   ]
  },
  {
   "cell_type": "markdown",
   "id": "f1677608-cc57-4afe-8e9a-42268c11d739",
   "metadata": {},
   "source": [
    "### For visualization purposes only"
   ]
  },
  {
   "cell_type": "code",
   "execution_count": 12,
   "id": "4859a76c-2c05-4c8c-a613-a9b93d418089",
   "metadata": {
    "execution": {
     "iopub.execute_input": "2024-09-16T01:51:07.674664Z",
     "iopub.status.busy": "2024-09-16T01:51:07.673856Z",
     "iopub.status.idle": "2024-09-16T01:51:21.757223Z",
     "shell.execute_reply": "2024-09-16T01:51:21.754921Z",
     "shell.execute_reply.started": "2024-09-16T01:51:07.674572Z"
    }
   },
   "outputs": [
    {
     "name": "stderr",
     "output_type": "stream",
     "text": [
      "qt.qpa.plugin: Could not find the Qt platform plugin \"wayland\" in \"\"\n"
     ]
    },
    {
     "data": {
      "text/plain": [
       "True"
      ]
     },
     "execution_count": 12,
     "metadata": {},
     "output_type": "execute_result"
    }
   ],
   "source": [
    "cv2_imshow([blended(images), blended(minimum), blended(skel2), blended(bilateral)])\n",
    "#cv2_imshow(result[24:27])"
   ]
  },
  {
   "cell_type": "markdown",
   "id": "214507ef-85f9-462d-b0ac-dd8288619046",
   "metadata": {},
   "source": [
    "### Graph generation"
   ]
  },
  {
   "cell_type": "code",
   "execution_count": 38,
   "id": "a2190795-23f8-48db-8297-349cd90fa9a0",
   "metadata": {
    "execution": {
     "iopub.execute_input": "2024-09-16T01:46:40.778976Z",
     "iopub.status.busy": "2024-09-16T01:46:40.778250Z",
     "iopub.status.idle": "2024-09-16T01:46:41.554191Z",
     "shell.execute_reply": "2024-09-16T01:46:41.551934Z",
     "shell.execute_reply.started": "2024-09-16T01:46:40.778892Z"
    }
   },
   "outputs": [
    {
     "name": "stdout",
     "output_type": "stream",
     "text": [
      ">> Graph created\n",
      "OP_1 GOLD STANDARD ROOT: (0.72501, 391.08, 25)\n",
      "TEST ROOT: (0, 393, 26)\n"
     ]
    }
   ],
   "source": [
    "graph = Graph(result)\n",
    "graph.set_root((26, 393, 0))\n",
    "graph.create_graph()\n",
    "root = list(graph.get_root())[::-1]\n",
    "g_root = (0.72501,391.08,25)\n",
    "print(f\"OP_1 GOLD STANDARD ROOT: {g_root}\\nTEST ROOT: {tuple(root)}\")"
   ]
  },
  {
   "cell_type": "code",
   "execution_count": 39,
   "id": "8717b56d-4e3f-4dfb-8e85-9d5af2bfd6ce",
   "metadata": {
    "execution": {
     "iopub.execute_input": "2024-09-16T01:46:42.340441Z",
     "iopub.status.busy": "2024-09-16T01:46:42.339710Z",
     "iopub.status.idle": "2024-09-16T01:46:42.538291Z",
     "shell.execute_reply": "2024-09-16T01:46:42.536355Z",
     "shell.execute_reply.started": "2024-09-16T01:46:42.340358Z"
    }
   },
   "outputs": [
    {
     "name": "stdout",
     "output_type": "stream",
     "text": [
      ">> Minimum Spanning Tree Generated\n",
      ">> Minimum Spanning Tree length: 3040\n",
      ">> Depth-First search and labeling complete\n"
     ]
    }
   ],
   "source": [
    "mst = graph.apply_dfs_and_label_nodes()"
   ]
  },
  {
   "cell_type": "code",
   "execution_count": 40,
   "id": "3f8ec471-c980-4503-a33d-9ff22382acfb",
   "metadata": {
    "execution": {
     "iopub.execute_input": "2024-09-16T01:46:43.120773Z",
     "iopub.status.busy": "2024-09-16T01:46:43.119954Z",
     "iopub.status.idle": "2024-09-16T01:46:43.146994Z",
     "shell.execute_reply": "2024-09-16T01:46:43.142887Z",
     "shell.execute_reply.started": "2024-09-16T01:46:43.120688Z"
    }
   },
   "outputs": [
    {
     "name": "stdout",
     "output_type": "stream",
     "text": [
      ">> SWC saved at: ./Test/OP_2test.swc\n"
     ]
    },
    {
     "data": {
      "text/plain": [
       "True"
      ]
     },
     "execution_count": 40,
     "metadata": {},
     "output_type": "execute_result"
    }
   ],
   "source": [
    "graph.save_to_swc(mst,\"./Test/OP_2test2.swc\")"
   ]
  },
  {
   "cell_type": "code",
   "execution_count": null,
   "id": "1e301e8d-a41d-4df1-bd9d-c6eccd12088d",
   "metadata": {},
   "outputs": [],
   "source": []
  }
 ],
 "metadata": {
  "kernelspec": {
   "display_name": "Python 3 (ipykernel)",
   "language": "python",
   "name": "python3"
  },
  "language_info": {
   "codemirror_mode": {
    "name": "ipython",
    "version": 3
   },
   "file_extension": ".py",
   "mimetype": "text/x-python",
   "name": "python",
   "nbconvert_exporter": "python",
   "pygments_lexer": "ipython3",
   "version": "3.9.18"
  },
  "toc-autonumbering": false,
  "toc-showcode": false
 },
 "nbformat": 4,
 "nbformat_minor": 5
}
