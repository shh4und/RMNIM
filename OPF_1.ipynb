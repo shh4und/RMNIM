{
 "cells": [
  {
   "cell_type": "markdown",
   "id": "325e93d0-9320-4a98-9080-f1f3b7ff7e4d",
   "metadata": {},
   "source": [
    "# Olfactory Projection Fibers (OP_1)"
   ]
  },
  {
   "cell_type": "code",
   "execution_count": 1,
   "id": "06e6eb59-cfa1-48b1-84fc-78801236fc67",
   "metadata": {
    "editable": true,
    "execution": {
     "iopub.execute_input": "2024-05-13T20:27:00.481788Z",
     "iopub.status.busy": "2024-05-13T20:27:00.481689Z",
     "iopub.status.idle": "2024-05-13T20:27:00.673855Z",
     "shell.execute_reply": "2024-05-13T20:27:00.673477Z",
     "shell.execute_reply.started": "2024-05-13T20:27:00.481779Z"
    },
    "slideshow": {
     "slide_type": ""
    },
    "tags": []
   },
   "outputs": [],
   "source": [
    "%run ios.py\n",
    "%run enhancement.py\n",
    "%run binary.py\n",
    "%run graph.py\n",
    "%run swc.py\n",
    "%run split.py\n",
    "from skimage.morphology import skeletonize"
   ]
  },
  {
   "cell_type": "markdown",
   "id": "6d3f26e4-d52c-44a1-a965-3c5e8a5d0a6f",
   "metadata": {},
   "source": [
    "## Read Data"
   ]
  },
  {
   "cell_type": "code",
   "execution_count": 2,
   "id": "cf0d64c0-1994-4053-a26f-a92f38ff4e0d",
   "metadata": {
    "execution": {
     "iopub.execute_input": "2024-05-13T20:27:00.674474Z",
     "iopub.status.busy": "2024-05-13T20:27:00.674310Z",
     "iopub.status.idle": "2024-05-13T20:27:00.676218Z",
     "shell.execute_reply": "2024-05-13T20:27:00.675986Z",
     "shell.execute_reply.started": "2024-05-13T20:27:00.674464Z"
    }
   },
   "outputs": [],
   "source": [
    "folder_path = \".././Olfactory Projection Fibers/Image Stacks/OP_1\""
   ]
  },
  {
   "cell_type": "code",
   "execution_count": 3,
   "id": "638fb640-1704-4f9f-ac4c-6bbb5a00849d",
   "metadata": {
    "execution": {
     "iopub.execute_input": "2024-05-13T20:27:00.676607Z",
     "iopub.status.busy": "2024-05-13T20:27:00.676518Z",
     "iopub.status.idle": "2024-05-13T20:27:00.709762Z",
     "shell.execute_reply": "2024-05-13T20:27:00.709380Z",
     "shell.execute_reply.started": "2024-05-13T20:27:00.676599Z"
    }
   },
   "outputs": [],
   "source": [
    "images = load_image_stack(folder_path)"
   ]
  },
  {
   "cell_type": "markdown",
   "id": "f9f90343-f1a4-4201-af28-54988b120c78",
   "metadata": {},
   "source": [
    "## Code Process and Execution"
   ]
  },
  {
   "cell_type": "code",
   "execution_count": 4,
   "id": "86f9b64d-8370-4121-ac16-9415ee195b9f",
   "metadata": {
    "execution": {
     "iopub.execute_input": "2024-05-13T20:27:00.710281Z",
     "iopub.status.busy": "2024-05-13T20:27:00.710173Z",
     "iopub.status.idle": "2024-05-13T20:27:00.788195Z",
     "shell.execute_reply": "2024-05-13T20:27:00.787774Z",
     "shell.execute_reply.started": "2024-05-13T20:27:00.710272Z"
    }
   },
   "outputs": [
    {
     "name": "stdout",
     "output_type": "stream",
     "text": [
      "1.748927434285482 1.7085647583007812\n",
      "4.798084894816081 4.554913838704427\n",
      "7.901598612467447 7.57623036702474\n",
      "8.542483647664389 7.765960693359375\n",
      "1.9017728169759116 1.7605463663736978\n"
     ]
    }
   ],
   "source": [
    "split = split_and_process_stack(images, 10, 3)"
   ]
  },
  {
   "cell_type": "code",
   "execution_count": 5,
   "id": "c782d507-4558-42e9-a6d7-14c97ea1dcbc",
   "metadata": {
    "execution": {
     "iopub.execute_input": "2024-05-13T20:27:00.788898Z",
     "iopub.status.busy": "2024-05-13T20:27:00.788748Z",
     "iopub.status.idle": "2024-05-13T20:27:01.121218Z",
     "shell.execute_reply": "2024-05-13T20:27:01.120762Z",
     "shell.execute_reply.started": "2024-05-13T20:27:00.788887Z"
    }
   },
   "outputs": [],
   "source": [
    "skel = skeletonize(split)"
   ]
  },
  {
   "cell_type": "markdown",
   "id": "6aca20fc-bb84-4c2f-af79-2d3cb56af7de",
   "metadata": {},
   "source": [
    "### For visualization purposes only"
   ]
  },
  {
   "cell_type": "code",
   "execution_count": 6,
   "id": "e7970848-8297-431d-be49-060cc959428f",
   "metadata": {
    "execution": {
     "iopub.execute_input": "2024-05-13T20:27:01.121786Z",
     "iopub.status.busy": "2024-05-13T20:27:01.121659Z",
     "iopub.status.idle": "2024-05-13T20:27:01.128960Z",
     "shell.execute_reply": "2024-05-13T20:27:01.128647Z",
     "shell.execute_reply.started": "2024-05-13T20:27:01.121753Z"
    }
   },
   "outputs": [
    {
     "data": {
      "text/plain": [
       "True"
      ]
     },
     "execution_count": 6,
     "metadata": {},
     "output_type": "execute_result"
    }
   ],
   "source": [
    "blend = blended(skel)\n",
    "single_download(blend,\".././SWCs/OP_1.png\")"
   ]
  },
  {
   "cell_type": "markdown",
   "id": "d09f1ca3-750d-4179-9a2f-281ab0c20d4e",
   "metadata": {},
   "source": [
    "### Graph generation"
   ]
  },
  {
   "cell_type": "code",
   "execution_count": 7,
   "id": "2cc66763-3823-4733-a2c0-d171347ac9ce",
   "metadata": {
    "execution": {
     "iopub.execute_input": "2024-05-13T20:27:01.129432Z",
     "iopub.status.busy": "2024-05-13T20:27:01.129334Z",
     "iopub.status.idle": "2024-05-13T20:27:17.245757Z",
     "shell.execute_reply": "2024-05-13T20:27:17.245412Z",
     "shell.execute_reply.started": "2024-05-13T20:27:01.129424Z"
    }
   },
   "outputs": [],
   "source": [
    "graph = Graph(skel)\n",
    "graph.set_root((2, 429, 33))\n",
    "graph.create_graph()\n",
    "#OP_1 (X,Y,Z): (30.979,429.04,0)"
   ]
  },
  {
   "cell_type": "code",
   "execution_count": 8,
   "id": "6b324488-d9db-420f-b442-28582223ff1e",
   "metadata": {
    "execution": {
     "iopub.execute_input": "2024-05-13T20:27:17.246260Z",
     "iopub.status.busy": "2024-05-13T20:27:17.246159Z",
     "iopub.status.idle": "2024-05-13T20:27:17.248247Z",
     "shell.execute_reply": "2024-05-13T20:27:17.247945Z",
     "shell.execute_reply.started": "2024-05-13T20:27:17.246250Z"
    }
   },
   "outputs": [
    {
     "name": "stdout",
     "output_type": "stream",
     "text": [
      "(2, 429, 33)\n"
     ]
    }
   ],
   "source": [
    "root = graph.get_root()\n",
    "print(root)"
   ]
  },
  {
   "cell_type": "code",
   "execution_count": 9,
   "id": "b10bf5e5-79ae-4efb-8545-9352dbb22c8f",
   "metadata": {
    "execution": {
     "iopub.execute_input": "2024-05-13T20:27:17.248740Z",
     "iopub.status.busy": "2024-05-13T20:27:17.248599Z",
     "iopub.status.idle": "2024-05-13T20:27:17.257903Z",
     "shell.execute_reply": "2024-05-13T20:27:17.257529Z",
     "shell.execute_reply.started": "2024-05-13T20:27:17.248726Z"
    }
   },
   "outputs": [],
   "source": [
    "distances, parents, labels = graph.dijkstra()"
   ]
  },
  {
   "cell_type": "code",
   "execution_count": 10,
   "id": "09f7b595-e44a-4251-9abb-96f903322bf0",
   "metadata": {
    "execution": {
     "iopub.execute_input": "2024-05-13T20:27:17.259282Z",
     "iopub.status.busy": "2024-05-13T20:27:17.259177Z",
     "iopub.status.idle": "2024-05-13T20:27:17.261450Z",
     "shell.execute_reply": "2024-05-13T20:27:17.261130Z",
     "shell.execute_reply.started": "2024-05-13T20:27:17.259273Z"
    }
   },
   "outputs": [
    {
     "name": "stdout",
     "output_type": "stream",
     "text": [
      "1544 1544 1544\n"
     ]
    }
   ],
   "source": [
    "print(len(distances), len(parents), len(labels))"
   ]
  },
  {
   "cell_type": "code",
   "execution_count": 11,
   "id": "7a36d186-03a7-41eb-a152-3631fab6db6e",
   "metadata": {
    "execution": {
     "iopub.execute_input": "2024-05-13T20:27:17.262009Z",
     "iopub.status.busy": "2024-05-13T20:27:17.261810Z",
     "iopub.status.idle": "2024-05-13T20:27:17.264749Z",
     "shell.execute_reply": "2024-05-13T20:27:17.264435Z",
     "shell.execute_reply.started": "2024-05-13T20:27:17.262001Z"
    }
   },
   "outputs": [],
   "source": [
    "swc = SWCFile(\".././SWCs/OP_1.swc\")"
   ]
  },
  {
   "cell_type": "code",
   "execution_count": 12,
   "id": "162d3ca6-e449-4b27-9967-d9ded48dbbfe",
   "metadata": {
    "execution": {
     "iopub.execute_input": "2024-05-13T20:27:17.265207Z",
     "iopub.status.busy": "2024-05-13T20:27:17.265101Z",
     "iopub.status.idle": "2024-05-13T20:27:17.270243Z",
     "shell.execute_reply": "2024-05-13T20:27:17.269888Z",
     "shell.execute_reply.started": "2024-05-13T20:27:17.265199Z"
    }
   },
   "outputs": [],
   "source": [
    "for key, item in parents.items():\n",
    "    z,y,x = key\n",
    "    z,y,x = float(z),float(y),float(x)\n",
    "    if item == -1:\n",
    "        if key == root:\n",
    "            swc.add_point(labels[key],2,x,y,z,2.0,item)\n",
    "            continue\n",
    "        else:\n",
    "            continue\n",
    "    swc.add_point(labels[key],2,x,y,z,2.0,labels[item])"
   ]
  },
  {
   "cell_type": "code",
   "execution_count": 13,
   "id": "cb403b0e-9aac-483c-83f6-413c4cd1efcc",
   "metadata": {
    "execution": {
     "iopub.execute_input": "2024-05-13T20:27:17.270719Z",
     "iopub.status.busy": "2024-05-13T20:27:17.270618Z",
     "iopub.status.idle": "2024-05-13T20:27:17.276451Z",
     "shell.execute_reply": "2024-05-13T20:27:17.276164Z",
     "shell.execute_reply.started": "2024-05-13T20:27:17.270710Z"
    }
   },
   "outputs": [
    {
     "data": {
      "text/plain": [
       "True"
      ]
     },
     "execution_count": 13,
     "metadata": {},
     "output_type": "execute_result"
    }
   ],
   "source": [
    "swc.write_file()"
   ]
  },
  {
   "cell_type": "code",
   "execution_count": 14,
   "id": "3c6716ef-bed5-4cef-862a-072301cfe391",
   "metadata": {
    "execution": {
     "iopub.execute_input": "2024-05-13T20:27:17.276914Z",
     "iopub.status.busy": "2024-05-13T20:27:17.276814Z",
     "iopub.status.idle": "2024-05-13T20:27:17.279195Z",
     "shell.execute_reply": "2024-05-13T20:27:17.278931Z",
     "shell.execute_reply.started": "2024-05-13T20:27:17.276905Z"
    }
   },
   "outputs": [
    {
     "data": {
      "text/plain": [
       "1544"
      ]
     },
     "execution_count": 14,
     "metadata": {},
     "output_type": "execute_result"
    }
   ],
   "source": [
    "len(swc.data)"
   ]
  }
 ],
 "metadata": {
  "kernelspec": {
   "display_name": "Python 3 (ipykernel)",
   "language": "python",
   "name": "python3"
  },
  "language_info": {
   "codemirror_mode": {
    "name": "ipython",
    "version": 3
   },
   "file_extension": ".py",
   "mimetype": "text/x-python",
   "name": "python",
   "nbconvert_exporter": "python",
   "pygments_lexer": "ipython3",
   "version": "3.11.7"
  },
  "toc-autonumbering": false,
  "toc-showcode": false
 },
 "nbformat": 4,
 "nbformat_minor": 5
}
