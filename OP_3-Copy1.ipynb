{
 "cells": [
  {
   "cell_type": "markdown",
   "id": "325eb697-f748-446e-9103-08e0cc27c35f",
   "metadata": {},
   "source": [
    "# Olfactory Projection Fibers (OP_3)"
   ]
  },
  {
   "cell_type": "code",
   "execution_count": 1,
   "id": "06e6eb59-cfa1-48b1-84fc-78801236fc67",
   "metadata": {
    "editable": true,
    "execution": {
     "iopub.execute_input": "2024-10-18T00:58:39.609393Z",
     "iopub.status.busy": "2024-10-18T00:58:39.605264Z",
     "iopub.status.idle": "2024-10-18T00:58:40.809833Z",
     "shell.execute_reply": "2024-10-18T00:58:40.807207Z",
     "shell.execute_reply.started": "2024-10-18T00:58:39.609270Z"
    },
    "slideshow": {
     "slide_type": ""
    },
    "tags": []
   },
   "outputs": [],
   "source": [
    "from ip.ios import *\n",
    "from ip.enhancement import *\n",
    "from ip.binary import *\n",
    "from ip.graph_nx import *\n",
    "from ip.swc import *\n",
    "from ip.utils import *\n",
    "from skimage.morphology import skeletonize\n",
    "from skimage.util import img_as_ubyte, img_as_float\n",
    "from scipy import ndimage"
   ]
  },
  {
   "cell_type": "markdown",
   "id": "6d3f26e4-d52c-44a1-a965-3c5e8a5d0a6f",
   "metadata": {},
   "source": [
    "## Read Data"
   ]
  },
  {
   "cell_type": "code",
   "execution_count": 2,
   "id": "cf0d64c0-1994-4053-a26f-a92f38ff4e0d",
   "metadata": {
    "execution": {
     "iopub.execute_input": "2024-10-18T00:58:40.814604Z",
     "iopub.status.busy": "2024-10-18T00:58:40.813017Z",
     "iopub.status.idle": "2024-10-18T00:58:40.821676Z",
     "shell.execute_reply": "2024-10-18T00:58:40.819405Z",
     "shell.execute_reply.started": "2024-10-18T00:58:40.814011Z"
    }
   },
   "outputs": [],
   "source": [
    "folder_path = \"./OlfactoryProjectionFibers/ImageStacks/OP_3\""
   ]
  },
  {
   "cell_type": "code",
   "execution_count": 3,
   "id": "638fb640-1704-4f9f-ac4c-6bbb5a00849d",
   "metadata": {
    "execution": {
     "iopub.execute_input": "2024-10-18T00:58:40.830081Z",
     "iopub.status.busy": "2024-10-18T00:58:40.828958Z",
     "iopub.status.idle": "2024-10-18T00:58:40.910769Z",
     "shell.execute_reply": "2024-10-18T00:58:40.908858Z",
     "shell.execute_reply.started": "2024-10-18T00:58:40.829967Z"
    }
   },
   "outputs": [],
   "source": [
    "images = load_tif_stack(folder_path)"
   ]
  },
  {
   "cell_type": "code",
   "execution_count": 4,
   "id": "c81cf359-736e-4701-8132-e1b15a0f471f",
   "metadata": {
    "execution": {
     "iopub.execute_input": "2024-10-18T00:58:40.917971Z",
     "iopub.status.busy": "2024-10-18T00:58:40.916744Z",
     "iopub.status.idle": "2024-10-18T00:58:41.002882Z",
     "shell.execute_reply": "2024-10-18T00:58:40.982008Z",
     "shell.execute_reply.started": "2024-10-18T00:58:40.917818Z"
    }
   },
   "outputs": [],
   "source": [
    "imagesToFloat = img_as_float(images)"
   ]
  },
  {
   "cell_type": "markdown",
   "id": "f9f90343-f1a4-4201-af28-54988b120c78",
   "metadata": {},
   "source": [
    "## Code Process and Execution"
   ]
  },
  {
   "cell_type": "code",
   "execution_count": 5,
   "id": "41415fae-d0a8-4acf-a6af-e86425b7ed89",
   "metadata": {
    "execution": {
     "iopub.execute_input": "2024-10-18T00:58:41.015290Z",
     "iopub.status.busy": "2024-10-18T00:58:41.013716Z",
     "iopub.status.idle": "2024-10-18T00:58:44.634540Z",
     "shell.execute_reply": "2024-10-18T00:58:44.632506Z",
     "shell.execute_reply.started": "2024-10-18T00:58:41.015176Z"
    }
   },
   "outputs": [],
   "source": [
    "filtered = ndimage.median_filter(imagesToFloat, size=3)\n"
   ]
  },
  {
   "cell_type": "code",
   "execution_count": null,
   "id": "dcd3344f-cccc-4be8-ae52-0e945bc51849",
   "metadata": {},
   "outputs": [],
   "source": []
  },
  {
   "cell_type": "code",
   "execution_count": 6,
   "id": "2c525108-ba15-43c4-b5e6-c91b53077ac2",
   "metadata": {
    "execution": {
     "iopub.execute_input": "2024-10-18T00:58:44.644438Z",
     "iopub.status.busy": "2024-10-18T00:58:44.639493Z",
     "iopub.status.idle": "2024-10-18T00:58:46.082752Z",
     "shell.execute_reply": "2024-10-18T00:58:46.063330Z",
     "shell.execute_reply.started": "2024-10-18T00:58:44.644313Z"
    }
   },
   "outputs": [],
   "source": [
    "#LOG1_0        = img_as_ubyte(ndimage.gaussian_laplace(img_as_ubyte(filtered), [1.0, 2.0, 3.0]))\n",
    "\n",
    "LOGMEDIAN      = img_as_ubyte(ndimage.gaussian_laplace(filtered, 1.0))\n",
    "\n",
    "#simple_imshow([blended(images), blended(filtered), blended(LOGMEDIAN)])\n"
   ]
  },
  {
   "cell_type": "code",
   "execution_count": 7,
   "id": "4760b3a9-5652-4614-8d28-935686574965",
   "metadata": {
    "execution": {
     "iopub.execute_input": "2024-10-18T00:58:46.092029Z",
     "iopub.status.busy": "2024-10-18T00:58:46.090389Z",
     "iopub.status.idle": "2024-10-18T00:58:46.100286Z",
     "shell.execute_reply": "2024-10-18T00:58:46.096947Z",
     "shell.execute_reply.started": "2024-10-18T00:58:46.091871Z"
    }
   },
   "outputs": [],
   "source": [
    "#slide_imshow(LOG1_0, True)"
   ]
  },
  {
   "cell_type": "code",
   "execution_count": 8,
   "id": "e3349dde-1c64-4697-b78f-aee30887e679",
   "metadata": {
    "execution": {
     "iopub.execute_input": "2024-10-18T00:58:46.105353Z",
     "iopub.status.busy": "2024-10-18T00:58:46.104195Z",
     "iopub.status.idle": "2024-10-18T00:58:46.117707Z",
     "shell.execute_reply": "2024-10-18T00:58:46.115747Z",
     "shell.execute_reply.started": "2024-10-18T00:58:46.105207Z"
    }
   },
   "outputs": [],
   "source": [
    "threshold3 = mean_threshold(LOGMEDIAN)"
   ]
  },
  {
   "cell_type": "code",
   "execution_count": 9,
   "id": "5e8c11f7-251a-4c46-a387-bac14551ec00",
   "metadata": {
    "execution": {
     "iopub.execute_input": "2024-10-18T00:58:46.121873Z",
     "iopub.status.busy": "2024-10-18T00:58:46.120847Z",
     "iopub.status.idle": "2024-10-18T00:58:46.198463Z",
     "shell.execute_reply": "2024-10-18T00:58:46.196583Z",
     "shell.execute_reply.started": "2024-10-18T00:58:46.121731Z"
    }
   },
   "outputs": [],
   "source": [
    "binary3 = simple_binary(LOGMEDIAN, threshold3)"
   ]
  },
  {
   "cell_type": "code",
   "execution_count": 10,
   "id": "818222a4-04d3-415b-8fad-d7e734cc2e01",
   "metadata": {
    "execution": {
     "iopub.execute_input": "2024-10-18T00:58:46.203261Z",
     "iopub.status.busy": "2024-10-18T00:58:46.202115Z",
     "iopub.status.idle": "2024-10-18T00:58:46.211344Z",
     "shell.execute_reply": "2024-10-18T00:58:46.208740Z",
     "shell.execute_reply.started": "2024-10-18T00:58:46.203125Z"
    }
   },
   "outputs": [],
   "source": [
    "#simple_imshow([blended(binary3)])"
   ]
  },
  {
   "cell_type": "code",
   "execution_count": 11,
   "id": "dde0b641-b289-4ef8-b802-fd1eccbb3d13",
   "metadata": {
    "execution": {
     "iopub.execute_input": "2024-10-18T00:58:46.216616Z",
     "iopub.status.busy": "2024-10-18T00:58:46.215037Z",
     "iopub.status.idle": "2024-10-18T00:58:46.223463Z",
     "shell.execute_reply": "2024-10-18T00:58:46.220965Z",
     "shell.execute_reply.started": "2024-10-18T00:58:46.216505Z"
    }
   },
   "outputs": [],
   "source": [
    "#slide_imshow(binary3)"
   ]
  },
  {
   "cell_type": "code",
   "execution_count": 12,
   "id": "b0a3dd7d-0e38-44bb-bca9-59fcc7c0803d",
   "metadata": {
    "execution": {
     "iopub.execute_input": "2024-10-18T00:58:46.232671Z",
     "iopub.status.busy": "2024-10-18T00:58:46.231926Z",
     "iopub.status.idle": "2024-10-18T00:58:46.511613Z",
     "shell.execute_reply": "2024-10-18T00:58:46.505497Z",
     "shell.execute_reply.started": "2024-10-18T00:58:46.232575Z"
    }
   },
   "outputs": [],
   "source": [
    "segLOG = img_as_ubyte(segment(filtered, ~binary3))"
   ]
  },
  {
   "cell_type": "code",
   "execution_count": 13,
   "id": "3389cc01-8eeb-4adb-87d5-4ebbabd63a84",
   "metadata": {
    "execution": {
     "iopub.execute_input": "2024-10-18T00:58:46.520057Z",
     "iopub.status.busy": "2024-10-18T00:58:46.518749Z",
     "iopub.status.idle": "2024-10-18T00:58:46.646588Z",
     "shell.execute_reply": "2024-10-18T00:58:46.644827Z",
     "shell.execute_reply.started": "2024-10-18T00:58:46.519947Z"
    }
   },
   "outputs": [],
   "source": [
    "segImages = img_as_ubyte(bilateral_blur(segLOG, 7, 75, 50))"
   ]
  },
  {
   "cell_type": "code",
   "execution_count": null,
   "id": "80db646e-8a8b-49ec-beac-bee01ac031f7",
   "metadata": {},
   "outputs": [],
   "source": []
  },
  {
   "cell_type": "code",
   "execution_count": 14,
   "id": "f9bf6f73-831e-4faf-a140-92a557c5289e",
   "metadata": {
    "execution": {
     "iopub.execute_input": "2024-10-18T00:58:46.650275Z",
     "iopub.status.busy": "2024-10-18T00:58:46.649614Z",
     "iopub.status.idle": "2024-10-18T00:58:46.656253Z",
     "shell.execute_reply": "2024-10-18T00:58:46.654404Z",
     "shell.execute_reply.started": "2024-10-18T00:58:46.650187Z"
    }
   },
   "outputs": [],
   "source": [
    "#simple_imshow([blended(segLOG, True),blended(img_as_ubyte(filtered), True),blended(img_as_ubyte(segImages, True))])"
   ]
  },
  {
   "cell_type": "code",
   "execution_count": 15,
   "id": "7e6590e6-2776-4fdc-b2be-76c325c3e738",
   "metadata": {
    "execution": {
     "iopub.execute_input": "2024-10-18T00:58:46.659707Z",
     "iopub.status.busy": "2024-10-18T00:58:46.658952Z",
     "iopub.status.idle": "2024-10-18T00:58:46.666736Z",
     "shell.execute_reply": "2024-10-18T00:58:46.664543Z",
     "shell.execute_reply.started": "2024-10-18T00:58:46.659600Z"
    }
   },
   "outputs": [],
   "source": [
    "#slide_imshow(segImages)"
   ]
  },
  {
   "cell_type": "code",
   "execution_count": 16,
   "id": "5f8dcc02-a8c7-4e9e-8002-16f79ecc2f7b",
   "metadata": {
    "execution": {
     "iopub.execute_input": "2024-10-18T00:58:46.670945Z",
     "iopub.status.busy": "2024-10-18T00:58:46.670103Z",
     "iopub.status.idle": "2024-10-18T00:58:46.711038Z",
     "shell.execute_reply": "2024-10-18T00:58:46.709159Z",
     "shell.execute_reply.started": "2024-10-18T00:58:46.670849Z"
    }
   },
   "outputs": [],
   "source": [
    "binary4 = simple_binary(segImages, mean_threshold(segImages, 13))\n",
    "#simple_imshow(blended(binary4, True))"
   ]
  },
  {
   "cell_type": "code",
   "execution_count": 17,
   "id": "5a3f930a-00d2-46b1-ae46-9176ed21deec",
   "metadata": {
    "execution": {
     "iopub.execute_input": "2024-10-18T00:58:46.719964Z",
     "iopub.status.busy": "2024-10-18T00:58:46.716226Z",
     "iopub.status.idle": "2024-10-18T00:58:46.733839Z",
     "shell.execute_reply": "2024-10-18T00:58:46.727638Z",
     "shell.execute_reply.started": "2024-10-18T00:58:46.719848Z"
    }
   },
   "outputs": [],
   "source": [
    "#slide_imshow(binary4)"
   ]
  },
  {
   "cell_type": "code",
   "execution_count": 18,
   "id": "fdd93b4c-3da2-4ca3-9eba-76cb34db5844",
   "metadata": {
    "execution": {
     "iopub.execute_input": "2024-10-18T00:58:46.740708Z",
     "iopub.status.busy": "2024-10-18T00:58:46.739386Z",
     "iopub.status.idle": "2024-10-18T00:58:47.088258Z",
     "shell.execute_reply": "2024-10-18T00:58:47.086331Z",
     "shell.execute_reply.started": "2024-10-18T00:58:46.740594Z"
    }
   },
   "outputs": [],
   "source": [
    "skel = img_as_ubyte(skeletonize(binary4))\n",
    "#simple_imshow([blended(skel)])"
   ]
  },
  {
   "cell_type": "code",
   "execution_count": 19,
   "id": "7f7e72b4-f59f-46dd-86a2-8b1d26778e2c",
   "metadata": {
    "execution": {
     "iopub.execute_input": "2024-10-18T00:58:47.092762Z",
     "iopub.status.busy": "2024-10-18T00:58:47.091331Z",
     "iopub.status.idle": "2024-10-18T00:58:48.108336Z",
     "shell.execute_reply": "2024-10-18T00:58:48.105415Z",
     "shell.execute_reply.started": "2024-10-18T00:58:47.092653Z"
    }
   },
   "outputs": [],
   "source": [
    "slide_imshow(skel)"
   ]
  },
  {
   "cell_type": "code",
   "execution_count": 20,
   "id": "39ecf525-1579-4815-a832-f275c9a08633",
   "metadata": {
    "execution": {
     "iopub.execute_input": "2024-10-18T00:58:48.113173Z",
     "iopub.status.busy": "2024-10-18T00:58:48.111622Z",
     "iopub.status.idle": "2024-10-18T00:58:48.120946Z",
     "shell.execute_reply": "2024-10-18T00:58:48.117851Z",
     "shell.execute_reply.started": "2024-10-18T00:58:48.112592Z"
    }
   },
   "outputs": [],
   "source": [
    "skel[35:38, 182:, :92] = 0\n",
    "#simple_imshow([blended(skel)])"
   ]
  },
  {
   "cell_type": "markdown",
   "id": "96295d98-d829-4e21-a2e0-aa602b9061e2",
   "metadata": {},
   "source": [
    "### Graph generation"
   ]
  },
  {
   "cell_type": "code",
   "execution_count": 21,
   "id": "a2190795-23f8-48db-8297-349cd90fa9a0",
   "metadata": {
    "execution": {
     "iopub.execute_input": "2024-10-18T00:58:48.124514Z",
     "iopub.status.busy": "2024-10-18T00:58:48.123531Z",
     "iopub.status.idle": "2024-10-18T00:58:48.428013Z",
     "shell.execute_reply": "2024-10-18T00:58:48.426047Z",
     "shell.execute_reply.started": "2024-10-18T00:58:48.124424Z"
    }
   },
   "outputs": [
    {
     "name": "stdout",
     "output_type": "stream",
     "text": [
      ">> Graph created\n",
      "OP_3 GOLD STANDARD ROOT: (93.742, 179, 38)\n",
      "TEST ROOT: (37, 181, 93)\n"
     ]
    }
   ],
   "source": [
    "graph = Graph(skel)\n",
    "graph.set_root((37, 181, 93))\n",
    "graph.create_graph(moving_avg=True, window_moving_avg_sz=3)\n",
    "root = graph.get_root()\n",
    "g_root = (93.742,179,38)\n",
    "print(f\"OP_3 GOLD STANDARD ROOT: {g_root}\\nTEST ROOT: {root}\")"
   ]
  },
  {
   "cell_type": "code",
   "execution_count": 22,
   "id": "5e1cb450-910a-4412-b6c3-32baf053f318",
   "metadata": {
    "execution": {
     "iopub.execute_input": "2024-10-18T00:58:48.431396Z",
     "iopub.status.busy": "2024-10-18T00:58:48.430735Z",
     "iopub.status.idle": "2024-10-18T00:58:48.488119Z",
     "shell.execute_reply": "2024-10-18T00:58:48.485846Z",
     "shell.execute_reply.started": "2024-10-18T00:58:48.431309Z"
    }
   },
   "outputs": [
    {
     "name": "stdout",
     "output_type": "stream",
     "text": [
      ">> Minimum Spanning Tree Generated\n",
      ">> Minimum Spanning Tree length: 901\n",
      ">> Depth-First search and labeling complete\n"
     ]
    }
   ],
   "source": [
    "mst = graph.apply_dfs_and_label_nodes()"
   ]
  },
  {
   "cell_type": "code",
   "execution_count": 23,
   "id": "e74aec80-3899-4a95-b348-e6d40424f16b",
   "metadata": {
    "execution": {
     "iopub.execute_input": "2024-10-18T00:58:48.491306Z",
     "iopub.status.busy": "2024-10-18T00:58:48.490480Z",
     "iopub.status.idle": "2024-10-18T00:58:48.510038Z",
     "shell.execute_reply": "2024-10-18T00:58:48.507502Z",
     "shell.execute_reply.started": "2024-10-18T00:58:48.491216Z"
    }
   },
   "outputs": [
    {
     "name": "stdout",
     "output_type": "stream",
     "text": [
      ">> SWC saved at: ./Test/OP_3test.swc\n"
     ]
    },
    {
     "data": {
      "text/plain": [
       "True"
      ]
     },
     "execution_count": 23,
     "metadata": {},
     "output_type": "execute_result"
    }
   ],
   "source": [
    "graph.save_to_swc(mst,\"./Test/OP_3test.swc\")"
   ]
  },
  {
   "cell_type": "code",
   "execution_count": null,
   "id": "8b6eaaac-90ca-4501-b593-eaadabeab0e8",
   "metadata": {},
   "outputs": [],
   "source": []
  },
  {
   "cell_type": "code",
   "execution_count": null,
   "id": "9e29e552-de4a-44c2-9679-e465ac37ba74",
   "metadata": {},
   "outputs": [],
   "source": []
  }
 ],
 "metadata": {
  "kernelspec": {
   "display_name": "Python 3 (ipykernel)",
   "language": "python",
   "name": "python3"
  },
  "language_info": {
   "codemirror_mode": {
    "name": "ipython",
    "version": 3
   },
   "file_extension": ".py",
   "mimetype": "text/x-python",
   "name": "python",
   "nbconvert_exporter": "python",
   "pygments_lexer": "ipython3",
   "version": "3.9.18"
  },
  "toc-autonumbering": false,
  "toc-showcode": false
 },
 "nbformat": 4,
 "nbformat_minor": 5
}
