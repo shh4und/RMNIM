{
 "cells": [
  {
   "cell_type": "markdown",
   "id": "325e93d0-9320-4a98-9080-f1f3b7ff7e4d",
   "metadata": {},
   "source": [
    "# Olfactory Projection Fibers (OP_6)"
   ]
  },
  {
   "cell_type": "code",
   "execution_count": 1,
   "id": "06e6eb59-cfa1-48b1-84fc-78801236fc67",
   "metadata": {
    "editable": true,
    "execution": {
     "iopub.execute_input": "2024-08-07T00:13:33.661397Z",
     "iopub.status.busy": "2024-08-07T00:13:33.660797Z",
     "iopub.status.idle": "2024-08-07T00:13:34.512656Z",
     "shell.execute_reply": "2024-08-07T00:13:34.510111Z",
     "shell.execute_reply.started": "2024-08-07T00:13:33.661320Z"
    },
    "slideshow": {
     "slide_type": ""
    },
    "tags": []
   },
   "outputs": [],
   "source": [
    "from ip.ios import *\n",
    "from ip.enhancement import *\n",
    "from ip.binary import *\n",
    "from ip.graph_nx import *\n",
    "from ip.swc import *\n",
    "from ip.split import *\n",
    "from ip.utils import *\n",
    "from skimage.morphology import skeletonize\n",
    "from skimage.util import img_as_ubyte\n",
    "from scipy import ndimage"
   ]
  },
  {
   "cell_type": "markdown",
   "id": "6d3f26e4-d52c-44a1-a965-3c5e8a5d0a6f",
   "metadata": {},
   "source": [
    "## Read Data"
   ]
  },
  {
   "cell_type": "code",
   "execution_count": 2,
   "id": "cf0d64c0-1994-4053-a26f-a92f38ff4e0d",
   "metadata": {
    "execution": {
     "iopub.execute_input": "2024-08-07T00:13:34.517910Z",
     "iopub.status.busy": "2024-08-07T00:13:34.516107Z",
     "iopub.status.idle": "2024-08-07T00:13:34.525075Z",
     "shell.execute_reply": "2024-08-07T00:13:34.522702Z",
     "shell.execute_reply.started": "2024-08-07T00:13:34.517101Z"
    }
   },
   "outputs": [],
   "source": [
    "folder_path = \"./OlfactoryProjectionFibers/ImageStacks/OP_6\""
   ]
  },
  {
   "cell_type": "code",
   "execution_count": 3,
   "id": "638fb640-1704-4f9f-ac4c-6bbb5a00849d",
   "metadata": {
    "execution": {
     "iopub.execute_input": "2024-08-07T00:13:34.532536Z",
     "iopub.status.busy": "2024-08-07T00:13:34.531387Z",
     "iopub.status.idle": "2024-08-07T00:13:34.594876Z",
     "shell.execute_reply": "2024-08-07T00:13:34.592810Z",
     "shell.execute_reply.started": "2024-08-07T00:13:34.532394Z"
    }
   },
   "outputs": [],
   "source": [
    "images = load_tif_stack(folder_path)"
   ]
  },
  {
   "cell_type": "code",
   "execution_count": 4,
   "id": "3618b5f3-5953-4076-b028-a6b58e0c7871",
   "metadata": {
    "execution": {
     "iopub.execute_input": "2024-08-07T00:13:34.600904Z",
     "iopub.status.busy": "2024-08-07T00:13:34.600153Z",
     "iopub.status.idle": "2024-08-07T00:13:35.763093Z",
     "shell.execute_reply": "2024-08-07T00:13:35.760762Z",
     "shell.execute_reply.started": "2024-08-07T00:13:34.600818Z"
    }
   },
   "outputs": [
    {
     "name": "stdout",
     "output_type": "stream",
     "text": [
      "stack3d.shape len: 3\n"
     ]
    },
    {
     "name": "stderr",
     "output_type": "stream",
     "text": [
      "qt.qpa.plugin: Could not find the Qt platform plugin \"wayland\" in \"\"\n"
     ]
    },
    {
     "data": {
      "text/plain": [
       "True"
      ]
     },
     "execution_count": 4,
     "metadata": {},
     "output_type": "execute_result"
    }
   ],
   "source": [
    "cv2_imshow(blended(images))"
   ]
  },
  {
   "cell_type": "markdown",
   "id": "f9f90343-f1a4-4201-af28-54988b120c78",
   "metadata": {},
   "source": [
    "## Code Process and Execution"
   ]
  },
  {
   "cell_type": "code",
   "execution_count": 5,
   "id": "86f9b64d-8370-4121-ac16-9415ee195b9f",
   "metadata": {
    "execution": {
     "iopub.execute_input": "2024-08-07T00:13:35.766796Z",
     "iopub.status.busy": "2024-08-07T00:13:35.766052Z",
     "iopub.status.idle": "2024-08-07T00:13:36.450103Z",
     "shell.execute_reply": "2024-08-07T00:13:36.441899Z",
     "shell.execute_reply.started": "2024-08-07T00:13:35.766693Z"
    }
   },
   "outputs": [],
   "source": [
    "bilateral = bilateral_blur(images, 7, 25, 100)\n",
    "gaussian = ndimage.gaussian_filter(bilateral, 1.0)"
   ]
  },
  {
   "cell_type": "code",
   "execution_count": 6,
   "id": "a64d97a4-930c-4d39-a8a8-57c428f7a539",
   "metadata": {
    "execution": {
     "iopub.execute_input": "2024-08-07T00:13:36.456723Z",
     "iopub.status.busy": "2024-08-07T00:13:36.453090Z",
     "iopub.status.idle": "2024-08-07T00:13:36.470399Z",
     "shell.execute_reply": "2024-08-07T00:13:36.464924Z",
     "shell.execute_reply.started": "2024-08-07T00:13:36.456631Z"
    }
   },
   "outputs": [],
   "source": [
    "#cv2_imshow(blended(gaussian))"
   ]
  },
  {
   "cell_type": "code",
   "execution_count": 7,
   "id": "3c3a7210-5ea7-4ac3-a5d2-a43a8ab97746",
   "metadata": {
    "execution": {
     "iopub.execute_input": "2024-08-07T00:13:36.478489Z",
     "iopub.status.busy": "2024-08-07T00:13:36.473357Z",
     "iopub.status.idle": "2024-08-07T00:13:36.679848Z",
     "shell.execute_reply": "2024-08-07T00:13:36.677842Z",
     "shell.execute_reply.started": "2024-08-07T00:13:36.477841Z"
    }
   },
   "outputs": [],
   "source": [
    "threshold1 = mean_threshold(gaussian)\n",
    "binary1 = simple_binary(gaussian, threshold1)\n",
    "seg1 = segment(gaussian, binary1)\n",
    "\n",
    "threshold2 = mean_threshold(seg1)\n",
    "binary2 = simple_binary(seg1, threshold2)"
   ]
  },
  {
   "cell_type": "code",
   "execution_count": 8,
   "id": "c782d507-4558-42e9-a6d7-14c97ea1dcbc",
   "metadata": {
    "execution": {
     "iopub.execute_input": "2024-08-07T00:13:36.684041Z",
     "iopub.status.busy": "2024-08-07T00:13:36.683173Z",
     "iopub.status.idle": "2024-08-07T00:13:37.363574Z",
     "shell.execute_reply": "2024-08-07T00:13:37.361257Z",
     "shell.execute_reply.started": "2024-08-07T00:13:36.683952Z"
    }
   },
   "outputs": [],
   "source": [
    "eroded3d = ndimage.binary_erosion(binary2)\n",
    "skel = img_as_ubyte(skeletonize(eroded3d))"
   ]
  },
  {
   "cell_type": "code",
   "execution_count": 9,
   "id": "4bb8d217-fa8f-494c-a50f-9b406dc653ea",
   "metadata": {
    "execution": {
     "iopub.execute_input": "2024-08-07T00:13:37.367683Z",
     "iopub.status.busy": "2024-08-07T00:13:37.366573Z",
     "iopub.status.idle": "2024-08-07T00:13:37.374375Z",
     "shell.execute_reply": "2024-08-07T00:13:37.372118Z",
     "shell.execute_reply.started": "2024-08-07T00:13:37.367578Z"
    }
   },
   "outputs": [],
   "source": [
    "#cv2_imshow(blended(skel))"
   ]
  },
  {
   "cell_type": "code",
   "execution_count": 23,
   "id": "431b4459-fdc1-46c0-bfac-f340a58e691f",
   "metadata": {
    "execution": {
     "iopub.execute_input": "2024-08-07T00:15:20.286176Z",
     "iopub.status.busy": "2024-08-07T00:15:20.284923Z",
     "iopub.status.idle": "2024-08-07T00:15:48.178650Z",
     "shell.execute_reply": "2024-08-07T00:15:48.175947Z",
     "shell.execute_reply.started": "2024-08-07T00:15:20.286027Z"
    }
   },
   "outputs": [
    {
     "data": {
      "text/plain": [
       "True"
      ]
     },
     "execution_count": 23,
     "metadata": {},
     "output_type": "execute_result"
    }
   ],
   "source": [
    "#cv2_imshow(skel[10:12])"
   ]
  },
  {
   "cell_type": "markdown",
   "id": "6aca20fc-bb84-4c2f-af79-2d3cb56af7de",
   "metadata": {},
   "source": [
    "### For visualization purposes only"
   ]
  },
  {
   "cell_type": "markdown",
   "id": "d09f1ca3-750d-4179-9a2f-281ab0c20d4e",
   "metadata": {},
   "source": [
    "### Graph generation"
   ]
  },
  {
   "cell_type": "code",
   "execution_count": 18,
   "id": "2cc66763-3823-4733-a2c0-d171347ac9ce",
   "metadata": {
    "execution": {
     "iopub.execute_input": "2024-08-07T00:14:10.781499Z",
     "iopub.status.busy": "2024-08-07T00:14:10.780596Z",
     "iopub.status.idle": "2024-08-07T00:14:11.202342Z",
     "shell.execute_reply": "2024-08-07T00:14:11.197016Z",
     "shell.execute_reply.started": "2024-08-07T00:14:10.781398Z"
    }
   },
   "outputs": [
    {
     "name": "stdout",
     "output_type": "stream",
     "text": [
      ">> Graph created\n",
      "OP_6 GOLD STANDARD ROOT: (15.074, 412.01, 10)\n",
      "TEST ROOT: (15, 412, 14)\n"
     ]
    }
   ],
   "source": [
    "graph = Graph(skel)\n",
    "graph.set_root((11, 412, 14))\n",
    "graph.create_graph()\n",
    "root = graph.get_root()\n",
    "g_root = (15.074,412.01,10)\n",
    "print(f\"OP_6 GOLD STANDARD ROOT: {g_root}\\nTEST ROOT: {root}\")"
   ]
  },
  {
   "cell_type": "code",
   "execution_count": 19,
   "id": "cae5e711-2da1-40d2-b2f5-d704a0083f87",
   "metadata": {
    "execution": {
     "iopub.execute_input": "2024-08-07T00:14:11.865488Z",
     "iopub.status.busy": "2024-08-07T00:14:11.864608Z",
     "iopub.status.idle": "2024-08-07T00:14:12.048564Z",
     "shell.execute_reply": "2024-08-07T00:14:12.045601Z",
     "shell.execute_reply.started": "2024-08-07T00:14:11.865391Z"
    }
   },
   "outputs": [
    {
     "name": "stdout",
     "output_type": "stream",
     "text": [
      ">> Minimum Spanning Tree Generated\n",
      ">> Minimum Spanning Tree length: 875\n"
     ]
    },
    {
     "ename": "KeyError",
     "evalue": "(15, 412, 14)",
     "output_type": "error",
     "traceback": [
      "\u001b[0;31m---------------------------------------------------------------------------\u001b[0m",
      "\u001b[0;31mKeyError\u001b[0m                                  Traceback (most recent call last)",
      "Cell \u001b[0;32mIn[19], line 1\u001b[0m\n\u001b[0;32m----> 1\u001b[0m mst \u001b[38;5;241m=\u001b[39m \u001b[43mgraph\u001b[49m\u001b[38;5;241;43m.\u001b[39;49m\u001b[43mapply_dfs_and_label_nodes\u001b[49m\u001b[43m(\u001b[49m\u001b[43m)\u001b[49m\n",
      "File \u001b[0;32m~/RMNIM/ip/graph_nx.py:123\u001b[0m, in \u001b[0;36mGraph.apply_dfs_and_label_nodes\u001b[0;34m(self)\u001b[0m\n\u001b[1;32m    121\u001b[0m \u001b[38;5;28;01mif\u001b[39;00m voxel \u001b[38;5;129;01mnot\u001b[39;00m \u001b[38;5;129;01min\u001b[39;00m visited:\n\u001b[1;32m    122\u001b[0m     visited\u001b[38;5;241m.\u001b[39madd(voxel)\n\u001b[0;32m--> 123\u001b[0m     \u001b[38;5;28;01mif\u001b[39;00m \u001b[38;5;124m\"\u001b[39m\u001b[38;5;124mid\u001b[39m\u001b[38;5;124m\"\u001b[39m \u001b[38;5;129;01mnot\u001b[39;00m \u001b[38;5;129;01min\u001b[39;00m \u001b[43mmst\u001b[49m\u001b[38;5;241;43m.\u001b[39;49m\u001b[43mnodes\u001b[49m\u001b[43m[\u001b[49m\u001b[43mvoxel\u001b[49m\u001b[43m]\u001b[49m:\n\u001b[1;32m    124\u001b[0m         mst\u001b[38;5;241m.\u001b[39mnodes[voxel][\u001b[38;5;124m\"\u001b[39m\u001b[38;5;124mid\u001b[39m\u001b[38;5;124m\"\u001b[39m] \u001b[38;5;241m=\u001b[39m node_id\n\u001b[1;32m    125\u001b[0m         node_id \u001b[38;5;241m+\u001b[39m\u001b[38;5;241m=\u001b[39m \u001b[38;5;241m1\u001b[39m\n",
      "File \u001b[0;32m~/miniforge-pypy3/lib/pypy3.9/site-packages/networkx/classes/reportviews.py:194\u001b[0m, in \u001b[0;36mNodeView.__getitem__\u001b[0;34m(self, n)\u001b[0m\n\u001b[1;32m    189\u001b[0m \u001b[38;5;28;01mif\u001b[39;00m \u001b[38;5;28misinstance\u001b[39m(n, \u001b[38;5;28mslice\u001b[39m):\n\u001b[1;32m    190\u001b[0m     \u001b[38;5;28;01mraise\u001b[39;00m nx\u001b[38;5;241m.\u001b[39mNetworkXError(\n\u001b[1;32m    191\u001b[0m         \u001b[38;5;124mf\u001b[39m\u001b[38;5;124m\"\u001b[39m\u001b[38;5;132;01m{\u001b[39;00m\u001b[38;5;28mtype\u001b[39m(\u001b[38;5;28mself\u001b[39m)\u001b[38;5;241m.\u001b[39m\u001b[38;5;18m__name__\u001b[39m\u001b[38;5;132;01m}\u001b[39;00m\u001b[38;5;124m does not support slicing, \u001b[39m\u001b[38;5;124m\"\u001b[39m\n\u001b[1;32m    192\u001b[0m         \u001b[38;5;124mf\u001b[39m\u001b[38;5;124m\"\u001b[39m\u001b[38;5;124mtry list(G.nodes)[\u001b[39m\u001b[38;5;132;01m{\u001b[39;00mn\u001b[38;5;241m.\u001b[39mstart\u001b[38;5;132;01m}\u001b[39;00m\u001b[38;5;124m:\u001b[39m\u001b[38;5;132;01m{\u001b[39;00mn\u001b[38;5;241m.\u001b[39mstop\u001b[38;5;132;01m}\u001b[39;00m\u001b[38;5;124m:\u001b[39m\u001b[38;5;132;01m{\u001b[39;00mn\u001b[38;5;241m.\u001b[39mstep\u001b[38;5;132;01m}\u001b[39;00m\u001b[38;5;124m]\u001b[39m\u001b[38;5;124m\"\u001b[39m\n\u001b[1;32m    193\u001b[0m     )\n\u001b[0;32m--> 194\u001b[0m \u001b[38;5;28;01mreturn\u001b[39;00m \u001b[38;5;28;43mself\u001b[39;49m\u001b[38;5;241;43m.\u001b[39;49m\u001b[43m_nodes\u001b[49m\u001b[43m[\u001b[49m\u001b[43mn\u001b[49m\u001b[43m]\u001b[49m\n",
      "\u001b[0;31mKeyError\u001b[0m: (15, 412, 14)"
     ]
    }
   ],
   "source": [
    "mst = graph.apply_dfs_and_label_nodes()"
   ]
  },
  {
   "cell_type": "code",
   "execution_count": 20,
   "id": "ef7fd800-2f58-4bad-b26c-af294c5e5ab7",
   "metadata": {
    "execution": {
     "iopub.execute_input": "2024-08-07T00:14:12.473059Z",
     "iopub.status.busy": "2024-08-07T00:14:12.472157Z",
     "iopub.status.idle": "2024-08-07T00:14:12.520985Z",
     "shell.execute_reply": "2024-08-07T00:14:12.518108Z",
     "shell.execute_reply.started": "2024-08-07T00:14:12.472924Z"
    }
   },
   "outputs": [
    {
     "ename": "NameError",
     "evalue": "name 'mst' is not defined",
     "output_type": "error",
     "traceback": [
      "\u001b[0;31m---------------------------------------------------------------------------\u001b[0m",
      "\u001b[0;31mNameError\u001b[0m                                 Traceback (most recent call last)",
      "Cell \u001b[0;32mIn[20], line 1\u001b[0m\n\u001b[0;32m----> 1\u001b[0m graph\u001b[38;5;241m.\u001b[39msave_to_swc(\u001b[43mmst\u001b[49m,\u001b[38;5;124m\"\u001b[39m\u001b[38;5;124m./Test/OP_6.swc\u001b[39m\u001b[38;5;124m\"\u001b[39m,\u001b[38;5;241m1.2\u001b[39m)\n",
      "\u001b[0;31mNameError\u001b[0m: name 'mst' is not defined"
     ]
    }
   ],
   "source": [
    "graph.save_to_swc(mst,\"./Test/OP_6.swc\",1.2)"
   ]
  },
  {
   "cell_type": "code",
   "execution_count": null,
   "id": "8cc9f5e1-bea6-4d61-93d8-ca80fb1e179f",
   "metadata": {},
   "outputs": [],
   "source": []
  }
 ],
 "metadata": {
  "kernelspec": {
   "display_name": "Python 3 (ipykernel)",
   "language": "python",
   "name": "python3"
  },
  "language_info": {
   "codemirror_mode": {
    "name": "ipython",
    "version": 3
   },
   "file_extension": ".py",
   "mimetype": "text/x-python",
   "name": "python",
   "nbconvert_exporter": "python",
   "pygments_lexer": "ipython3",
   "version": "3.9.18"
  },
  "toc-autonumbering": false,
  "toc-showcode": false
 },
 "nbformat": 4,
 "nbformat_minor": 5
}
