{
 "cells": [
  {
   "cell_type": "markdown",
   "id": "325eb697-f748-446e-9103-08e0cc27c35f",
   "metadata": {},
   "source": [
    "# Olfactory Projection Fibers (OP_3)"
   ]
  },
  {
   "cell_type": "code",
   "execution_count": 40,
   "id": "06e6eb59-cfa1-48b1-84fc-78801236fc67",
   "metadata": {
    "editable": true,
    "execution": {
     "iopub.execute_input": "2024-08-19T00:43:58.456449Z",
     "iopub.status.busy": "2024-08-19T00:43:58.455061Z",
     "iopub.status.idle": "2024-08-19T00:43:58.468421Z",
     "shell.execute_reply": "2024-08-19T00:43:58.465814Z",
     "shell.execute_reply.started": "2024-08-19T00:43:58.456277Z"
    },
    "slideshow": {
     "slide_type": ""
    },
    "tags": []
   },
   "outputs": [],
   "source": [
    "from ip.ios import *\n",
    "from ip.enhancement import *\n",
    "from ip.binary import *\n",
    "from ip.graph_nx import *\n",
    "from ip.swc import *\n",
    "from ip.utils import *\n",
    "from skimage.morphology import skeletonize\n",
    "from skimage.util import img_as_ubyte\n",
    "from scipy import ndimage"
   ]
  },
  {
   "cell_type": "markdown",
   "id": "6d3f26e4-d52c-44a1-a965-3c5e8a5d0a6f",
   "metadata": {},
   "source": [
    "## Read Data"
   ]
  },
  {
   "cell_type": "code",
   "execution_count": 41,
   "id": "cf0d64c0-1994-4053-a26f-a92f38ff4e0d",
   "metadata": {
    "execution": {
     "iopub.execute_input": "2024-08-19T00:43:58.476337Z",
     "iopub.status.busy": "2024-08-19T00:43:58.475083Z",
     "iopub.status.idle": "2024-08-19T00:43:58.485347Z",
     "shell.execute_reply": "2024-08-19T00:43:58.482569Z",
     "shell.execute_reply.started": "2024-08-19T00:43:58.476194Z"
    }
   },
   "outputs": [],
   "source": [
    "folder_path = \"./OlfactoryProjectionFibers/ImageStacks/OP_3\""
   ]
  },
  {
   "cell_type": "code",
   "execution_count": 42,
   "id": "638fb640-1704-4f9f-ac4c-6bbb5a00849d",
   "metadata": {
    "execution": {
     "iopub.execute_input": "2024-08-19T00:43:58.490677Z",
     "iopub.status.busy": "2024-08-19T00:43:58.489393Z",
     "iopub.status.idle": "2024-08-19T00:43:58.537448Z",
     "shell.execute_reply": "2024-08-19T00:43:58.535212Z",
     "shell.execute_reply.started": "2024-08-19T00:43:58.490532Z"
    }
   },
   "outputs": [],
   "source": [
    "images = load_tif_stack(folder_path)"
   ]
  },
  {
   "cell_type": "markdown",
   "id": "f9f90343-f1a4-4201-af28-54988b120c78",
   "metadata": {},
   "source": [
    "## Code Process and Execution"
   ]
  },
  {
   "cell_type": "code",
   "execution_count": 43,
   "id": "fb84f535-72db-4479-9dec-26e8a8e87156",
   "metadata": {
    "execution": {
     "iopub.execute_input": "2024-08-19T00:43:58.543020Z",
     "iopub.status.busy": "2024-08-19T00:43:58.542400Z",
     "iopub.status.idle": "2024-08-19T00:43:59.060695Z",
     "shell.execute_reply": "2024-08-19T00:43:59.058669Z",
     "shell.execute_reply.started": "2024-08-19T00:43:58.542938Z"
    }
   },
   "outputs": [],
   "source": [
    "bilateral = bilateral_blur(images, 11, 75, 50)\n"
   ]
  },
  {
   "cell_type": "code",
   "execution_count": 45,
   "id": "f348f4a4-8e61-4f43-bf57-5607d2b9653b",
   "metadata": {
    "execution": {
     "iopub.execute_input": "2024-08-19T00:43:59.076757Z",
     "iopub.status.busy": "2024-08-19T00:43:59.076086Z",
     "iopub.status.idle": "2024-08-19T00:43:59.179255Z",
     "shell.execute_reply": "2024-08-19T00:43:59.161554Z",
     "shell.execute_reply.started": "2024-08-19T00:43:59.076677Z"
    }
   },
   "outputs": [],
   "source": [
    "binary3 = simple_binary(bilateral, mean_threshold(bilateral,7))\n",
    "seg1 = segment(bilateral, binary3)\n",
    "threshold2 = mean_threshold(seg1)\n",
    "binary3 = simple_binary(seg1, threshold2)\n",
    "eroded = ndimage.binary_opening(binary3)"
   ]
  },
  {
   "cell_type": "code",
   "execution_count": 46,
   "id": "b3f86861-7d93-411f-9460-c8bd94d1d7f1",
   "metadata": {
    "execution": {
     "iopub.execute_input": "2024-08-19T00:43:59.187804Z",
     "iopub.status.busy": "2024-08-19T00:43:59.187119Z",
     "iopub.status.idle": "2024-08-19T00:43:59.195544Z",
     "shell.execute_reply": "2024-08-19T00:43:59.193378Z",
     "shell.execute_reply.started": "2024-08-19T00:43:59.187725Z"
    }
   },
   "outputs": [],
   "source": [
    "skel2 = img_as_ubyte(skeletonize(eroded))"
   ]
  },
  {
   "cell_type": "markdown",
   "id": "6000d9e5-a6b5-4613-8e7a-983db3b3a51f",
   "metadata": {},
   "source": [
    "### For visualization purposes only"
   ]
  },
  {
   "cell_type": "code",
   "execution_count": 52,
   "id": "328e3271-40f3-4452-8a74-77415b1deb99",
   "metadata": {
    "execution": {
     "iopub.execute_input": "2024-08-19T00:44:47.652809Z",
     "iopub.status.busy": "2024-08-19T00:44:47.651035Z",
     "iopub.status.idle": "2024-08-19T00:45:05.152268Z",
     "shell.execute_reply": "2024-08-19T00:45:05.144634Z",
     "shell.execute_reply.started": "2024-08-19T00:44:47.652125Z"
    }
   },
   "outputs": [
    {
     "data": {
      "text/plain": [
       "True"
      ]
     },
     "execution_count": 52,
     "metadata": {},
     "output_type": "execute_result"
    }
   ],
   "source": [
    "cv2_imshow(blended(skel2))\n"
   ]
  },
  {
   "cell_type": "markdown",
   "id": "96295d98-d829-4e21-a2e0-aa602b9061e2",
   "metadata": {},
   "source": [
    "### Graph generation"
   ]
  },
  {
   "cell_type": "code",
   "execution_count": 49,
   "id": "a2190795-23f8-48db-8297-349cd90fa9a0",
   "metadata": {
    "execution": {
     "iopub.execute_input": "2024-08-19T00:44:23.460127Z",
     "iopub.status.busy": "2024-08-19T00:44:23.458951Z",
     "iopub.status.idle": "2024-08-19T00:44:23.709592Z",
     "shell.execute_reply": "2024-08-19T00:44:23.707013Z",
     "shell.execute_reply.started": "2024-08-19T00:44:23.460031Z"
    }
   },
   "outputs": [
    {
     "name": "stdout",
     "output_type": "stream",
     "text": [
      "essa eh a raiz\n",
      ">> Graph created\n",
      "OP_3 GOLD STANDARD ROOT: (93.742, 179, 38)\n",
      "TEST ROOT: [94, 180, 38]\n"
     ]
    }
   ],
   "source": [
    "graph = Graph(skel2)\n",
    "graph.set_root((37, 180, 95))\n",
    "graph.create_graph()\n",
    "root = graph.get_root()\n",
    "g_root = (93.742,179,38)\n",
    "print(f\"OP_3 GOLD STANDARD ROOT: {g_root}\\nTEST ROOT: {root}\")"
   ]
  },
  {
   "cell_type": "code",
   "execution_count": 50,
   "id": "5e1cb450-910a-4412-b6c3-32baf053f318",
   "metadata": {
    "execution": {
     "iopub.execute_input": "2024-08-19T00:44:23.715022Z",
     "iopub.status.busy": "2024-08-19T00:44:23.714295Z",
     "iopub.status.idle": "2024-08-19T00:44:23.776425Z",
     "shell.execute_reply": "2024-08-19T00:44:23.773624Z",
     "shell.execute_reply.started": "2024-08-19T00:44:23.714930Z"
    }
   },
   "outputs": [
    {
     "name": "stdout",
     "output_type": "stream",
     "text": [
      ">> Minimum Spanning Tree Generated\n",
      ">> Minimum Spanning Tree length: 726\n",
      ">> Depth-First search and labeling complete\n"
     ]
    }
   ],
   "source": [
    "mst = graph.apply_dfs_and_label_nodes()"
   ]
  },
  {
   "cell_type": "code",
   "execution_count": 51,
   "id": "e74aec80-3899-4a95-b348-e6d40424f16b",
   "metadata": {
    "execution": {
     "iopub.execute_input": "2024-08-19T00:44:23.781264Z",
     "iopub.status.busy": "2024-08-19T00:44:23.780086Z",
     "iopub.status.idle": "2024-08-19T00:44:23.798622Z",
     "shell.execute_reply": "2024-08-19T00:44:23.796757Z",
     "shell.execute_reply.started": "2024-08-19T00:44:23.781113Z"
    }
   },
   "outputs": [
    {
     "name": "stdout",
     "output_type": "stream",
     "text": [
      ">> SWC saved at: ./Test/OP_3_gau.swc\n"
     ]
    },
    {
     "data": {
      "text/plain": [
       "True"
      ]
     },
     "execution_count": 51,
     "metadata": {},
     "output_type": "execute_result"
    }
   ],
   "source": [
    "graph.save_to_swc(mst,\"./Test/OP_3_gau.swc\")"
   ]
  }
 ],
 "metadata": {
  "kernelspec": {
   "display_name": "Python 3 (ipykernel)",
   "language": "python",
   "name": "python3"
  },
  "language_info": {
   "codemirror_mode": {
    "name": "ipython",
    "version": 3
   },
   "file_extension": ".py",
   "mimetype": "text/x-python",
   "name": "python",
   "nbconvert_exporter": "python",
   "pygments_lexer": "ipython3",
   "version": "3.9.18"
  },
  "toc-autonumbering": false,
  "toc-showcode": false
 },
 "nbformat": 4,
 "nbformat_minor": 5
}
