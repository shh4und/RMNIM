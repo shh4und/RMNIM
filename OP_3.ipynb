{
 "cells": [
  {
   "cell_type": "markdown",
   "id": "325eb697-f748-446e-9103-08e0cc27c35f",
   "metadata": {},
   "source": [
    "# Olfactory Projection Fibers (OP_3)"
   ]
  },
  {
   "cell_type": "code",
   "execution_count": 1,
   "id": "06e6eb59-cfa1-48b1-84fc-78801236fc67",
   "metadata": {
    "editable": true,
    "execution": {
     "iopub.execute_input": "2024-05-13T20:24:50.324280Z",
     "iopub.status.busy": "2024-05-13T20:24:50.324179Z",
     "iopub.status.idle": "2024-05-13T20:24:50.518665Z",
     "shell.execute_reply": "2024-05-13T20:24:50.518348Z",
     "shell.execute_reply.started": "2024-05-13T20:24:50.324270Z"
    },
    "slideshow": {
     "slide_type": ""
    },
    "tags": []
   },
   "outputs": [],
   "source": [
    "from ip.ios import *\n",
    "from ip.enhancement import *\n",
    "from ip.binary import *\n",
    "from ip.graph import *\n",
    "from ip.swc import *\n",
    "from ip.split import *\n",
    "from skimage.morphology import skeletonize"
   ]
  },
  {
   "cell_type": "markdown",
   "id": "6d3f26e4-d52c-44a1-a965-3c5e8a5d0a6f",
   "metadata": {},
   "source": [
    "## Read Data"
   ]
  },
  {
   "cell_type": "code",
   "execution_count": 2,
   "id": "cf0d64c0-1994-4053-a26f-a92f38ff4e0d",
   "metadata": {
    "execution": {
     "iopub.execute_input": "2024-05-13T20:24:50.519283Z",
     "iopub.status.busy": "2024-05-13T20:24:50.519135Z",
     "iopub.status.idle": "2024-05-13T20:24:50.521031Z",
     "shell.execute_reply": "2024-05-13T20:24:50.520796Z",
     "shell.execute_reply.started": "2024-05-13T20:24:50.519272Z"
    }
   },
   "outputs": [],
   "source": [
    "folder_path = \"./Olfactory Projection Fibers/Image Stacks/OP_3\"\n",
    "#OP_3 (X,Y,Z): (93.742,179,38)\n",
    "# (94,180,38)"
   ]
  },
  {
   "cell_type": "code",
   "execution_count": 3,
   "id": "638fb640-1704-4f9f-ac4c-6bbb5a00849d",
   "metadata": {
    "execution": {
     "iopub.execute_input": "2024-05-13T20:24:50.521564Z",
     "iopub.status.busy": "2024-05-13T20:24:50.521477Z",
     "iopub.status.idle": "2024-05-13T20:24:50.576364Z",
     "shell.execute_reply": "2024-05-13T20:24:50.576067Z",
     "shell.execute_reply.started": "2024-05-13T20:24:50.521556Z"
    }
   },
   "outputs": [],
   "source": [
    "images = load_image_stack(folder_path)"
   ]
  },
  {
   "cell_type": "markdown",
   "id": "f9f90343-f1a4-4201-af28-54988b120c78",
   "metadata": {},
   "source": [
    "## Code Process and Execution"
   ]
  },
  {
   "cell_type": "code",
   "execution_count": 4,
   "id": "f8ab2ea5-a057-41fe-996f-e2f3ec812e39",
   "metadata": {
    "execution": {
     "iopub.execute_input": "2024-05-13T20:24:50.576880Z",
     "iopub.status.busy": "2024-05-13T20:24:50.576770Z",
     "iopub.status.idle": "2024-05-13T20:24:50.666170Z",
     "shell.execute_reply": "2024-05-13T20:24:50.665790Z",
     "shell.execute_reply.started": "2024-05-13T20:24:50.576868Z"
    }
   },
   "outputs": [
    {
     "name": "stdout",
     "output_type": "stream",
     "text": [
      "25.179068883260094 2.24744192759196\n",
      "22.809255282084145 3.5778745015462237\n",
      "17.85046592125526 1.4977323091947117\n",
      "13.78773816426595 1.2989047368367515\n",
      "8.693412193885216 0.8302726745605469\n"
     ]
    }
   ],
   "source": [
    "split = split_and_process_stack(images, 17, 3)"
   ]
  },
  {
   "cell_type": "code",
   "execution_count": 5,
   "id": "64c848b8-9902-474a-8e59-e56c9ab9268a",
   "metadata": {
    "execution": {
     "iopub.execute_input": "2024-05-13T20:24:50.666937Z",
     "iopub.status.busy": "2024-05-13T20:24:50.666699Z",
     "iopub.status.idle": "2024-05-13T20:24:51.008222Z",
     "shell.execute_reply": "2024-05-13T20:24:51.007755Z",
     "shell.execute_reply.started": "2024-05-13T20:24:50.666921Z"
    }
   },
   "outputs": [],
   "source": [
    "skel = skeletonize(split)"
   ]
  },
  {
   "cell_type": "markdown",
   "id": "6000d9e5-a6b5-4613-8e7a-983db3b3a51f",
   "metadata": {},
   "source": [
    "### For visualization purposes only"
   ]
  },
  {
   "cell_type": "code",
   "execution_count": 6,
   "id": "328e3271-40f3-4452-8a74-77415b1deb99",
   "metadata": {
    "execution": {
     "iopub.execute_input": "2024-05-13T20:24:51.008914Z",
     "iopub.status.busy": "2024-05-13T20:24:51.008750Z",
     "iopub.status.idle": "2024-05-13T20:24:51.016545Z",
     "shell.execute_reply": "2024-05-13T20:24:51.016254Z",
     "shell.execute_reply.started": "2024-05-13T20:24:51.008898Z"
    }
   },
   "outputs": [
    {
     "data": {
      "text/plain": [
       "True"
      ]
     },
     "execution_count": 6,
     "metadata": {},
     "output_type": "execute_result"
    }
   ],
   "source": [
    "blend = blended(skel)\n",
    "single_download(blend,\"./Test/Images/OP_3_skel.png\")"
   ]
  },
  {
   "cell_type": "markdown",
   "id": "96295d98-d829-4e21-a2e0-aa602b9061e2",
   "metadata": {},
   "source": [
    "### Graph generation"
   ]
  },
  {
   "cell_type": "code",
   "execution_count": 7,
   "id": "a2190795-23f8-48db-8297-349cd90fa9a0",
   "metadata": {
    "execution": {
     "iopub.execute_input": "2024-05-13T20:24:51.017036Z",
     "iopub.status.busy": "2024-05-13T20:24:51.016928Z",
     "iopub.status.idle": "2024-05-13T20:25:07.284058Z",
     "shell.execute_reply": "2024-05-13T20:25:07.283706Z",
     "shell.execute_reply.started": "2024-05-13T20:24:51.017027Z"
    }
   },
   "outputs": [],
   "source": [
    "graph = Graph(skel)\n",
    "graph.set_root((38, 180, 94))\n",
    "graph.create_graph()"
   ]
  },
  {
   "cell_type": "code",
   "execution_count": 8,
   "id": "ca221318-3a9e-407e-9814-6152429def63",
   "metadata": {
    "execution": {
     "iopub.execute_input": "2024-05-13T20:25:07.284567Z",
     "iopub.status.busy": "2024-05-13T20:25:07.284458Z",
     "iopub.status.idle": "2024-05-13T20:25:07.287103Z",
     "shell.execute_reply": "2024-05-13T20:25:07.286855Z",
     "shell.execute_reply.started": "2024-05-13T20:25:07.284559Z"
    }
   },
   "outputs": [
    {
     "name": "stdout",
     "output_type": "stream",
     "text": [
      "(38, 180, 94)\n"
     ]
    }
   ],
   "source": [
    "root = graph.get_root()\n",
    "print(root)"
   ]
  },
  {
   "cell_type": "code",
   "execution_count": 9,
   "id": "6643785f-d8df-4857-819f-a7348160235b",
   "metadata": {
    "execution": {
     "iopub.execute_input": "2024-05-13T20:25:07.287553Z",
     "iopub.status.busy": "2024-05-13T20:25:07.287454Z",
     "iopub.status.idle": "2024-05-13T20:25:07.293489Z",
     "shell.execute_reply": "2024-05-13T20:25:07.293251Z",
     "shell.execute_reply.started": "2024-05-13T20:25:07.287545Z"
    }
   },
   "outputs": [],
   "source": [
    "distances, parents, labels = graph.dijkstra()"
   ]
  },
  {
   "cell_type": "code",
   "execution_count": 10,
   "id": "ded0a0ab-ef5e-401e-9307-8da3d953c2b1",
   "metadata": {
    "execution": {
     "iopub.execute_input": "2024-05-13T20:25:07.294706Z",
     "iopub.status.busy": "2024-05-13T20:25:07.294536Z",
     "iopub.status.idle": "2024-05-13T20:25:07.297057Z",
     "shell.execute_reply": "2024-05-13T20:25:07.296827Z",
     "shell.execute_reply.started": "2024-05-13T20:25:07.294698Z"
    }
   },
   "outputs": [
    {
     "name": "stdout",
     "output_type": "stream",
     "text": [
      "940 940 940\n"
     ]
    }
   ],
   "source": [
    "print(len(distances), len(parents), len(labels))"
   ]
  },
  {
   "cell_type": "code",
   "execution_count": 11,
   "id": "3f8ec471-c980-4503-a33d-9ff22382acfb",
   "metadata": {
    "execution": {
     "iopub.execute_input": "2024-05-13T20:25:07.297458Z",
     "iopub.status.busy": "2024-05-13T20:25:07.297372Z",
     "iopub.status.idle": "2024-05-13T20:25:07.300272Z",
     "shell.execute_reply": "2024-05-13T20:25:07.299991Z",
     "shell.execute_reply.started": "2024-05-13T20:25:07.297451Z"
    }
   },
   "outputs": [],
   "source": [
    "swc = SWCFile(\"./SWCs/OP_3.swc\")"
   ]
  },
  {
   "cell_type": "code",
   "execution_count": 12,
   "id": "7fec6df1-6aae-4091-8987-a50289c143b4",
   "metadata": {
    "execution": {
     "iopub.execute_input": "2024-05-13T20:25:07.300663Z",
     "iopub.status.busy": "2024-05-13T20:25:07.300578Z",
     "iopub.status.idle": "2024-05-13T20:25:07.306612Z",
     "shell.execute_reply": "2024-05-13T20:25:07.306393Z",
     "shell.execute_reply.started": "2024-05-13T20:25:07.300656Z"
    }
   },
   "outputs": [
    {
     "data": {
      "text/plain": [
       "True"
      ]
     },
     "execution_count": 12,
     "metadata": {},
     "output_type": "execute_result"
    }
   ],
   "source": [
    "for key, item in parents.items():\n",
    "    z,y,x = key\n",
    "    z,y,x = float(z),float(y),float(x)\n",
    "    if item == -1:\n",
    "        if key == root:\n",
    "            swc.add_point(labels[key], 2, x,y,z, 2.0, item)\n",
    "            continue\n",
    "        else:\n",
    "            continue\n",
    "    swc.add_point(labels[key], 2, x,y,z, 2.0, labels[item])\n",
    "swc.write_file()"
   ]
  },
  {
   "cell_type": "code",
   "execution_count": 13,
   "id": "36c26a31-5e56-4722-b06f-51e2c4a725f3",
   "metadata": {
    "execution": {
     "iopub.execute_input": "2024-05-13T20:25:07.306975Z",
     "iopub.status.busy": "2024-05-13T20:25:07.306888Z",
     "iopub.status.idle": "2024-05-13T20:25:07.310157Z",
     "shell.execute_reply": "2024-05-13T20:25:07.309882Z",
     "shell.execute_reply.started": "2024-05-13T20:25:07.306968Z"
    }
   },
   "outputs": [
    {
     "data": {
      "text/plain": [
       "938"
      ]
     },
     "execution_count": 13,
     "metadata": {},
     "output_type": "execute_result"
    }
   ],
   "source": [
    "len(swc.data)"
   ]
  }
 ],
 "metadata": {
  "kernelspec": {
   "display_name": "Python 3 (ipykernel)",
   "language": "python",
   "name": "python3"
  },
  "language_info": {
   "codemirror_mode": {
    "name": "ipython",
    "version": 3
   },
   "file_extension": ".py",
   "mimetype": "text/x-python",
   "name": "python",
   "nbconvert_exporter": "python",
   "pygments_lexer": "ipython3",
   "version": "3.9.18"
  },
  "toc-autonumbering": false,
  "toc-showcode": false
 },
 "nbformat": 4,
 "nbformat_minor": 5
}
