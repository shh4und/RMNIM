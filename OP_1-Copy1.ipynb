{
 "cells": [
  {
   "cell_type": "markdown",
   "id": "325e93d0-9320-4a98-9080-f1f3b7ff7e4d",
   "metadata": {},
   "source": [
    "# Olfactory Projection Fibers (OP_1)"
   ]
  },
  {
   "cell_type": "code",
   "execution_count": 1,
   "id": "06e6eb59-cfa1-48b1-84fc-78801236fc67",
   "metadata": {
    "editable": true,
    "execution": {
     "iopub.execute_input": "2024-11-05T22:20:06.044070Z",
     "iopub.status.busy": "2024-11-05T22:20:06.041849Z",
     "iopub.status.idle": "2024-11-05T22:20:07.337912Z",
     "shell.execute_reply": "2024-11-05T22:20:07.335790Z",
     "shell.execute_reply.started": "2024-11-05T22:20:06.043976Z"
    },
    "slideshow": {
     "slide_type": ""
    },
    "tags": []
   },
   "outputs": [],
   "source": [
    "from ip.ios import *\n",
    "from ip.enhancement import *\n",
    "from ip.binary import *\n",
    "from ip.graph_nx import *\n",
    "from ip.swc import *\n",
    "from ip.utils import *\n",
    "from skimage.morphology import skeletonize\n",
    "from skimage.util import img_as_ubyte, img_as_float\n",
    "from skimage.filters import frangi, hessian, meijering\n",
    "from scipy import ndimage\n",
    "\n",
    "from ip.svf import sliding_volume_filter\n"
   ]
  },
  {
   "cell_type": "markdown",
   "id": "6d3f26e4-d52c-44a1-a965-3c5e8a5d0a6f",
   "metadata": {},
   "source": [
    "## Read Data"
   ]
  },
  {
   "cell_type": "code",
   "execution_count": 2,
   "id": "cf0d64c0-1994-4053-a26f-a92f38ff4e0d",
   "metadata": {
    "execution": {
     "iopub.execute_input": "2024-11-05T22:20:07.341917Z",
     "iopub.status.busy": "2024-11-05T22:20:07.340435Z",
     "iopub.status.idle": "2024-11-05T22:20:07.348758Z",
     "shell.execute_reply": "2024-11-05T22:20:07.346403Z",
     "shell.execute_reply.started": "2024-11-05T22:20:07.341819Z"
    }
   },
   "outputs": [],
   "source": [
    "folder_path = \"./OlfactoryProjectionFibers/ImageStacks/OP_1\""
   ]
  },
  {
   "cell_type": "code",
   "execution_count": 3,
   "id": "638fb640-1704-4f9f-ac4c-6bbb5a00849d",
   "metadata": {
    "execution": {
     "iopub.execute_input": "2024-11-05T22:20:07.356241Z",
     "iopub.status.busy": "2024-11-05T22:20:07.354932Z",
     "iopub.status.idle": "2024-11-05T22:20:07.401089Z",
     "shell.execute_reply": "2024-11-05T22:20:07.396687Z",
     "shell.execute_reply.started": "2024-11-05T22:20:07.356133Z"
    }
   },
   "outputs": [],
   "source": [
    "images = load_tif_stack(folder_path)"
   ]
  },
  {
   "cell_type": "code",
   "execution_count": 4,
   "id": "1c061927-b04a-46de-8d6d-8831b28d0f3f",
   "metadata": {
    "execution": {
     "iopub.execute_input": "2024-11-05T22:20:07.407757Z",
     "iopub.status.busy": "2024-11-05T22:20:07.403765Z",
     "iopub.status.idle": "2024-11-05T22:20:07.495835Z",
     "shell.execute_reply": "2024-11-05T22:20:07.462974Z",
     "shell.execute_reply.started": "2024-11-05T22:20:07.407619Z"
    }
   },
   "outputs": [],
   "source": [
    "imgFloat = img_as_float(images)"
   ]
  },
  {
   "cell_type": "code",
   "execution_count": 5,
   "id": "b128afbf-b90b-4d71-ad6c-f145747ec9a2",
   "metadata": {
    "execution": {
     "iopub.execute_input": "2024-11-05T22:20:07.507531Z",
     "iopub.status.busy": "2024-11-05T22:20:07.505404Z",
     "iopub.status.idle": "2024-11-05T22:20:07.515766Z",
     "shell.execute_reply": "2024-11-05T22:20:07.513546Z",
     "shell.execute_reply.started": "2024-11-05T22:20:07.507404Z"
    }
   },
   "outputs": [],
   "source": [
    "img_cropped = images[:25, 314:445, :75]"
   ]
  },
  {
   "cell_type": "markdown",
   "id": "f9f90343-f1a4-4201-af28-54988b120c78",
   "metadata": {},
   "source": [
    "## Code"
   ]
  },
  {
   "cell_type": "code",
   "execution_count": 6,
   "id": "1d2d2964-f4a9-476d-ae32-8f89c022b5c6",
   "metadata": {
    "execution": {
     "iopub.execute_input": "2024-11-05T22:20:07.519096Z",
     "iopub.status.busy": "2024-11-05T22:20:07.518279Z",
     "iopub.status.idle": "2024-11-05T22:20:07.526603Z",
     "shell.execute_reply": "2024-11-05T22:20:07.524520Z",
     "shell.execute_reply.started": "2024-11-05T22:20:07.518841Z"
    }
   },
   "outputs": [],
   "source": [
    "#filtered = ndimage.gaussian_laplace(images, sigma=3)\n",
    "#hessianM = img_as_ubyte(hessian(seg2, [0.75], black_ridges = False))"
   ]
  },
  {
   "cell_type": "code",
   "execution_count": 7,
   "id": "9096d142-aeb4-4fa1-810a-d9331ff36f0c",
   "metadata": {
    "execution": {
     "iopub.execute_input": "2024-11-05T22:20:07.531207Z",
     "iopub.status.busy": "2024-11-05T22:20:07.529730Z",
     "iopub.status.idle": "2024-11-05T22:20:08.424155Z",
     "shell.execute_reply": "2024-11-05T22:20:08.411041Z",
     "shell.execute_reply.started": "2024-11-05T22:20:07.530645Z"
    }
   },
   "outputs": [],
   "source": [
    "filtered = ndimage.median_filter(imgFloat, size=3)\n",
    "filtered = img_as_ubyte(filtered)"
   ]
  },
  {
   "cell_type": "code",
   "execution_count": 8,
   "id": "dec76651-1d03-492e-858b-34a1b68fd23b",
   "metadata": {
    "execution": {
     "iopub.execute_input": "2024-11-05T22:20:08.434447Z",
     "iopub.status.busy": "2024-11-05T22:20:08.433726Z",
     "iopub.status.idle": "2024-11-05T22:20:08.487913Z",
     "shell.execute_reply": "2024-11-05T22:20:08.486044Z",
     "shell.execute_reply.started": "2024-11-05T22:20:08.434359Z"
    }
   },
   "outputs": [],
   "source": [
    "threshold2 = mean_threshold(filtered)\n",
    "binary2 = simple_binary(filtered, threshold2)\n",
    "seg2 = segment(images, binary2)\n",
    "# threshold2 = mean_threshold(seg2)\n",
    "# foreground = simple_binary(seg2, mean_threshold(seg2))"
   ]
  },
  {
   "cell_type": "code",
   "execution_count": 9,
   "id": "863e4c97-8559-4d68-a1dd-a1fd1503812e",
   "metadata": {
    "execution": {
     "iopub.execute_input": "2024-11-05T22:20:08.496749Z",
     "iopub.status.busy": "2024-11-05T22:20:08.492609Z",
     "iopub.status.idle": "2024-11-05T22:20:08.931778Z",
     "shell.execute_reply": "2024-11-05T22:20:08.929836Z",
     "shell.execute_reply.started": "2024-11-05T22:20:08.493161Z"
    }
   },
   "outputs": [],
   "source": [
    "er = img_as_ubyte(ndimage.binary_erosion(binary2))\n",
    "skel2 = img_as_ubyte(skeletonize(er))"
   ]
  },
  {
   "cell_type": "markdown",
   "id": "6aca20fc-bb84-4c2f-af79-2d3cb56af7de",
   "metadata": {},
   "source": [
    "### For visualization purposes only"
   ]
  },
  {
   "cell_type": "code",
   "execution_count": 10,
   "id": "8d975033-634f-4576-ba9d-f46ae2e94340",
   "metadata": {
    "execution": {
     "iopub.execute_input": "2024-11-05T22:20:08.935139Z",
     "iopub.status.busy": "2024-11-05T22:20:08.934509Z",
     "iopub.status.idle": "2024-11-05T22:20:08.942383Z",
     "shell.execute_reply": "2024-11-05T22:20:08.939407Z",
     "shell.execute_reply.started": "2024-11-05T22:20:08.935058Z"
    }
   },
   "outputs": [],
   "source": [
    "# simple_imshow([blended(skel2), blended(er)])\n",
    "# slide_imshow(skel2)"
   ]
  },
  {
   "cell_type": "code",
   "execution_count": 11,
   "id": "debbfdb7-47c3-448b-84f2-1911f80fb84b",
   "metadata": {
    "execution": {
     "iopub.execute_input": "2024-11-05T22:20:08.946048Z",
     "iopub.status.busy": "2024-11-05T22:20:08.945231Z",
     "iopub.status.idle": "2024-11-05T22:20:08.953794Z",
     "shell.execute_reply": "2024-11-05T22:20:08.951474Z",
     "shell.execute_reply.started": "2024-11-05T22:20:08.945953Z"
    }
   },
   "outputs": [],
   "source": [
    "#download(hessianM, \"./hessian\")\n",
    "#download(loG, \"./loG3\")"
   ]
  },
  {
   "cell_type": "markdown",
   "id": "d09f1ca3-750d-4179-9a2f-281ab0c20d4e",
   "metadata": {},
   "source": [
    "### Graph generation"
   ]
  },
  {
   "cell_type": "code",
   "execution_count": 12,
   "id": "2cc66763-3823-4733-a2c0-d171347ac9ce",
   "metadata": {
    "execution": {
     "iopub.execute_input": "2024-11-05T22:20:08.963076Z",
     "iopub.status.busy": "2024-11-05T22:20:08.960973Z",
     "iopub.status.idle": "2024-11-05T22:20:09.423782Z",
     "shell.execute_reply": "2024-11-05T22:20:09.422024Z",
     "shell.execute_reply.started": "2024-11-05T22:20:08.962421Z"
    }
   },
   "outputs": [
    {
     "name": "stdout",
     "output_type": "stream",
     "text": [
      ">> Graph created\n",
      "OP_1 GOLD STANDARD ROOT: (30.979, 429.04, 0)\n",
      "TEST ROOT: (3, 427, 33)\n"
     ]
    }
   ],
   "source": [
    "graph = Graph(skel2)\n",
    "graph.set_root((3, 427, 33))\n",
    "graph.create_graph()\n",
    "root = graph.get_root()\n",
    "g_root = (30.979,429.04,0)\n",
    "print(f\"OP_1 GOLD STANDARD ROOT: {g_root}\\nTEST ROOT: {root}\")"
   ]
  },
  {
   "cell_type": "code",
   "execution_count": 13,
   "id": "b10bf5e5-79ae-4efb-8545-9352dbb22c8f",
   "metadata": {
    "execution": {
     "iopub.execute_input": "2024-11-05T22:20:09.427484Z",
     "iopub.status.busy": "2024-11-05T22:20:09.426612Z",
     "iopub.status.idle": "2024-11-05T22:20:09.559207Z",
     "shell.execute_reply": "2024-11-05T22:20:09.556725Z",
     "shell.execute_reply.started": "2024-11-05T22:20:09.427388Z"
    }
   },
   "outputs": [
    {
     "name": "stdout",
     "output_type": "stream",
     "text": [
      ">> Minimum Spanning Tree Generated\n",
      ">> Minimum Spanning Tree length: 1403\n",
      ">> Depth-First search and labeling complete\n"
     ]
    }
   ],
   "source": [
    "mst = graph.apply_dfs_and_label_nodes()"
   ]
  },
  {
   "cell_type": "code",
   "execution_count": 14,
   "id": "59b77209-2bdf-483f-8711-c7afe36a7c1d",
   "metadata": {
    "execution": {
     "iopub.execute_input": "2024-11-05T22:20:09.563049Z",
     "iopub.status.busy": "2024-11-05T22:20:09.562197Z",
     "iopub.status.idle": "2024-11-05T22:20:09.591828Z",
     "shell.execute_reply": "2024-11-05T22:20:09.589980Z",
     "shell.execute_reply.started": "2024-11-05T22:20:09.562932Z"
    }
   },
   "outputs": [
    {
     "name": "stdout",
     "output_type": "stream",
     "text": [
      ">> SWC saved at: ./Test/OP_1test.swc\n"
     ]
    },
    {
     "data": {
      "text/plain": [
       "True"
      ]
     },
     "execution_count": 14,
     "metadata": {},
     "output_type": "execute_result"
    }
   ],
   "source": [
    "graph.save_to_swc(mst,\"./Test/OP_1test.swc\",1.0)"
   ]
  },
  {
   "cell_type": "code",
   "execution_count": null,
   "id": "60c50339-19ba-4625-9c1e-a941a39ff486",
   "metadata": {},
   "outputs": [],
   "source": []
  },
  {
   "cell_type": "code",
   "execution_count": null,
   "id": "f8d26644-84f2-41a6-93ed-0215e0fda00c",
   "metadata": {},
   "outputs": [],
   "source": []
  }
 ],
 "metadata": {
  "kernelspec": {
   "display_name": "Python 3 (ipykernel)",
   "language": "python",
   "name": "python3"
  },
  "language_info": {
   "codemirror_mode": {
    "name": "ipython",
    "version": 3
   },
   "file_extension": ".py",
   "mimetype": "text/x-python",
   "name": "python",
   "nbconvert_exporter": "python",
   "pygments_lexer": "ipython3",
   "version": "3.9.18"
  },
  "toc-autonumbering": false,
  "toc-showcode": false
 },
 "nbformat": 4,
 "nbformat_minor": 5
}
