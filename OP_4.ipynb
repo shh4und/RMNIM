{
 "cells": [
  {
   "cell_type": "markdown",
   "id": "325e93d0-9320-4a98-9080-f1f3b7ff7e4d",
   "metadata": {},
   "source": [
    "# Olfactory Projection Fibers (OP_4)"
   ]
  },
  {
   "cell_type": "code",
   "execution_count": 1,
   "id": "06e6eb59-cfa1-48b1-84fc-78801236fc67",
   "metadata": {
    "editable": true,
    "execution": {
     "iopub.execute_input": "2024-06-05T20:17:41.150258Z",
     "iopub.status.busy": "2024-06-05T20:17:41.148776Z",
     "iopub.status.idle": "2024-06-05T20:17:41.829125Z",
     "shell.execute_reply": "2024-06-05T20:17:41.827477Z",
     "shell.execute_reply.started": "2024-06-05T20:17:41.150161Z"
    },
    "slideshow": {
     "slide_type": ""
    },
    "tags": []
   },
   "outputs": [],
   "source": [
    "from ip.ios import *\n",
    "from ip.enhancement import *\n",
    "from ip.binary import *\n",
    "from ip.graph_nx import *\n",
    "from ip.swc import *\n",
    "from ip.split import *\n",
    "from skimage.morphology import skeletonize"
   ]
  },
  {
   "cell_type": "markdown",
   "id": "6d3f26e4-d52c-44a1-a965-3c5e8a5d0a6f",
   "metadata": {},
   "source": [
    "## Read Data"
   ]
  },
  {
   "cell_type": "code",
   "execution_count": 2,
   "id": "cf0d64c0-1994-4053-a26f-a92f38ff4e0d",
   "metadata": {
    "execution": {
     "iopub.execute_input": "2024-06-05T20:17:41.833510Z",
     "iopub.status.busy": "2024-06-05T20:17:41.831959Z",
     "iopub.status.idle": "2024-06-05T20:17:41.840631Z",
     "shell.execute_reply": "2024-06-05T20:17:41.838333Z",
     "shell.execute_reply.started": "2024-06-05T20:17:41.833397Z"
    }
   },
   "outputs": [],
   "source": [
    "folder_path = \"./OlfactoryProjectionFibers/ImageStacks/OP_4\""
   ]
  },
  {
   "cell_type": "code",
   "execution_count": 3,
   "id": "638fb640-1704-4f9f-ac4c-6bbb5a00849d",
   "metadata": {
    "execution": {
     "iopub.execute_input": "2024-06-05T20:17:41.846971Z",
     "iopub.status.busy": "2024-06-05T20:17:41.846247Z",
     "iopub.status.idle": "2024-06-05T20:17:41.894249Z",
     "shell.execute_reply": "2024-06-05T20:17:41.892103Z",
     "shell.execute_reply.started": "2024-06-05T20:17:41.846874Z"
    }
   },
   "outputs": [],
   "source": [
    "images = load_image_stack(folder_path)"
   ]
  },
  {
   "cell_type": "markdown",
   "id": "f9f90343-f1a4-4201-af28-54988b120c78",
   "metadata": {},
   "source": [
    "## Code Process and Execution"
   ]
  },
  {
   "cell_type": "code",
   "execution_count": 5,
   "id": "3c3a7210-5ea7-4ac3-a5d2-a43a8ab97746",
   "metadata": {
    "execution": {
     "iopub.execute_input": "2024-06-05T20:17:41.926025Z",
     "iopub.status.busy": "2024-06-05T20:17:41.922274Z",
     "iopub.status.idle": "2024-06-05T20:17:42.215361Z",
     "shell.execute_reply": "2024-06-05T20:17:42.213260Z",
     "shell.execute_reply.started": "2024-06-05T20:17:41.925820Z"
    }
   },
   "outputs": [],
   "source": [
    "threshold1 = mean_threshold(images, 10)\n",
    "binary1 = simple_binary(images, threshold1)\n",
    "seg = segment(images, binary1)\n",
    "denoising = median_blur(seg, 5)\n",
    "threshold2 = mean_threshold(denoising, 10)\n",
    "binary2 = simple_binary(denoising, threshold2)"
   ]
  },
  {
   "cell_type": "code",
   "execution_count": 6,
   "id": "c782d507-4558-42e9-a6d7-14c97ea1dcbc",
   "metadata": {
    "execution": {
     "iopub.execute_input": "2024-06-05T20:17:42.219052Z",
     "iopub.status.busy": "2024-06-05T20:17:42.218217Z",
     "iopub.status.idle": "2024-06-05T20:17:42.634719Z",
     "shell.execute_reply": "2024-06-05T20:17:42.632747Z",
     "shell.execute_reply.started": "2024-06-05T20:17:42.218948Z"
    }
   },
   "outputs": [],
   "source": [
    "skel = skeletonize(binary2)"
   ]
  },
  {
   "cell_type": "code",
   "execution_count": 7,
   "id": "431b4459-fdc1-46c0-bfac-f340a58e691f",
   "metadata": {
    "execution": {
     "iopub.execute_input": "2024-06-05T20:17:42.648659Z",
     "iopub.status.busy": "2024-06-05T20:17:42.644254Z",
     "iopub.status.idle": "2024-06-05T20:17:42.658924Z",
     "shell.execute_reply": "2024-06-05T20:17:42.656922Z",
     "shell.execute_reply.started": "2024-06-05T20:17:42.648511Z"
    }
   },
   "outputs": [],
   "source": [
    "#cv2_imshow(skel[:4])"
   ]
  },
  {
   "cell_type": "markdown",
   "id": "6aca20fc-bb84-4c2f-af79-2d3cb56af7de",
   "metadata": {},
   "source": [
    "### For visualization purposes only"
   ]
  },
  {
   "cell_type": "markdown",
   "id": "d09f1ca3-750d-4179-9a2f-281ab0c20d4e",
   "metadata": {},
   "source": [
    "### Graph generation"
   ]
  },
  {
   "cell_type": "code",
   "execution_count": 8,
   "id": "2cc66763-3823-4733-a2c0-d171347ac9ce",
   "metadata": {
    "execution": {
     "iopub.execute_input": "2024-06-05T20:17:42.668385Z",
     "iopub.status.busy": "2024-06-05T20:17:42.664629Z",
     "iopub.status.idle": "2024-06-05T20:17:46.047874Z",
     "shell.execute_reply": "2024-06-05T20:17:46.045421Z",
     "shell.execute_reply.started": "2024-06-05T20:17:42.668242Z"
    }
   },
   "outputs": [
    {
     "name": "stdout",
     "output_type": "stream",
     "text": [
      "Number of empty images: 33\n",
      "Number of empty rows: 16497\n"
     ]
    }
   ],
   "source": [
    "graph = Graph(skel)\n",
    "graph.set_root((3, 502, 127))\n",
    "graph.create_graph()\n",
    "#OP_4 (X,Y,Z): (128.2,504.37,0.3)"
   ]
  },
  {
   "cell_type": "code",
   "execution_count": 9,
   "id": "6b324488-d9db-420f-b442-28582223ff1e",
   "metadata": {
    "execution": {
     "iopub.execute_input": "2024-06-05T20:17:46.051660Z",
     "iopub.status.busy": "2024-06-05T20:17:46.050442Z",
     "iopub.status.idle": "2024-06-05T20:17:46.059676Z",
     "shell.execute_reply": "2024-06-05T20:17:46.057742Z",
     "shell.execute_reply.started": "2024-06-05T20:17:46.051551Z"
    }
   },
   "outputs": [
    {
     "name": "stdout",
     "output_type": "stream",
     "text": [
      "OP_4 GOLD STANDARD ROOT: (128.2, 504.37, 0.3)\n",
      "TEST ROOT: (3, 502, 127)\n"
     ]
    }
   ],
   "source": [
    "root = graph.get_root()\n",
    "g_root = (128.2,504.37,0.3)\n",
    "print(f\"OP_4 GOLD STANDARD ROOT: {g_root}\\nTEST ROOT: {root}\")"
   ]
  },
  {
   "cell_type": "code",
   "execution_count": 10,
   "id": "b10bf5e5-79ae-4efb-8545-9352dbb22c8f",
   "metadata": {
    "execution": {
     "iopub.execute_input": "2024-06-05T20:17:46.063833Z",
     "iopub.status.busy": "2024-06-05T20:17:46.062438Z",
     "iopub.status.idle": "2024-06-05T20:17:46.269363Z",
     "shell.execute_reply": "2024-06-05T20:17:46.267037Z",
     "shell.execute_reply.started": "2024-06-05T20:17:46.063706Z"
    }
   },
   "outputs": [
    {
     "name": "stdout",
     "output_type": "stream",
     "text": [
      "Minimum Spanning Tree Generated.\n",
      "Dijkstra has found the shortest weighted paths and lengths from the root node.\n"
     ]
    }
   ],
   "source": [
    "distances, paths = graph.apply_dijkstra_and_label_nodes()"
   ]
  },
  {
   "cell_type": "code",
   "execution_count": 11,
   "id": "09f7b595-e44a-4251-9abb-96f903322bf0",
   "metadata": {
    "execution": {
     "iopub.execute_input": "2024-06-05T20:17:46.273159Z",
     "iopub.status.busy": "2024-06-05T20:17:46.272054Z",
     "iopub.status.idle": "2024-06-05T20:17:46.283176Z",
     "shell.execute_reply": "2024-06-05T20:17:46.280868Z",
     "shell.execute_reply.started": "2024-06-05T20:17:46.272988Z"
    }
   },
   "outputs": [
    {
     "name": "stdout",
     "output_type": "stream",
     "text": [
      "1224 1224\n"
     ]
    }
   ],
   "source": [
    "print(len(distances), len(paths))"
   ]
  },
  {
   "cell_type": "code",
   "execution_count": 12,
   "id": "59b77209-2bdf-483f-8711-c7afe36a7c1d",
   "metadata": {
    "execution": {
     "iopub.execute_input": "2024-06-05T20:17:46.289857Z",
     "iopub.status.busy": "2024-06-05T20:17:46.288991Z",
     "iopub.status.idle": "2024-06-05T20:17:46.309585Z",
     "shell.execute_reply": "2024-06-05T20:17:46.307355Z",
     "shell.execute_reply.started": "2024-06-05T20:17:46.289760Z"
    }
   },
   "outputs": [
    {
     "name": "stdout",
     "output_type": "stream",
     "text": [
      "SWC saved at: ./Test/OP_4.swc\n",
      "SWC generated: True\n"
     ]
    }
   ],
   "source": [
    "print(\"SWC generated:\",graph.save_to_swc(\"./Test/OP_4.swc\"))\n"
   ]
  }
 ],
 "metadata": {
  "kernelspec": {
   "display_name": "Python 3 (ipykernel)",
   "language": "python",
   "name": "python3"
  },
  "language_info": {
   "codemirror_mode": {
    "name": "ipython",
    "version": 3
   },
   "file_extension": ".py",
   "mimetype": "text/x-python",
   "name": "python",
   "nbconvert_exporter": "python",
   "pygments_lexer": "ipython3",
   "version": "3.9.18"
  },
  "toc-autonumbering": false,
  "toc-showcode": false
 },
 "nbformat": 4,
 "nbformat_minor": 5
}
