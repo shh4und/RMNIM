{
 "cells": [
  {
   "cell_type": "markdown",
   "id": "325e93d0-9320-4a98-9080-f1f3b7ff7e4d",
   "metadata": {},
   "source": [
    "# Olfactory Projection Fibers (OP_8)"
   ]
  },
  {
   "cell_type": "code",
   "execution_count": 1,
   "id": "06e6eb59-cfa1-48b1-84fc-78801236fc67",
   "metadata": {
    "editable": true,
    "execution": {
     "iopub.execute_input": "2024-06-11T21:10:50.562997Z",
     "iopub.status.busy": "2024-06-11T21:10:50.561385Z",
     "iopub.status.idle": "2024-06-11T21:10:51.258193Z",
     "shell.execute_reply": "2024-06-11T21:10:51.255979Z",
     "shell.execute_reply.started": "2024-06-11T21:10:50.562920Z"
    },
    "slideshow": {
     "slide_type": ""
    },
    "tags": []
   },
   "outputs": [],
   "source": [
    "from ip.ios import *\n",
    "from ip.enhancement import *\n",
    "from ip.binary import *\n",
    "from ip.graph_nx import *\n",
    "from ip.swc import *\n",
    "from ip.split import *\n",
    "from skimage.morphology import skeletonize\n",
    "from scipy import ndimage"
   ]
  },
  {
   "cell_type": "markdown",
   "id": "6d3f26e4-d52c-44a1-a965-3c5e8a5d0a6f",
   "metadata": {},
   "source": [
    "## Read Data"
   ]
  },
  {
   "cell_type": "code",
   "execution_count": 2,
   "id": "cf0d64c0-1994-4053-a26f-a92f38ff4e0d",
   "metadata": {
    "execution": {
     "iopub.execute_input": "2024-06-11T21:10:51.262220Z",
     "iopub.status.busy": "2024-06-11T21:10:51.260719Z",
     "iopub.status.idle": "2024-06-11T21:10:51.268927Z",
     "shell.execute_reply": "2024-06-11T21:10:51.266672Z",
     "shell.execute_reply.started": "2024-06-11T21:10:51.262109Z"
    }
   },
   "outputs": [],
   "source": [
    "folder_path = \"./OlfactoryProjectionFibers/ImageStacks/OP_8\""
   ]
  },
  {
   "cell_type": "code",
   "execution_count": 3,
   "id": "638fb640-1704-4f9f-ac4c-6bbb5a00849d",
   "metadata": {
    "execution": {
     "iopub.execute_input": "2024-06-11T21:10:51.275838Z",
     "iopub.status.busy": "2024-06-11T21:10:51.274666Z",
     "iopub.status.idle": "2024-06-11T21:10:51.330496Z",
     "shell.execute_reply": "2024-06-11T21:10:51.328671Z",
     "shell.execute_reply.started": "2024-06-11T21:10:51.275264Z"
    }
   },
   "outputs": [],
   "source": [
    "images = load_image_stack(folder_path)"
   ]
  },
  {
   "cell_type": "markdown",
   "id": "f9f90343-f1a4-4201-af28-54988b120c78",
   "metadata": {},
   "source": [
    "## Code Process and Execution"
   ]
  },
  {
   "cell_type": "code",
   "execution_count": null,
   "id": "ae5f14df-61ee-46f5-af03-13293d7a871f",
   "metadata": {},
   "outputs": [],
   "source": []
  },
  {
   "cell_type": "code",
   "execution_count": 4,
   "id": "3c3a7210-5ea7-4ac3-a5d2-a43a8ab97746",
   "metadata": {
    "execution": {
     "iopub.execute_input": "2024-06-11T21:10:51.336145Z",
     "iopub.status.busy": "2024-06-11T21:10:51.335369Z",
     "iopub.status.idle": "2024-06-11T21:10:51.667695Z",
     "shell.execute_reply": "2024-06-11T21:10:51.665727Z",
     "shell.execute_reply.started": "2024-06-11T21:10:51.336019Z"
    }
   },
   "outputs": [],
   "source": [
    "threshold1 = mean_threshold(images, 15)\n",
    "binary1 = simple_binary(images, threshold1)\n",
    "seg = segment(images, binary1)\n",
    "denoising = median_blur(seg, 5)\n",
    "threshold2 = mean_threshold(denoising, 15)\n",
    "binary2 = simple_binary(denoising, threshold2)"
   ]
  },
  {
   "cell_type": "code",
   "execution_count": 5,
   "id": "c58cf483-06d4-493c-beea-c6993cfb76b9",
   "metadata": {
    "execution": {
     "iopub.execute_input": "2024-06-11T21:10:51.671640Z",
     "iopub.status.busy": "2024-06-11T21:10:51.670452Z",
     "iopub.status.idle": "2024-06-11T21:10:51.702850Z",
     "shell.execute_reply": "2024-06-11T21:10:51.698338Z",
     "shell.execute_reply.started": "2024-06-11T21:10:51.671547Z"
    }
   },
   "outputs": [
    {
     "data": {
      "text/plain": [
       "array([[[1, 1, 1],\n",
       "        [1, 1, 1],\n",
       "        [1, 1, 1]],\n",
       "\n",
       "       [[1, 1, 1],\n",
       "        [1, 1, 1],\n",
       "        [1, 1, 1]],\n",
       "\n",
       "       [[1, 1, 1],\n",
       "        [1, 1, 1],\n",
       "        [1, 1, 1]]])"
      ]
     },
     "execution_count": 5,
     "metadata": {},
     "output_type": "execute_result"
    }
   ],
   "source": [
    "strel = np.ones((3,3,3), dtype=int)\n",
    "\n",
    "strel"
   ]
  },
  {
   "cell_type": "code",
   "execution_count": 15,
   "id": "def2b5a7-b14c-4e24-adc0-2ed9e6e884c1",
   "metadata": {
    "execution": {
     "iopub.execute_input": "2024-06-11T21:11:17.124791Z",
     "iopub.status.busy": "2024-06-11T21:11:17.123703Z",
     "iopub.status.idle": "2024-06-11T21:11:17.232836Z",
     "shell.execute_reply": "2024-06-11T21:11:17.230553Z",
     "shell.execute_reply.started": "2024-06-11T21:11:17.124407Z"
    }
   },
   "outputs": [
    {
     "data": {
      "text/plain": [
       "dtype('uint8')"
      ]
     },
     "execution_count": 15,
     "metadata": {},
     "output_type": "execute_result"
    }
   ],
   "source": [
    "eroded = ndimage.binary_erosion(binary2, strel).astype(binary2.dtype)"
   ]
  },
  {
   "cell_type": "code",
   "execution_count": 7,
   "id": "c782d507-4558-42e9-a6d7-14c97ea1dcbc",
   "metadata": {
    "execution": {
     "iopub.execute_input": "2024-06-11T21:10:51.825880Z",
     "iopub.status.busy": "2024-06-11T21:10:51.825122Z",
     "iopub.status.idle": "2024-06-11T21:10:52.236833Z",
     "shell.execute_reply": "2024-06-11T21:10:52.234848Z",
     "shell.execute_reply.started": "2024-06-11T21:10:51.825796Z"
    }
   },
   "outputs": [],
   "source": [
    "skel = skeletonize(eroded)"
   ]
  },
  {
   "cell_type": "code",
   "execution_count": 8,
   "id": "2e255ed7-293b-4d5d-a3e1-922273bed16e",
   "metadata": {
    "execution": {
     "iopub.execute_input": "2024-06-11T21:10:52.240982Z",
     "iopub.status.busy": "2024-06-11T21:10:52.239557Z",
     "iopub.status.idle": "2024-06-11T21:11:06.610898Z",
     "shell.execute_reply": "2024-06-11T21:11:06.605201Z",
     "shell.execute_reply.started": "2024-06-11T21:10:52.240246Z"
    }
   },
   "outputs": [
    {
     "name": "stderr",
     "output_type": "stream",
     "text": [
      "qt.qpa.plugin: Could not find the Qt platform plugin \"wayland\" in \"\"\n"
     ]
    },
    {
     "data": {
      "text/plain": [
       "True"
      ]
     },
     "execution_count": 8,
     "metadata": {},
     "output_type": "execute_result"
    }
   ],
   "source": [
    "# cv2_imshow(gaussian_imgs[25:35])\n",
    "# cv2_imshow(gaussian_imgs[55:60])\n",
    "\n",
    "cv2_imshow([blended(skel), blended(eroded)])"
   ]
  },
  {
   "cell_type": "markdown",
   "id": "6aca20fc-bb84-4c2f-af79-2d3cb56af7de",
   "metadata": {},
   "source": [
    "### For visualization purposes only"
   ]
  },
  {
   "cell_type": "code",
   "execution_count": 9,
   "id": "e7970848-8297-431d-be49-060cc959428f",
   "metadata": {
    "execution": {
     "iopub.execute_input": "2024-06-11T21:11:06.618412Z",
     "iopub.status.busy": "2024-06-11T21:11:06.616960Z",
     "iopub.status.idle": "2024-06-11T21:11:06.631934Z",
     "shell.execute_reply": "2024-06-11T21:11:06.626944Z",
     "shell.execute_reply.started": "2024-06-11T21:11:06.618257Z"
    }
   },
   "outputs": [],
   "source": [
    "# blend = blended(skel)\n",
    "# single_download(blend,\"./Test/Images/OP_8_skel.png\")\n",
    "# cv2_imshow([blend, *skel[56:58]])"
   ]
  },
  {
   "cell_type": "markdown",
   "id": "d09f1ca3-750d-4179-9a2f-281ab0c20d4e",
   "metadata": {},
   "source": [
    "### Graph generation"
   ]
  },
  {
   "cell_type": "code",
   "execution_count": 10,
   "id": "2cc66763-3823-4733-a2c0-d171347ac9ce",
   "metadata": {
    "execution": {
     "iopub.execute_input": "2024-06-11T21:11:06.638345Z",
     "iopub.status.busy": "2024-06-11T21:11:06.637552Z",
     "iopub.status.idle": "2024-06-11T21:11:06.650239Z",
     "shell.execute_reply": "2024-06-11T21:11:06.645831Z",
     "shell.execute_reply.started": "2024-06-11T21:11:06.638254Z"
    }
   },
   "outputs": [],
   "source": [
    "# graph = Graph(skel)\n",
    "# graph.set_root((57, 181, 118))\n",
    "# graph.create_graph()\n",
    "# #OP_8 (X,Y,Z): (118.64,181.34,55)"
   ]
  },
  {
   "cell_type": "code",
   "execution_count": 11,
   "id": "6b324488-d9db-420f-b442-28582223ff1e",
   "metadata": {
    "execution": {
     "iopub.execute_input": "2024-06-11T21:11:06.656391Z",
     "iopub.status.busy": "2024-06-11T21:11:06.653061Z",
     "iopub.status.idle": "2024-06-11T21:11:06.667539Z",
     "shell.execute_reply": "2024-06-11T21:11:06.663114Z",
     "shell.execute_reply.started": "2024-06-11T21:11:06.656264Z"
    }
   },
   "outputs": [],
   "source": [
    "# root = graph.get_root()\n",
    "# print(root)"
   ]
  },
  {
   "cell_type": "code",
   "execution_count": 12,
   "id": "b10bf5e5-79ae-4efb-8545-9352dbb22c8f",
   "metadata": {
    "execution": {
     "iopub.execute_input": "2024-06-11T21:11:06.687932Z",
     "iopub.status.busy": "2024-06-11T21:11:06.684253Z",
     "iopub.status.idle": "2024-06-11T21:11:06.703501Z",
     "shell.execute_reply": "2024-06-11T21:11:06.701335Z",
     "shell.execute_reply.started": "2024-06-11T21:11:06.687336Z"
    }
   },
   "outputs": [],
   "source": [
    "#distances, paths = graph.apply_dijkstra_and_label_nodes()"
   ]
  },
  {
   "cell_type": "code",
   "execution_count": 13,
   "id": "09f7b595-e44a-4251-9abb-96f903322bf0",
   "metadata": {
    "execution": {
     "iopub.execute_input": "2024-06-11T21:11:06.725707Z",
     "iopub.status.busy": "2024-06-11T21:11:06.709292Z",
     "iopub.status.idle": "2024-06-11T21:11:06.733975Z",
     "shell.execute_reply": "2024-06-11T21:11:06.731409Z",
     "shell.execute_reply.started": "2024-06-11T21:11:06.725537Z"
    }
   },
   "outputs": [],
   "source": [
    "#print(len(distances), len(paths))"
   ]
  },
  {
   "cell_type": "code",
   "execution_count": 14,
   "id": "59b77209-2bdf-483f-8711-c7afe36a7c1d",
   "metadata": {
    "execution": {
     "iopub.execute_input": "2024-06-11T21:11:06.737488Z",
     "iopub.status.busy": "2024-06-11T21:11:06.736697Z",
     "iopub.status.idle": "2024-06-11T21:11:06.745888Z",
     "shell.execute_reply": "2024-06-11T21:11:06.743363Z",
     "shell.execute_reply.started": "2024-06-11T21:11:06.737363Z"
    }
   },
   "outputs": [],
   "source": [
    "#graph.save_to_swc(\"./Test/OP_8.swc\")"
   ]
  }
 ],
 "metadata": {
  "kernelspec": {
   "display_name": "Python 3 (ipykernel)",
   "language": "python",
   "name": "python3"
  },
  "language_info": {
   "codemirror_mode": {
    "name": "ipython",
    "version": 3
   },
   "file_extension": ".py",
   "mimetype": "text/x-python",
   "name": "python",
   "nbconvert_exporter": "python",
   "pygments_lexer": "ipython3",
   "version": "3.9.18"
  },
  "toc-autonumbering": false,
  "toc-showcode": false
 },
 "nbformat": 4,
 "nbformat_minor": 5
}
