{
 "cells": [
  {
   "cell_type": "code",
   "execution_count": 1,
   "id": "2cf9c3ad-018b-444c-ad91-fdbd9fb682c1",
   "metadata": {
    "execution": {
     "iopub.execute_input": "2024-11-07T20:09:47.706730Z",
     "iopub.status.busy": "2024-11-07T20:09:47.702155Z",
     "iopub.status.idle": "2024-11-07T20:09:48.237897Z",
     "shell.execute_reply": "2024-11-07T20:09:48.235668Z",
     "shell.execute_reply.started": "2024-11-07T20:09:47.706610Z"
    }
   },
   "outputs": [],
   "source": [
    "import pandas as pd\n",
    "import numpy as np"
   ]
  },
  {
   "cell_type": "code",
   "execution_count": 2,
   "id": "b492b3b4-3e1e-42ec-97d0-6bd42bbad775",
   "metadata": {
    "execution": {
     "iopub.execute_input": "2024-11-07T20:09:48.241763Z",
     "iopub.status.busy": "2024-11-07T20:09:48.240443Z",
     "iopub.status.idle": "2024-11-07T20:09:48.264072Z",
     "shell.execute_reply": "2024-11-07T20:09:48.262038Z",
     "shell.execute_reply.started": "2024-11-07T20:09:48.241668Z"
    }
   },
   "outputs": [],
   "source": [
    "# Define the column names\n",
    "column_names = ['id', 'type', 'x', 'y', 'z', 'radius', 'parent_id']\n",
    "# Read the file into a pandas DataFrame, skipping the first line\n",
    "df1 = pd.read_csv('OP_3-Copy1.swc', sep='\\s+', skiprows=1, names=column_names)\n",
    "# Read the file into a pandas DataFrame, skipping the first line\n",
    "df2 = pd.read_csv('OP_2test.swc', sep='\\s+', skiprows=1, names=column_names)"
   ]
  },
  {
   "cell_type": "code",
   "execution_count": 3,
   "id": "ffa413e5-519e-4da7-bbac-7d89fa8312f4",
   "metadata": {
    "execution": {
     "iopub.execute_input": "2024-11-07T20:09:48.269867Z",
     "iopub.status.busy": "2024-11-07T20:09:48.268820Z",
     "iopub.status.idle": "2024-11-07T20:09:48.277127Z",
     "shell.execute_reply": "2024-11-07T20:09:48.274819Z",
     "shell.execute_reply.started": "2024-11-07T20:09:48.269721Z"
    }
   },
   "outputs": [],
   "source": [
    "# Display the DataFrame\n",
    "#display(df1)"
   ]
  },
  {
   "cell_type": "code",
   "execution_count": 4,
   "id": "6acfb57c-398b-425c-ad45-bbdad70b4b78",
   "metadata": {
    "execution": {
     "iopub.execute_input": "2024-11-07T20:09:48.280692Z",
     "iopub.status.busy": "2024-11-07T20:09:48.279769Z",
     "iopub.status.idle": "2024-11-07T20:09:48.287480Z",
     "shell.execute_reply": "2024-11-07T20:09:48.285339Z",
     "shell.execute_reply.started": "2024-11-07T20:09:48.280571Z"
    }
   },
   "outputs": [],
   "source": [
    "# Display the DataFrame\n",
    "#display(df2)"
   ]
  },
  {
   "cell_type": "markdown",
   "id": "ebf48eef-de4a-443c-8cca-514e7ac6aa11",
   "metadata": {},
   "source": [
    "# DF"
   ]
  },
  {
   "cell_type": "code",
   "execution_count": 5,
   "id": "2af83a43-be62-4e5e-a7ff-013c26fae66e",
   "metadata": {
    "execution": {
     "iopub.execute_input": "2024-11-07T20:09:48.290919Z",
     "iopub.status.busy": "2024-11-07T20:09:48.290210Z",
     "iopub.status.idle": "2024-11-07T20:09:48.306396Z",
     "shell.execute_reply": "2024-11-07T20:09:48.304065Z",
     "shell.execute_reply.started": "2024-11-07T20:09:48.290827Z"
    }
   },
   "outputs": [],
   "source": [
    "def moving_avg_w_euclidean_thresh(sorted_df, window_sz, thresh, typ=1):\n",
    "    \n",
    "    # Calculate the moving average for each axis\n",
    "    sorted_df['x_moving_avg'] = sorted_df['x'].rolling(window=window_sz).mean()\n",
    "    sorted_df['y_moving_avg'] = sorted_df['y'].rolling(window=window_sz).mean()\n",
    "    sorted_df['z_moving_avg'] = sorted_df['z'].rolling(window=window_sz).mean()\n",
    "    \n",
    "    # Calculate the Euclidean distance between the original 'x', 'y', 'z' values and their moving averages\n",
    "    sorted_df['moving_avg_distance'] = np.sqrt(\n",
    "        (sorted_df['x'] - sorted_df['x_moving_avg'])**2 +\n",
    "        (sorted_df['y'] - sorted_df['y_moving_avg'])**2 +\n",
    "        (sorted_df['z'] - sorted_df['z_moving_avg'])**2\n",
    "    )\n",
    "    \n",
    "    # Replace the 'x', 'y', and 'z' values with their respective moving averages if the distance is below the thresh\n",
    "    sorted_df['x'] = np.where(sorted_df['moving_avg_distance'] < thresh, sorted_df['x_moving_avg'], sorted_df['x'])\n",
    "    sorted_df['y'] = np.where(sorted_df['moving_avg_distance'] < thresh, sorted_df['y_moving_avg'], sorted_df['y'])\n",
    "    sorted_df['z'] = np.where(sorted_df['moving_avg_distance'] < thresh, sorted_df['z_moving_avg'], sorted_df['z'])\n",
    "    sorted_df['type'] = typ\n",
    "    \n",
    "    # Drop the moving average and distance columns\n",
    "    sorted_df.drop(columns=['x_moving_avg', 'y_moving_avg', 'z_moving_avg', 'moving_avg_distance'], inplace=True)\n",
    "\n",
    "    return sorted_df"
   ]
  },
  {
   "cell_type": "markdown",
   "id": "2fd9bcc3-1780-4864-9636-af0d0d079d21",
   "metadata": {},
   "source": [
    "bons parametros de suavização para o OP_1test.swc (moving_avg=False) 0.538 -> 0.841\n",
    "\n",
    "new_df = moving_avg_w_euclidean_thresh(sorted_df, 3, 4)\n"
   ]
  },
  {
   "cell_type": "code",
   "execution_count": 6,
   "id": "683e5b80-b747-4a0e-a4d4-5e109ada4c51",
   "metadata": {
    "execution": {
     "iopub.execute_input": "2024-11-07T20:09:48.310054Z",
     "iopub.status.busy": "2024-11-07T20:09:48.309335Z",
     "iopub.status.idle": "2024-11-07T20:09:48.337575Z",
     "shell.execute_reply": "2024-11-07T20:09:48.335368Z",
     "shell.execute_reply.started": "2024-11-07T20:09:48.309963Z"
    }
   },
   "outputs": [],
   "source": [
    "# Sort the DataFrame by 'parent_id'\n",
    "sorted_df = df1.sort_values(by='id')\n",
    "new_df = moving_avg_w_euclidean_thresh(sorted_df, 2, 5, 4)\n",
    "#display(new_df)\n"
   ]
  },
  {
   "cell_type": "code",
   "execution_count": 7,
   "id": "512898cb-29b9-49a5-bf72-2cd274987519",
   "metadata": {
    "execution": {
     "iopub.execute_input": "2024-11-07T20:09:48.341691Z",
     "iopub.status.busy": "2024-11-07T20:09:48.340474Z",
     "iopub.status.idle": "2024-11-07T20:09:48.360105Z",
     "shell.execute_reply": "2024-11-07T20:09:48.357898Z",
     "shell.execute_reply.started": "2024-11-07T20:09:48.341264Z"
    }
   },
   "outputs": [],
   "source": [
    "#new_df2 = moving_avg_w_euclidean_thresh(new_df, 3, 2.5, 3)\n",
    "#display(new_df2)\n",
    "# Save the modified DataFrame to a new file without the header\n",
    "new_df.to_csv('OP_3_modified.swc', sep=' ', index=False, header=False)"
   ]
  }
 ],
 "metadata": {
  "kernelspec": {
   "display_name": "Python 3 (ipykernel)",
   "language": "python",
   "name": "python3"
  },
  "language_info": {
   "codemirror_mode": {
    "name": "ipython",
    "version": 3
   },
   "file_extension": ".py",
   "mimetype": "text/x-python",
   "name": "python",
   "nbconvert_exporter": "python",
   "pygments_lexer": "ipython3",
   "version": "3.9.18"
  }
 },
 "nbformat": 4,
 "nbformat_minor": 5
}
