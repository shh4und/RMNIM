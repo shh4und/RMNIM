{
 "cells": [
  {
   "cell_type": "code",
   "execution_count": 1,
   "id": "2cf9c3ad-018b-444c-ad91-fdbd9fb682c1",
   "metadata": {
    "execution": {
     "iopub.execute_input": "2024-11-14T00:26:57.406471Z",
     "iopub.status.busy": "2024-11-14T00:26:57.406024Z",
     "iopub.status.idle": "2024-11-14T00:26:57.749543Z",
     "shell.execute_reply": "2024-11-14T00:26:57.748965Z",
     "shell.execute_reply.started": "2024-11-14T00:26:57.406412Z"
    }
   },
   "outputs": [],
   "source": [
    "import pandas as pd\n",
    "import numpy as np"
   ]
  },
  {
   "cell_type": "code",
   "execution_count": 2,
   "id": "b492b3b4-3e1e-42ec-97d0-6bd42bbad775",
   "metadata": {
    "execution": {
     "iopub.execute_input": "2024-11-14T00:26:57.750312Z",
     "iopub.status.busy": "2024-11-14T00:26:57.750102Z",
     "iopub.status.idle": "2024-11-14T00:26:57.760309Z",
     "shell.execute_reply": "2024-11-14T00:26:57.759657Z",
     "shell.execute_reply.started": "2024-11-14T00:26:57.750295Z"
    }
   },
   "outputs": [],
   "source": [
    "# Define the column names\n",
    "column_names = ['id', 'type', 'x', 'y', 'z', 'radius', 'parent_id']\n",
    "# Read the file into a pandas DataFrame, skipping the first line\n",
    "df1 = pd.read_csv('OP_2test.swc', sep=' ', skiprows=1, names=column_names)\n",
    "# Read the file into a pandas DataFrame, skipping the first line\n",
    "df2 = pd.read_csv('OP_3.swc', sep=' ', skiprows=1, names=column_names)"
   ]
  },
  {
   "cell_type": "code",
   "execution_count": 3,
   "id": "ffa413e5-519e-4da7-bbac-7d89fa8312f4",
   "metadata": {
    "execution": {
     "iopub.execute_input": "2024-11-14T00:26:57.761777Z",
     "iopub.status.busy": "2024-11-14T00:26:57.761323Z",
     "iopub.status.idle": "2024-11-14T00:26:57.773365Z",
     "shell.execute_reply": "2024-11-14T00:26:57.772759Z",
     "shell.execute_reply.started": "2024-11-14T00:26:57.761751Z"
    }
   },
   "outputs": [],
   "source": [
    "# Display the DataFrame\n",
    "#display(df1)"
   ]
  },
  {
   "cell_type": "code",
   "execution_count": 4,
   "id": "6acfb57c-398b-425c-ad45-bbdad70b4b78",
   "metadata": {
    "execution": {
     "iopub.execute_input": "2024-11-14T00:26:57.774981Z",
     "iopub.status.busy": "2024-11-14T00:26:57.774329Z",
     "iopub.status.idle": "2024-11-14T00:26:57.785519Z",
     "shell.execute_reply": "2024-11-14T00:26:57.785012Z",
     "shell.execute_reply.started": "2024-11-14T00:26:57.774953Z"
    }
   },
   "outputs": [],
   "source": [
    "# Display the DataFrame\n",
    "#display(df2)"
   ]
  },
  {
   "cell_type": "markdown",
   "id": "ebf48eef-de4a-443c-8cca-514e7ac6aa11",
   "metadata": {},
   "source": [
    "# DF"
   ]
  },
  {
   "cell_type": "code",
   "execution_count": 5,
   "id": "2af83a43-be62-4e5e-a7ff-013c26fae66e",
   "metadata": {
    "execution": {
     "iopub.execute_input": "2024-11-14T00:26:57.786230Z",
     "iopub.status.busy": "2024-11-14T00:26:57.786021Z",
     "iopub.status.idle": "2024-11-14T00:26:57.799121Z",
     "shell.execute_reply": "2024-11-14T00:26:57.798683Z",
     "shell.execute_reply.started": "2024-11-14T00:26:57.786214Z"
    }
   },
   "outputs": [],
   "source": [
    "def moving_avg_w_euclidean_thresh(sorted_df, window_sz, thresh, typ=1):\n",
    "    # Calculate the moving average for each axis\n",
    "    sorted_df['y_moving_avg'] = sorted_df['y'].rolling(window=window_sz, center=True, closed='both').mean()\n",
    "    sorted_df['z_moving_avg'] = sorted_df['z'].rolling(window=window_sz, center=True, closed='both').mean()\n",
    "    sorted_df['x_moving_avg'] = sorted_df['x'].rolling(window=window_sz, center=True, closed='both').mean()\n",
    "    \n",
    "    # Calculate the Euclidean distance between the original 'x', 'y', 'z' values and their moving averages\n",
    "    sorted_df['moving_avg_distance'] = np.sqrt(\n",
    "        (sorted_df['x'] - sorted_df['x_moving_avg'])**2 +\n",
    "        (sorted_df['y'] - sorted_df['y_moving_avg'])**2 +\n",
    "        (sorted_df['z'] - sorted_df['z_moving_avg'])**2\n",
    "    )\n",
    "    \n",
    "    # Replace the 'x', 'y', and 'z' values with their respective moving averages if the distance is below the threshold\n",
    "    modified_points = (sorted_df['moving_avg_distance'] < thresh).sum()\n",
    "    sorted_df['x'] = np.where(sorted_df['moving_avg_distance'] < thresh, sorted_df['x_moving_avg'], sorted_df['x'])\n",
    "    sorted_df['y'] = np.where(sorted_df['moving_avg_distance'] < thresh, sorted_df['y_moving_avg'], sorted_df['y'])\n",
    "    sorted_df['z'] = np.where(sorted_df['moving_avg_distance'] < thresh, sorted_df['z_moving_avg'], sorted_df['z'])\n",
    "    sorted_df['type'] = typ\n",
    "    # before drop columns, displaying the df\n",
    "    complete_df = sorted_df.copy()\n",
    "    display(complete_df)\n",
    "    # Drop the moving average and distance columns\n",
    "    sorted_df.drop(columns=['x_moving_avg', 'y_moving_avg', 'z_moving_avg', 'moving_avg_distance'], inplace=True)\n",
    "\n",
    "    return sorted_df, modified_points"
   ]
  },
  {
   "cell_type": "markdown",
   "id": "2fd9bcc3-1780-4864-9636-af0d0d079d21",
   "metadata": {},
   "source": [
    "bons parametros de suavização para o OP_1test.swc (moving_avg=False) 0.538 -> 0.841\n",
    "\n",
    "new_df = moving_avg_w_euclidean_thresh(sorted_df, 3, 4)\n"
   ]
  },
  {
   "cell_type": "code",
   "execution_count": 6,
   "id": "71e0602f-0870-4256-a358-1fd94bd11941",
   "metadata": {
    "execution": {
     "iopub.execute_input": "2024-11-14T00:26:57.799987Z",
     "iopub.status.busy": "2024-11-14T00:26:57.799612Z",
     "iopub.status.idle": "2024-11-14T00:26:57.835441Z",
     "shell.execute_reply": "2024-11-14T00:26:57.834739Z",
     "shell.execute_reply.started": "2024-11-14T00:26:57.799967Z"
    }
   },
   "outputs": [
    {
     "data": {
      "text/html": [
       "<div>\n",
       "<style scoped>\n",
       "    .dataframe tbody tr th:only-of-type {\n",
       "        vertical-align: middle;\n",
       "    }\n",
       "\n",
       "    .dataframe tbody tr th {\n",
       "        vertical-align: top;\n",
       "    }\n",
       "\n",
       "    .dataframe thead th {\n",
       "        text-align: right;\n",
       "    }\n",
       "</style>\n",
       "<table border=\"1\" class=\"dataframe\">\n",
       "  <thead>\n",
       "    <tr style=\"text-align: right;\">\n",
       "      <th></th>\n",
       "      <th>id</th>\n",
       "      <th>type</th>\n",
       "      <th>x</th>\n",
       "      <th>y</th>\n",
       "      <th>z</th>\n",
       "      <th>radius</th>\n",
       "      <th>parent_id</th>\n",
       "      <th>y_moving_avg</th>\n",
       "      <th>z_moving_avg</th>\n",
       "      <th>x_moving_avg</th>\n",
       "      <th>moving_avg_distance</th>\n",
       "    </tr>\n",
       "  </thead>\n",
       "  <tbody>\n",
       "    <tr>\n",
       "      <th>0</th>\n",
       "      <td>1</td>\n",
       "      <td>4</td>\n",
       "      <td>1.000000</td>\n",
       "      <td>391.0</td>\n",
       "      <td>26.000000</td>\n",
       "      <td>1.0</td>\n",
       "      <td>-1</td>\n",
       "      <td>NaN</td>\n",
       "      <td>NaN</td>\n",
       "      <td>NaN</td>\n",
       "      <td>NaN</td>\n",
       "    </tr>\n",
       "    <tr>\n",
       "      <th>1</th>\n",
       "      <td>2</td>\n",
       "      <td>4</td>\n",
       "      <td>1.000000</td>\n",
       "      <td>392.0</td>\n",
       "      <td>26.000000</td>\n",
       "      <td>1.0</td>\n",
       "      <td>1</td>\n",
       "      <td>NaN</td>\n",
       "      <td>NaN</td>\n",
       "      <td>NaN</td>\n",
       "      <td>NaN</td>\n",
       "    </tr>\n",
       "    <tr>\n",
       "      <th>2</th>\n",
       "      <td>3</td>\n",
       "      <td>4</td>\n",
       "      <td>1.000000</td>\n",
       "      <td>390.0</td>\n",
       "      <td>26.000000</td>\n",
       "      <td>1.0</td>\n",
       "      <td>1</td>\n",
       "      <td>NaN</td>\n",
       "      <td>NaN</td>\n",
       "      <td>NaN</td>\n",
       "      <td>NaN</td>\n",
       "    </tr>\n",
       "    <tr>\n",
       "      <th>3</th>\n",
       "      <td>4</td>\n",
       "      <td>4</td>\n",
       "      <td>1.571429</td>\n",
       "      <td>389.0</td>\n",
       "      <td>26.571429</td>\n",
       "      <td>1.0</td>\n",
       "      <td>3</td>\n",
       "      <td>389.000000</td>\n",
       "      <td>26.571429</td>\n",
       "      <td>1.571429</td>\n",
       "      <td>0.606092</td>\n",
       "    </tr>\n",
       "    <tr>\n",
       "      <th>4</th>\n",
       "      <td>5</td>\n",
       "      <td>4</td>\n",
       "      <td>1.625000</td>\n",
       "      <td>388.5</td>\n",
       "      <td>26.625000</td>\n",
       "      <td>1.0</td>\n",
       "      <td>4</td>\n",
       "      <td>388.500000</td>\n",
       "      <td>26.625000</td>\n",
       "      <td>1.625000</td>\n",
       "      <td>0.728869</td>\n",
       "    </tr>\n",
       "    <tr>\n",
       "      <th>...</th>\n",
       "      <td>...</td>\n",
       "      <td>...</td>\n",
       "      <td>...</td>\n",
       "      <td>...</td>\n",
       "      <td>...</td>\n",
       "      <td>...</td>\n",
       "      <td>...</td>\n",
       "      <td>...</td>\n",
       "      <td>...</td>\n",
       "      <td>...</td>\n",
       "      <td>...</td>\n",
       "    </tr>\n",
       "    <tr>\n",
       "      <th>785</th>\n",
       "      <td>786</td>\n",
       "      <td>4</td>\n",
       "      <td>225.500000</td>\n",
       "      <td>185.0</td>\n",
       "      <td>66.500000</td>\n",
       "      <td>1.0</td>\n",
       "      <td>785</td>\n",
       "      <td>185.000000</td>\n",
       "      <td>66.500000</td>\n",
       "      <td>225.500000</td>\n",
       "      <td>0.707107</td>\n",
       "    </tr>\n",
       "    <tr>\n",
       "      <th>786</th>\n",
       "      <td>787</td>\n",
       "      <td>4</td>\n",
       "      <td>226.250000</td>\n",
       "      <td>184.5</td>\n",
       "      <td>66.750000</td>\n",
       "      <td>1.0</td>\n",
       "      <td>786</td>\n",
       "      <td>184.500000</td>\n",
       "      <td>66.750000</td>\n",
       "      <td>226.250000</td>\n",
       "      <td>0.935414</td>\n",
       "    </tr>\n",
       "    <tr>\n",
       "      <th>787</th>\n",
       "      <td>788</td>\n",
       "      <td>4</td>\n",
       "      <td>228.000000</td>\n",
       "      <td>183.0</td>\n",
       "      <td>66.000000</td>\n",
       "      <td>1.0</td>\n",
       "      <td>787</td>\n",
       "      <td>184.142857</td>\n",
       "      <td>66.857143</td>\n",
       "      <td>226.714286</td>\n",
       "      <td>1.921946</td>\n",
       "    </tr>\n",
       "    <tr>\n",
       "      <th>788</th>\n",
       "      <td>789</td>\n",
       "      <td>4</td>\n",
       "      <td>229.000000</td>\n",
       "      <td>182.0</td>\n",
       "      <td>66.000000</td>\n",
       "      <td>1.0</td>\n",
       "      <td>788</td>\n",
       "      <td>NaN</td>\n",
       "      <td>NaN</td>\n",
       "      <td>NaN</td>\n",
       "      <td>NaN</td>\n",
       "    </tr>\n",
       "    <tr>\n",
       "      <th>789</th>\n",
       "      <td>790</td>\n",
       "      <td>4</td>\n",
       "      <td>228.000000</td>\n",
       "      <td>184.0</td>\n",
       "      <td>68.000000</td>\n",
       "      <td>1.0</td>\n",
       "      <td>787</td>\n",
       "      <td>NaN</td>\n",
       "      <td>NaN</td>\n",
       "      <td>NaN</td>\n",
       "      <td>NaN</td>\n",
       "    </tr>\n",
       "  </tbody>\n",
       "</table>\n",
       "<p>790 rows × 11 columns</p>\n",
       "</div>"
      ],
      "text/plain": [
       "      id  type           x      y          z  radius  parent_id  y_moving_avg  \\\n",
       "0      1     4    1.000000  391.0  26.000000     1.0         -1           NaN   \n",
       "1      2     4    1.000000  392.0  26.000000     1.0          1           NaN   \n",
       "2      3     4    1.000000  390.0  26.000000     1.0          1           NaN   \n",
       "3      4     4    1.571429  389.0  26.571429     1.0          3    389.000000   \n",
       "4      5     4    1.625000  388.5  26.625000     1.0          4    388.500000   \n",
       "..   ...   ...         ...    ...        ...     ...        ...           ...   \n",
       "785  786     4  225.500000  185.0  66.500000     1.0        785    185.000000   \n",
       "786  787     4  226.250000  184.5  66.750000     1.0        786    184.500000   \n",
       "787  788     4  228.000000  183.0  66.000000     1.0        787    184.142857   \n",
       "788  789     4  229.000000  182.0  66.000000     1.0        788           NaN   \n",
       "789  790     4  228.000000  184.0  68.000000     1.0        787           NaN   \n",
       "\n",
       "     z_moving_avg  x_moving_avg  moving_avg_distance  \n",
       "0             NaN           NaN                  NaN  \n",
       "1             NaN           NaN                  NaN  \n",
       "2             NaN           NaN                  NaN  \n",
       "3       26.571429      1.571429             0.606092  \n",
       "4       26.625000      1.625000             0.728869  \n",
       "..            ...           ...                  ...  \n",
       "785     66.500000    225.500000             0.707107  \n",
       "786     66.750000    226.250000             0.935414  \n",
       "787     66.857143    226.714286             1.921946  \n",
       "788           NaN           NaN                  NaN  \n",
       "789           NaN           NaN                  NaN  \n",
       "\n",
       "[790 rows x 11 columns]"
      ]
     },
     "metadata": {},
     "output_type": "display_data"
    },
    {
     "name": "stdout",
     "output_type": "stream",
     "text": [
      "modified points:  726\n"
     ]
    }
   ],
   "source": [
    "# Sort the DataFrame by 'id' in ascending order\n",
    "sorted_df = df1.sort_values(by='id')\n",
    "\n",
    "# Apply the moving average with Euclidean distance threshold\n",
    "new_df, modified_points_asc = moving_avg_w_euclidean_thresh(sorted_df, 5, 1.5, 4)\n",
    "new_df.to_csv('OP_2_modified-c.swc', sep=' ', index=False, header=False)\n",
    "print(\"modified points: \", modified_points_asc)\n",
    "# # Sort the resulting DataFrame by 'id' in descending order\n",
    "# sorted_df_desc = new_df.sort_values(by='id', ascending=False)\n",
    "\n",
    "# # Apply the moving average with Euclidean distance threshold again\n",
    "# final_df, modified_points_desc = moving_avg_w_euclidean_thresh(sorted_df_desc, 5, 1.5, 4)\n",
    "\n",
    "# # Sort the final DataFrame by 'id' in ascending order\n",
    "# final_df_sorted = final_df.sort_values(by='id')"
   ]
  },
  {
   "cell_type": "markdown",
   "id": "ff5b264d-9230-48b3-aa8c-f40b0a61a142",
   "metadata": {},
   "source": [
    "nov 12 - Agora aplica a media movel em ordem crescente, e depois em ordem decrescente"
   ]
  },
  {
   "cell_type": "code",
   "execution_count": 7,
   "id": "8117e521-f8ae-4562-961c-d1fdfd9b89de",
   "metadata": {
    "execution": {
     "iopub.execute_input": "2024-11-14T00:26:57.836582Z",
     "iopub.status.busy": "2024-11-14T00:26:57.836312Z",
     "iopub.status.idle": "2024-11-14T00:26:57.840146Z",
     "shell.execute_reply": "2024-11-14T00:26:57.839318Z",
     "shell.execute_reply.started": "2024-11-14T00:26:57.836559Z"
    }
   },
   "outputs": [],
   "source": [
    "# # Count the total number of modified points\n",
    "# num_rows = len(final_df_sorted)\n",
    "# total_modified_points = (((modified_points_asc + modified_points_desc)/num_rows)-1)*num_rows\n",
    "# print(f\"Total number of modified points: {total_modified_points}\\n(((modified_points_asc + modified_points_desc)/num_rows)-1)*num_rows\")\n",
    "\n",
    "# # Save the modified DataFrame to a new file without the header\n",
    "# #final_df_sorted.to_csv('OP_1_modified-f.swc', sep=' ', index=False, header=False)\n",
    "# final_df_sorted.to_csv('OP_3_modified-f.swc', sep=' ', index=False, header=False)"
   ]
  }
 ],
 "metadata": {
  "kernelspec": {
   "display_name": "Python 3 (ipykernel)",
   "language": "python",
   "name": "python3"
  },
  "language_info": {
   "codemirror_mode": {
    "name": "ipython",
    "version": 3
   },
   "file_extension": ".py",
   "mimetype": "text/x-python",
   "name": "python",
   "nbconvert_exporter": "python",
   "pygments_lexer": "ipython3",
   "version": "3.12.7"
  }
 },
 "nbformat": 4,
 "nbformat_minor": 5
}
